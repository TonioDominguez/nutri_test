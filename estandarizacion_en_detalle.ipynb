{
 "cells": [
  {
   "cell_type": "code",
   "execution_count": 1,
   "metadata": {},
   "outputs": [],
   "source": [
    "import pandas as pd"
   ]
  },
  {
   "cell_type": "code",
   "execution_count": 2,
   "metadata": {},
   "outputs": [],
   "source": [
    "data = pd.read_csv('ingredientes_estandarizados.csv')"
   ]
  },
  {
   "cell_type": "code",
   "execution_count": 3,
   "metadata": {},
   "outputs": [],
   "source": [
    "df = data.copy()"
   ]
  },
  {
   "cell_type": "code",
   "execution_count": 4,
   "metadata": {},
   "outputs": [
    {
     "data": {
      "application/vnd.microsoft.datawrangler.viewer.v0+json": {
       "columns": [
        {
         "name": "index",
         "rawType": "int64",
         "type": "integer"
        },
        {
         "name": "receta",
         "rawType": "object",
         "type": "string"
        },
        {
         "name": "ingrediente_original",
         "rawType": "object",
         "type": "string"
        },
        {
         "name": "cantidad",
         "rawType": "float64",
         "type": "float"
        },
        {
         "name": "unidad",
         "rawType": "object",
         "type": "unknown"
        },
        {
         "name": "ingrediente_estandar",
         "rawType": "object",
         "type": "string"
        }
       ],
       "conversionMethod": "pd.DataFrame",
       "ref": "9c03b4a5-83f5-4cfa-8d18-8f4c502f913c",
       "rows": [
        [
         "0",
         "Iogurt grec amb fraules",
         "Iogurt grec 200g",
         "200.0",
         "g",
         "iogurt grec"
        ],
        [
         "1",
         "Iogurt grec amb fraules",
         "Fraules 100-150g",
         "150.0",
         "g",
         "fraules"
        ],
        [
         "2",
         "Iogurt grec amb fraules",
         "Nous i ametlles 30g",
         "30.0",
         "g",
         "nous i ametlles"
        ],
        [
         "3",
         "Iogurt grec amb fraules",
         "Xía 10-20g",
         "20.0",
         "g",
         "xia"
        ],
        [
         "4",
         "Iogurt grec amb fraules",
         "Canyella al gust",
         null,
         null,
         "canyella"
        ],
        [
         "5",
         "Solomillo de vedella Strogonoff i arròs basmati",
         "Solomillo de vedella 150-200g",
         "200.0",
         "g",
         "solomillo de vedella"
        ],
        [
         "6",
         "Solomillo de vedella Strogonoff i arròs basmati",
         "Xampinyons 100g",
         "100.0",
         "g",
         "xampinyons"
        ],
        [
         "7",
         "Solomillo de vedella Strogonoff i arròs basmati",
         "Ceba blanca 50g",
         "50.0",
         "g",
         "ceba blanca"
        ],
        [
         "8",
         "Solomillo de vedella Strogonoff i arròs basmati",
         "Alls 2",
         null,
         null,
         "alls 2"
        ],
        [
         "9",
         "Solomillo de vedella Strogonoff i arròs basmati",
         "Julivert fresc 3g",
         "3.0",
         "g",
         "julivert fresc"
        ],
        [
         "10",
         "Solomillo de vedella Strogonoff i arròs basmati",
         "Oli d’oliva verge 7g (½ cullerada)",
         "7.0",
         "g",
         "oli d'oliva verge"
        ],
        [
         "11",
         "Solomillo de vedella Strogonoff i arròs basmati",
         "Mantega 10g",
         "10.0",
         "g",
         "mantega"
        ],
        [
         "12",
         "Solomillo de vedella Strogonoff i arròs basmati",
         "Nata líquida 30g",
         "30.0",
         "g",
         "nata liquida"
        ],
        [
         "13",
         "Solomillo de vedella Strogonoff i arròs basmati",
         "Tomí (sec) 0,5g (3g si fresc)",
         "0.5",
         "g",
         "tomi"
        ],
        [
         "14",
         "Solomillo de vedella Strogonoff i arròs basmati",
         "Agua 10g",
         "10.0",
         "g",
         "agua"
        ],
        [
         "15",
         "Solomillo de vedella Strogonoff i arròs basmati",
         "Sal i pebre bo al gust",
         null,
         null,
         "sal i pebre bo"
        ],
        [
         "16",
         "Espàrrecs embolicats en pernil",
         "½ manat d’espàrrecs",
         "0.5",
         null,
         "manat de esparrecs"
        ],
        [
         "17",
         "Espàrrecs embolicats en pernil",
         "3-4 llesques de pernil salat",
         "4.0",
         "l",
         "lesques de pernil salat"
        ],
        [
         "18",
         "Espàrrecs embolicats en pernil",
         "Oli d’oliva",
         null,
         null,
         "oli d'oliva"
        ],
        [
         "19",
         "Mini amanida verda",
         "20g d'enciam roman",
         "20.0",
         "g",
         "enciam roman"
        ],
        [
         "20",
         "Mini amanida verda",
         "15g de ruca",
         "15.0",
         "g",
         "ruca"
        ],
        [
         "21",
         "Mini amanida verda",
         "20g d'espinacs",
         "20.0",
         "g",
         "espinacs"
        ],
        [
         "22",
         "Mini amanida verda",
         "15g de kale",
         "15.0",
         "g",
         "kale"
        ],
        [
         "23",
         "Mini amanida verda",
         "15ml d'oli d'oliva (1 cullerada)",
         "15.0",
         "ml",
         "oli d'oliva"
        ],
        [
         "24",
         "Mini amanida verda",
         "5ml de vinagre (opcional)",
         "5.0",
         "ml",
         "vinagre"
        ],
        [
         "25",
         "Mini amanida verda",
         "Sal",
         null,
         null,
         "sal"
        ],
        [
         "26",
         "Cuinat de llenties",
         "150g de llenties crues",
         "150.0",
         "g",
         "llenties crues"
        ],
        [
         "27",
         "Cuinat de llenties",
         "750ml d'aigua",
         "750.0",
         "ml",
         "aigua"
        ],
        [
         "28",
         "Cuinat de llenties",
         "2 dents d'all",
         "2.0",
         null,
         "dent de s d'all"
        ],
        [
         "29",
         "Cuinat de llenties",
         "1 full de llorer",
         "1.0",
         null,
         "full de llorer"
        ],
        [
         "30",
         "Cuinat de llenties",
         "15ml d'oli d'oliva",
         "15.0",
         "ml",
         "oli d'oliva"
        ],
        [
         "31",
         "Cuinat de llenties",
         "200 g de ceba blanca",
         "200.0",
         "g",
         "ceba blanca"
        ],
        [
         "32",
         "Cuinat de llenties",
         "0.3g de comí en pols (opcional)",
         "0.3",
         "g",
         "comi en pols"
        ],
        [
         "33",
         "Cuinat de llenties",
         "0.5g de pebre vermell dolç (opcional)",
         "0.5",
         "g",
         "pebre vermell dolc"
        ],
        [
         "34",
         "Cuinat de llenties",
         "100 g d'espinacs fresques (o kale)",
         "100.0",
         "g",
         "espinacs fresques"
        ],
        [
         "35",
         "Cuinat de llenties",
         "Sal al gust",
         null,
         null,
         "sal"
        ],
        [
         "36",
         "amanida",
         "45g d'enciam roman",
         "45.0",
         "g",
         "enciam roman"
        ],
        [
         "37",
         "amanida",
         "25g de ruca",
         "25.0",
         "g",
         "ruca"
        ],
        [
         "38",
         "amanida",
         "25g d'espinacs",
         "25.0",
         "g",
         "espinacs"
        ],
        [
         "39",
         "amanida",
         "20g de kale",
         "20.0",
         "g",
         "kale"
        ],
        [
         "40",
         "amanida",
         "15ml d'oli d'oliva (1 cullerada)",
         "15.0",
         "ml",
         "oli d'oliva"
        ],
        [
         "41",
         "amanida",
         "5 ml de vinagre (opcional)",
         "5.0",
         "ml",
         "vinagre"
        ],
        [
         "42",
         "amanida",
         "Sal",
         null,
         null,
         "sal"
        ],
        [
         "43",
         "Ous frits amb pernil salat i ½ alvocat",
         "3 ous",
         "3.0",
         null,
         "ou de s"
        ],
        [
         "44",
         "Ous frits amb pernil salat i ½ alvocat",
         "30g de cuixot salat",
         "30.0",
         "g",
         "cuixot salat"
        ],
        [
         "45",
         "Ous frits amb pernil salat i ½ alvocat",
         "7ml d'oli d'oliva (1⁄2 cullerada)",
         "7.0",
         "ml",
         "oli d'oliva"
        ],
        [
         "46",
         "Ous frits amb pernil salat i ½ alvocat",
         "Sal i pebre al gust",
         null,
         null,
         "sal i pebre"
        ],
        [
         "47",
         "Ous frits amb pernil salat i ½ alvocat",
         "½ alvocat",
         "0.5",
         null,
         "alvocat"
        ],
        [
         "48",
         "Costelles de porc al romaní i boniato (prebiòtc)",
         "250 g de costella de porc amb os (veure observacions)",
         "250.0",
         "g",
         "costella de porc amb os"
        ],
        [
         "49",
         "Costelles de porc al romaní i boniato (prebiòtc)",
         "2g de romaní fresc (0.5g si és en sec)",
         "2.0",
         "g",
         "romani fresc"
        ]
       ],
       "shape": {
        "columns": 5,
        "rows": 1063
       }
      },
      "text/html": [
       "<div>\n",
       "<style scoped>\n",
       "    .dataframe tbody tr th:only-of-type {\n",
       "        vertical-align: middle;\n",
       "    }\n",
       "\n",
       "    .dataframe tbody tr th {\n",
       "        vertical-align: top;\n",
       "    }\n",
       "\n",
       "    .dataframe thead th {\n",
       "        text-align: right;\n",
       "    }\n",
       "</style>\n",
       "<table border=\"1\" class=\"dataframe\">\n",
       "  <thead>\n",
       "    <tr style=\"text-align: right;\">\n",
       "      <th></th>\n",
       "      <th>receta</th>\n",
       "      <th>ingrediente_original</th>\n",
       "      <th>cantidad</th>\n",
       "      <th>unidad</th>\n",
       "      <th>ingrediente_estandar</th>\n",
       "    </tr>\n",
       "  </thead>\n",
       "  <tbody>\n",
       "    <tr>\n",
       "      <th>0</th>\n",
       "      <td>Iogurt grec amb fraules</td>\n",
       "      <td>Iogurt grec 200g</td>\n",
       "      <td>200.0</td>\n",
       "      <td>g</td>\n",
       "      <td>iogurt grec</td>\n",
       "    </tr>\n",
       "    <tr>\n",
       "      <th>1</th>\n",
       "      <td>Iogurt grec amb fraules</td>\n",
       "      <td>Fraules 100-150g</td>\n",
       "      <td>150.0</td>\n",
       "      <td>g</td>\n",
       "      <td>fraules</td>\n",
       "    </tr>\n",
       "    <tr>\n",
       "      <th>2</th>\n",
       "      <td>Iogurt grec amb fraules</td>\n",
       "      <td>Nous i ametlles 30g</td>\n",
       "      <td>30.0</td>\n",
       "      <td>g</td>\n",
       "      <td>nous i ametlles</td>\n",
       "    </tr>\n",
       "    <tr>\n",
       "      <th>3</th>\n",
       "      <td>Iogurt grec amb fraules</td>\n",
       "      <td>Xía 10-20g</td>\n",
       "      <td>20.0</td>\n",
       "      <td>g</td>\n",
       "      <td>xia</td>\n",
       "    </tr>\n",
       "    <tr>\n",
       "      <th>4</th>\n",
       "      <td>Iogurt grec amb fraules</td>\n",
       "      <td>Canyella al gust</td>\n",
       "      <td>NaN</td>\n",
       "      <td>NaN</td>\n",
       "      <td>canyella</td>\n",
       "    </tr>\n",
       "    <tr>\n",
       "      <th>...</th>\n",
       "      <td>...</td>\n",
       "      <td>...</td>\n",
       "      <td>...</td>\n",
       "      <td>...</td>\n",
       "      <td>...</td>\n",
       "    </tr>\n",
       "    <tr>\n",
       "      <th>1058</th>\n",
       "      <td>Pollastre al forn a les fines herbes</td>\n",
       "      <td>5g de romaní fresc (1g en pols)</td>\n",
       "      <td>5.0</td>\n",
       "      <td>g</td>\n",
       "      <td>romani fresc</td>\n",
       "    </tr>\n",
       "    <tr>\n",
       "      <th>1059</th>\n",
       "      <td>Pollastre al forn a les fines herbes</td>\n",
       "      <td>5g d'orenga fresc (0.5g en pols)</td>\n",
       "      <td>5.0</td>\n",
       "      <td>g</td>\n",
       "      <td>orenga fresc</td>\n",
       "    </tr>\n",
       "    <tr>\n",
       "      <th>1060</th>\n",
       "      <td>Pollastre al forn a les fines herbes</td>\n",
       "      <td>15g de mostassa Dijon</td>\n",
       "      <td>15.0</td>\n",
       "      <td>g</td>\n",
       "      <td>mostassa dijon</td>\n",
       "    </tr>\n",
       "    <tr>\n",
       "      <th>1061</th>\n",
       "      <td>Pollastre al forn a les fines herbes</td>\n",
       "      <td>15ml d'oli d'oliva (una cullerada)</td>\n",
       "      <td>15.0</td>\n",
       "      <td>ml</td>\n",
       "      <td>oli d'oliva</td>\n",
       "    </tr>\n",
       "    <tr>\n",
       "      <th>1062</th>\n",
       "      <td>Pollastre al forn a les fines herbes</td>\n",
       "      <td>Sal i pebre al gust</td>\n",
       "      <td>NaN</td>\n",
       "      <td>NaN</td>\n",
       "      <td>sal i pebre</td>\n",
       "    </tr>\n",
       "  </tbody>\n",
       "</table>\n",
       "<p>1063 rows × 5 columns</p>\n",
       "</div>"
      ],
      "text/plain": [
       "                                    receta  \\\n",
       "0                  Iogurt grec amb fraules   \n",
       "1                  Iogurt grec amb fraules   \n",
       "2                  Iogurt grec amb fraules   \n",
       "3                  Iogurt grec amb fraules   \n",
       "4                  Iogurt grec amb fraules   \n",
       "...                                    ...   \n",
       "1058  Pollastre al forn a les fines herbes   \n",
       "1059  Pollastre al forn a les fines herbes   \n",
       "1060  Pollastre al forn a les fines herbes   \n",
       "1061  Pollastre al forn a les fines herbes   \n",
       "1062  Pollastre al forn a les fines herbes   \n",
       "\n",
       "                    ingrediente_original  cantidad unidad ingrediente_estandar  \n",
       "0                       Iogurt grec 200g     200.0      g          iogurt grec  \n",
       "1                       Fraules 100-150g     150.0      g              fraules  \n",
       "2                    Nous i ametlles 30g      30.0      g      nous i ametlles  \n",
       "3                             Xía 10-20g      20.0      g                  xia  \n",
       "4                       Canyella al gust       NaN    NaN             canyella  \n",
       "...                                  ...       ...    ...                  ...  \n",
       "1058     5g de romaní fresc (1g en pols)       5.0      g         romani fresc  \n",
       "1059    5g d'orenga fresc (0.5g en pols)       5.0      g         orenga fresc  \n",
       "1060               15g de mostassa Dijon      15.0      g       mostassa dijon  \n",
       "1061  15ml d'oli d'oliva (una cullerada)      15.0     ml          oli d'oliva  \n",
       "1062                 Sal i pebre al gust       NaN    NaN          sal i pebre  \n",
       "\n",
       "[1063 rows x 5 columns]"
      ]
     },
     "execution_count": 4,
     "metadata": {},
     "output_type": "execute_result"
    }
   ],
   "source": [
    "df"
   ]
  },
  {
   "cell_type": "code",
   "execution_count": 5,
   "metadata": {},
   "outputs": [
    {
     "data": {
      "text/plain": [
       "Index(['receta', 'ingrediente_original', 'cantidad', 'unidad',\n",
       "       'ingrediente_estandar'],\n",
       "      dtype='object')"
      ]
     },
     "execution_count": 5,
     "metadata": {},
     "output_type": "execute_result"
    }
   ],
   "source": [
    "df.columns"
   ]
  },
  {
   "cell_type": "code",
   "execution_count": 7,
   "metadata": {},
   "outputs": [
    {
     "data": {
      "text/plain": [
       "(1063, 5)"
      ]
     },
     "execution_count": 7,
     "metadata": {},
     "output_type": "execute_result"
    }
   ],
   "source": [
    "df.shape"
   ]
  },
  {
   "cell_type": "code",
   "execution_count": 8,
   "metadata": {},
   "outputs": [
    {
     "data": {
      "text/plain": [
       "418"
      ]
     },
     "execution_count": 8,
     "metadata": {},
     "output_type": "execute_result"
    }
   ],
   "source": [
    "df['ingrediente_estandar'].nunique()"
   ]
  },
  {
   "cell_type": "code",
   "execution_count": 156,
   "metadata": {},
   "outputs": [
    {
     "data": {
      "text/plain": [
       "ingrediente_estandar\n",
       "sal i pebre             88\n",
       "oli d'oliva             55\n",
       "alls                    45\n",
       "ous                     45\n",
       "llimona                 20\n",
       "ceba blanca             19\n",
       "formatge parmesa        14\n",
       "ceba morada             13\n",
       "mantega sense sal       13\n",
       "nata liquida            12\n",
       "alvocat                 12\n",
       "mantega                 11\n",
       "espinacs                11\n",
       "eritritol               10\n",
       "ruca                    10\n",
       "mostassa dijon           9\n",
       "tomaquets cherry         9\n",
       "xampinyons               9\n",
       "vinagre                  9\n",
       "essencia de vainilla     8\n",
       "salmo fumat              8\n",
       "ceba                     8\n",
       "oove, sal i pebre bo     7\n",
       "pastanaga                7\n",
       "bolets                   7\n",
       "Name: count, dtype: int64"
      ]
     },
     "execution_count": 156,
     "metadata": {},
     "output_type": "execute_result"
    }
   ],
   "source": [
    "df['ingrediente_estandar'].value_counts().head(25)"
   ]
  },
  {
   "cell_type": "code",
   "execution_count": 40,
   "metadata": {},
   "outputs": [],
   "source": [
    "df['ingrediente_estandar'].replace('tomaquets cherry madurs', 'tomaquets cherry', inplace=True)"
   ]
  },
  {
   "cell_type": "code",
   "execution_count": 42,
   "metadata": {},
   "outputs": [
    {
     "data": {
      "application/vnd.microsoft.datawrangler.viewer.v0+json": {
       "columns": [
        {
         "name": "index",
         "rawType": "int64",
         "type": "integer"
        },
        {
         "name": "receta",
         "rawType": "object",
         "type": "string"
        },
        {
         "name": "ingrediente_original",
         "rawType": "object",
         "type": "string"
        },
        {
         "name": "cantidad",
         "rawType": "float64",
         "type": "float"
        },
        {
         "name": "unidad",
         "rawType": "object",
         "type": "string"
        },
        {
         "name": "ingrediente_estandar",
         "rawType": "object",
         "type": "string"
        }
       ],
       "conversionMethod": "pd.DataFrame",
       "ref": "a1ee8b9c-8e4e-4d4d-9f78-5a33fe451725",
       "rows": [
        [
         "66",
         "Amanida tofu",
         "100 g de tomàquets cherry (o 1unitat mitjana de tomàquet)",
         "100.0",
         "g",
         "tomaquets cherry"
        ],
        [
         "224",
         "Fritatta de xerris amb xoriç",
         "120g de tomàquets cherry madurs",
         "120.0",
         "g",
         "tomaquets cherry"
        ],
        [
         "241",
         "Vinagreta de tomàquet cherry (opcional)",
         "40g de tomàquets cherry (4 unitats)",
         "40.0",
         "g",
         "tomaquets cherry"
        ],
        [
         "371",
         "Amanida thai de tofu (formatge tendre)",
         "100g de tomàquets cherry (o 1 unitat mitjana de tomàquet)",
         "100.0",
         "g",
         "tomaquets cherry"
        ],
        [
         "420",
         "Verdures",
         "50g de tomàquets cherry",
         "50.0",
         "g",
         "tomaquets cherry"
        ],
        [
         "457",
         "Tortilla de mozzarella i xerris",
         "70g de tomàquets cherry",
         "70.0",
         "g",
         "tomaquets cherry"
        ],
        [
         "502",
         "Frittata de xerris amb xoriç",
         "120g de tomàquets cherry madurs",
         "120.0",
         "g",
         "tomaquets cherry"
        ],
        [
         "514",
         "Verduretes al forn",
         "50g de tomàquets cherry",
         "50.0",
         "g",
         "tomaquets cherry"
        ],
        [
         "724",
         "Amanida de colors",
         "100g de tomàquets cherry (o 1 unitat mitjana de tomàquet)",
         "100.0",
         "g",
         "tomaquets cherry"
        ]
       ],
       "shape": {
        "columns": 5,
        "rows": 9
       }
      },
      "text/html": [
       "<div>\n",
       "<style scoped>\n",
       "    .dataframe tbody tr th:only-of-type {\n",
       "        vertical-align: middle;\n",
       "    }\n",
       "\n",
       "    .dataframe tbody tr th {\n",
       "        vertical-align: top;\n",
       "    }\n",
       "\n",
       "    .dataframe thead th {\n",
       "        text-align: right;\n",
       "    }\n",
       "</style>\n",
       "<table border=\"1\" class=\"dataframe\">\n",
       "  <thead>\n",
       "    <tr style=\"text-align: right;\">\n",
       "      <th></th>\n",
       "      <th>receta</th>\n",
       "      <th>ingrediente_original</th>\n",
       "      <th>cantidad</th>\n",
       "      <th>unidad</th>\n",
       "      <th>ingrediente_estandar</th>\n",
       "    </tr>\n",
       "  </thead>\n",
       "  <tbody>\n",
       "    <tr>\n",
       "      <th>66</th>\n",
       "      <td>Amanida tofu</td>\n",
       "      <td>100 g de tomàquets cherry (o 1unitat mitjana d...</td>\n",
       "      <td>100.0</td>\n",
       "      <td>g</td>\n",
       "      <td>tomaquets cherry</td>\n",
       "    </tr>\n",
       "    <tr>\n",
       "      <th>224</th>\n",
       "      <td>Fritatta de xerris amb xoriç</td>\n",
       "      <td>120g de tomàquets cherry madurs</td>\n",
       "      <td>120.0</td>\n",
       "      <td>g</td>\n",
       "      <td>tomaquets cherry</td>\n",
       "    </tr>\n",
       "    <tr>\n",
       "      <th>241</th>\n",
       "      <td>Vinagreta de tomàquet cherry (opcional)</td>\n",
       "      <td>40g de tomàquets cherry (4 unitats)</td>\n",
       "      <td>40.0</td>\n",
       "      <td>g</td>\n",
       "      <td>tomaquets cherry</td>\n",
       "    </tr>\n",
       "    <tr>\n",
       "      <th>371</th>\n",
       "      <td>Amanida thai de tofu (formatge tendre)</td>\n",
       "      <td>100g de tomàquets cherry (o 1 unitat mitjana d...</td>\n",
       "      <td>100.0</td>\n",
       "      <td>g</td>\n",
       "      <td>tomaquets cherry</td>\n",
       "    </tr>\n",
       "    <tr>\n",
       "      <th>420</th>\n",
       "      <td>Verdures</td>\n",
       "      <td>50g de tomàquets cherry</td>\n",
       "      <td>50.0</td>\n",
       "      <td>g</td>\n",
       "      <td>tomaquets cherry</td>\n",
       "    </tr>\n",
       "    <tr>\n",
       "      <th>457</th>\n",
       "      <td>Tortilla de mozzarella i xerris</td>\n",
       "      <td>70g de tomàquets cherry</td>\n",
       "      <td>70.0</td>\n",
       "      <td>g</td>\n",
       "      <td>tomaquets cherry</td>\n",
       "    </tr>\n",
       "    <tr>\n",
       "      <th>502</th>\n",
       "      <td>Frittata de xerris amb xoriç</td>\n",
       "      <td>120g de tomàquets cherry madurs</td>\n",
       "      <td>120.0</td>\n",
       "      <td>g</td>\n",
       "      <td>tomaquets cherry</td>\n",
       "    </tr>\n",
       "    <tr>\n",
       "      <th>514</th>\n",
       "      <td>Verduretes al forn</td>\n",
       "      <td>50g de tomàquets cherry</td>\n",
       "      <td>50.0</td>\n",
       "      <td>g</td>\n",
       "      <td>tomaquets cherry</td>\n",
       "    </tr>\n",
       "    <tr>\n",
       "      <th>724</th>\n",
       "      <td>Amanida de colors</td>\n",
       "      <td>100g de tomàquets cherry (o 1 unitat mitjana d...</td>\n",
       "      <td>100.0</td>\n",
       "      <td>g</td>\n",
       "      <td>tomaquets cherry</td>\n",
       "    </tr>\n",
       "  </tbody>\n",
       "</table>\n",
       "</div>"
      ],
      "text/plain": [
       "                                      receta  \\\n",
       "66                              Amanida tofu   \n",
       "224             Fritatta de xerris amb xoriç   \n",
       "241  Vinagreta de tomàquet cherry (opcional)   \n",
       "371   Amanida thai de tofu (formatge tendre)   \n",
       "420                                 Verdures   \n",
       "457          Tortilla de mozzarella i xerris   \n",
       "502             Frittata de xerris amb xoriç   \n",
       "514                       Verduretes al forn   \n",
       "724                        Amanida de colors   \n",
       "\n",
       "                                  ingrediente_original  cantidad unidad  \\\n",
       "66   100 g de tomàquets cherry (o 1unitat mitjana d...     100.0      g   \n",
       "224                    120g de tomàquets cherry madurs     120.0      g   \n",
       "241                40g de tomàquets cherry (4 unitats)      40.0      g   \n",
       "371  100g de tomàquets cherry (o 1 unitat mitjana d...     100.0      g   \n",
       "420                            50g de tomàquets cherry      50.0      g   \n",
       "457                            70g de tomàquets cherry      70.0      g   \n",
       "502                    120g de tomàquets cherry madurs     120.0      g   \n",
       "514                            50g de tomàquets cherry      50.0      g   \n",
       "724  100g de tomàquets cherry (o 1 unitat mitjana d...     100.0      g   \n",
       "\n",
       "    ingrediente_estandar  \n",
       "66      tomaquets cherry  \n",
       "224     tomaquets cherry  \n",
       "241     tomaquets cherry  \n",
       "371     tomaquets cherry  \n",
       "420     tomaquets cherry  \n",
       "457     tomaquets cherry  \n",
       "502     tomaquets cherry  \n",
       "514     tomaquets cherry  \n",
       "724     tomaquets cherry  "
      ]
     },
     "execution_count": 42,
     "metadata": {},
     "output_type": "execute_result"
    }
   ],
   "source": [
    "df[df['ingrediente_estandar'] == 'tomaquets cherry']"
   ]
  },
  {
   "cell_type": "code",
   "execution_count": 157,
   "metadata": {},
   "outputs": [
    {
     "data": {
      "application/vnd.microsoft.datawrangler.viewer.v0+json": {
       "columns": [
        {
         "name": "index",
         "rawType": "int64",
         "type": "integer"
        },
        {
         "name": "receta",
         "rawType": "object",
         "type": "string"
        },
        {
         "name": "ingrediente_original",
         "rawType": "object",
         "type": "string"
        },
        {
         "name": "cantidad",
         "rawType": "float64",
         "type": "float"
        },
        {
         "name": "unidad",
         "rawType": "object",
         "type": "unknown"
        },
        {
         "name": "ingrediente_estandar",
         "rawType": "object",
         "type": "string"
        }
       ],
       "conversionMethod": "pd.DataFrame",
       "ref": "2c6dcf75-b7ef-43d2-9076-aaf659a7e4f2",
       "rows": [
        [
         "2",
         "Iogurt grec amb fraules",
         "Nous i ametlles 30g",
         "30.0",
         "g",
         "nous i ametlles"
        ],
        [
         "43",
         "Ous frits amb pernil salat i ½ alvocat",
         "3 ous",
         "3.0",
         null,
         "ous"
        ],
        [
         "88",
         "Hamburguesa de salmó amb pernil salat i patata (probiòtica)",
         "1 ou",
         "1.0",
         "ou",
         "ous"
        ],
        [
         "105",
         "Gratén de peix",
         "275 ml d'aigua o de brou de peix",
         "275.0",
         "ml",
         "aigua o de brou de peix"
        ],
        [
         "110",
         "Gratén de peix",
         "0.5g de nou moscada (opcional)",
         "0.5",
         "g",
         "nou moscada"
        ],
        [
         "118",
         "Crema de pastanaga amb coco i gingebre",
         "330 ml de brou casolà de pollastre (o aigua)",
         "330.0",
         "ml",
         "brou casola de pollastre"
        ],
        [
         "134",
         "Amanida de sardines",
         "10g de nous (o pinyons)",
         "10.0",
         "g",
         "nous"
        ],
        [
         "136",
         "Frittata d’espinacs i formatge de cabra",
         "6 ous",
         "6.0",
         null,
         "ous"
        ],
        [
         "167",
         "Amanida grega",
         "10g de nous (o pinyons)",
         "10.0",
         "g",
         "nous"
        ],
        [
         "168",
         "Ous remenats amb formatge i cibulet",
         "3 ous",
         "3.0",
         null,
         "ous"
        ],
        [
         "182",
         "Pa de plàtan amb xispes de xocolata",
         "1 ou",
         "1.0",
         "ou",
         "ous"
        ],
        [
         "193",
         "Pa de plàtan amb xispes de xocolata",
         "10 g de nous picades",
         "10.0",
         "g",
         "nous picades"
        ],
        [
         "216",
         "Fumet de gambes (ceto)",
         "300 ml de brou de pollastre o peix",
         "300.0",
         "ml",
         "brou de pollastre o peix"
        ],
        [
         "220",
         "Fritatta de xerris amb xoriç",
         "6ous",
         "6.0",
         null,
         "ous"
        ],
        [
         "255",
         "Granola",
         "70g de nous naturals",
         "70.0",
         "g",
         "nous naturals"
        ],
        [
         "262",
         "Granola",
         "1 ou",
         "1.0",
         "ou",
         "ous"
        ],
        [
         "271",
         "Ous bullits amb salmó fumat, tàperes i maionesa",
         "2 ous",
         "2.0",
         null,
         "ous"
        ],
        [
         "284",
         "Risotto de coliflor amb gambes i bolets",
         "120ml d'aigua o brou de peix (o de verdures)",
         "120.0",
         "ml",
         "aigua o brou de peix"
        ],
        [
         "294",
         "Crema de carabassí",
         "350 ml de brou de pollastre",
         "350.0",
         "ml",
         "brou de pollastre"
        ],
        [
         "302",
         "Tortilla de coliflor, formatge i salmó",
         "1 ou",
         "1.0",
         "ou",
         "ous"
        ],
        [
         "339",
         "Ous remenats o fregits amb cuixot salat",
         "3 ous",
         "3.0",
         null,
         "ous"
        ],
        [
         "360",
         "Frittata de bròquil, cheddar i xoriç",
         "6 ous",
         "6.0",
         null,
         "ous"
        ],
        [
         "377",
         "Ous remenats amb formatge i espàrrecs",
         "3 ous",
         "3.0",
         null,
         "ous"
        ],
        [
         "388",
         "Crema de xampinyons",
         "500ml de brou de pollastre (o aigua)",
         "500.0",
         "ml",
         "brou de pollastre"
        ],
        [
         "394",
         "Crocant de formatge",
         "Espècies diverses: pebre bo, curry, pebre vermell, nou moscada…",
         null,
         null,
         "especies diverses: pebre bo, curry, pebre vermell, nou moscada..."
        ],
        [
         "395",
         "Ceto-creps",
         "2 ous",
         "2.0",
         null,
         "ous"
        ],
        [
         "401",
         "Ceto-creps",
         "1⁄2 culleradeta pols de coure (royal)",
         "0.5",
         null,
         "culleradeta pols de coure"
        ],
        [
         "427",
         "Ous a la planxa amb pernil salat",
         "3 ous",
         "3.0",
         null,
         "ous"
        ],
        [
         "440",
         "Amanida de tonyina i ou",
         "2 ou bullit",
         "2.0",
         null,
         "ou de bullit"
        ],
        [
         "441",
         "Ous remenats amb formatge i xampinyons",
         "3 ous",
         "3.0",
         null,
         "ous"
        ],
        [
         "442",
         "Ous remenats amb formatge i xampinyons",
         "30g de formatge gouda",
         "30.0",
         "g",
         "formatge gouda"
        ],
        [
         "452",
         "Pitera de pollastre Cordon-bleu",
         "60g de formatge gouda",
         "60.0",
         "g",
         "formatge gouda"
        ],
        [
         "456",
         "Tortilla de mozzarella i xerris",
         "3 ous",
         "3.0",
         null,
         "ous"
        ],
        [
         "465",
         "Muffins de nabius (sense sucre)",
         "2.5g de pols per coure (royal)",
         "2.5",
         "g",
         "pols per coure"
        ],
        [
         "469",
         "Muffins de nabius (sense sucre)",
         "1 ou",
         "1.0",
         "ou",
         "ous"
        ],
        [
         "475",
         "Ceto-Pizza",
         "1 ou (clara)",
         "1.0",
         "ou",
         "ous"
        ],
        [
         "486",
         "Coquitos de xocolata",
         "1 blanc d’ou",
         "1.0",
         null,
         "blanc de ou"
        ],
        [
         "498",
         "Frittata de xerris amb xoriç",
         "6ous",
         "6.0",
         null,
         "ous"
        ],
        [
         "542",
         "Amanida d’espinacs ruca, nous i nabius",
         "30g de nous",
         "30.0",
         "g",
         "nous"
        ],
        [
         "558",
         "Crema d’espinacs",
         "350ml de brou casolà de pollastre",
         "350.0",
         "ml",
         "brou casola de pollastre"
        ],
        [
         "562",
         "Tortitas de coliflor amb formatge i salmó fumat",
         "1 ou",
         "1.0",
         "ou",
         "ous"
        ],
        [
         "572",
         "Brioix de xocolata",
         "1 ou",
         "1.0",
         "ou",
         "ous"
        ],
        [
         "580",
         "Brioix de xocolata",
         "2g de pols de coure",
         "2.0",
         "g",
         "pols de coure"
        ],
        [
         "586",
         "Crema de pastanaga coco, gingebre",
         "300ml de brou casolà de pollastre (o aigua)",
         "300.0",
         "ml",
         "brou casola de pollastre"
        ],
        [
         "605",
         "Pa de lli",
         "2 ous sencers",
         "2.0",
         null,
         "ou de s sencers"
        ],
        [
         "606",
         "Pa de lli",
         "5 blancs d’ou1",
         "5.0",
         null,
         "blanc de s d'ou1"
        ],
        [
         "623",
         "Truita de gambes",
         "2 ous",
         "2.0",
         null,
         "ous"
        ],
        [
         "639",
         "Crema de xampinyons i Fruits secs",
         "500ml de brou de pollastre (o aigua)",
         "500.0",
         "ml",
         "brou de pollastre"
        ],
        [
         "644",
         "Crema de xampinyons i Fruits secs",
         "30g de fruits secs: ametlles, nous, avellanes…",
         "30.0",
         "g",
         "fruits secs: ametlles, nous, avellanes..."
        ],
        [
         "656",
         "Verdures bullides amb ous bullits",
         "3 ous",
         "3.0",
         null,
         "ous"
        ]
       ],
       "shape": {
        "columns": 5,
        "rows": 81
       }
      },
      "text/html": [
       "<div>\n",
       "<style scoped>\n",
       "    .dataframe tbody tr th:only-of-type {\n",
       "        vertical-align: middle;\n",
       "    }\n",
       "\n",
       "    .dataframe tbody tr th {\n",
       "        vertical-align: top;\n",
       "    }\n",
       "\n",
       "    .dataframe thead th {\n",
       "        text-align: right;\n",
       "    }\n",
       "</style>\n",
       "<table border=\"1\" class=\"dataframe\">\n",
       "  <thead>\n",
       "    <tr style=\"text-align: right;\">\n",
       "      <th></th>\n",
       "      <th>receta</th>\n",
       "      <th>ingrediente_original</th>\n",
       "      <th>cantidad</th>\n",
       "      <th>unidad</th>\n",
       "      <th>ingrediente_estandar</th>\n",
       "    </tr>\n",
       "  </thead>\n",
       "  <tbody>\n",
       "    <tr>\n",
       "      <th>2</th>\n",
       "      <td>Iogurt grec amb fraules</td>\n",
       "      <td>Nous i ametlles 30g</td>\n",
       "      <td>30.0</td>\n",
       "      <td>g</td>\n",
       "      <td>nous i ametlles</td>\n",
       "    </tr>\n",
       "    <tr>\n",
       "      <th>43</th>\n",
       "      <td>Ous frits amb pernil salat i ½ alvocat</td>\n",
       "      <td>3 ous</td>\n",
       "      <td>3.0</td>\n",
       "      <td>NaN</td>\n",
       "      <td>ous</td>\n",
       "    </tr>\n",
       "    <tr>\n",
       "      <th>88</th>\n",
       "      <td>Hamburguesa de salmó amb pernil salat i patata...</td>\n",
       "      <td>1 ou</td>\n",
       "      <td>1.0</td>\n",
       "      <td>ou</td>\n",
       "      <td>ous</td>\n",
       "    </tr>\n",
       "    <tr>\n",
       "      <th>105</th>\n",
       "      <td>Gratén de peix</td>\n",
       "      <td>275 ml d'aigua o de brou de peix</td>\n",
       "      <td>275.0</td>\n",
       "      <td>ml</td>\n",
       "      <td>aigua o de brou de peix</td>\n",
       "    </tr>\n",
       "    <tr>\n",
       "      <th>110</th>\n",
       "      <td>Gratén de peix</td>\n",
       "      <td>0.5g de nou moscada (opcional)</td>\n",
       "      <td>0.5</td>\n",
       "      <td>g</td>\n",
       "      <td>nou moscada</td>\n",
       "    </tr>\n",
       "    <tr>\n",
       "      <th>...</th>\n",
       "      <td>...</td>\n",
       "      <td>...</td>\n",
       "      <td>...</td>\n",
       "      <td>...</td>\n",
       "      <td>...</td>\n",
       "    </tr>\n",
       "    <tr>\n",
       "      <th>1000</th>\n",
       "      <td>Ous Remenats amb Espinacs i Alvocat</td>\n",
       "      <td>3 Ous</td>\n",
       "      <td>3.0</td>\n",
       "      <td>NaN</td>\n",
       "      <td>ous</td>\n",
       "    </tr>\n",
       "    <tr>\n",
       "      <th>1019</th>\n",
       "      <td>Truita amb formatge blau i espinacs</td>\n",
       "      <td>4 Ous</td>\n",
       "      <td>4.0</td>\n",
       "      <td>NaN</td>\n",
       "      <td>ous</td>\n",
       "    </tr>\n",
       "    <tr>\n",
       "      <th>1040</th>\n",
       "      <td>Pebrots farcits de peix i formatge.</td>\n",
       "      <td>1 ou (opcional, per lligar)</td>\n",
       "      <td>1.0</td>\n",
       "      <td>ou</td>\n",
       "      <td>ous</td>\n",
       "    </tr>\n",
       "    <tr>\n",
       "      <th>1043</th>\n",
       "      <td>Ou bullit amb salmó fumat i ½ alvocat</td>\n",
       "      <td>2 OU</td>\n",
       "      <td>2.0</td>\n",
       "      <td>ou</td>\n",
       "      <td>ous</td>\n",
       "    </tr>\n",
       "    <tr>\n",
       "      <th>1048</th>\n",
       "      <td>Ous remenats o fregits amb cuixot salat</td>\n",
       "      <td>3 ous</td>\n",
       "      <td>3.0</td>\n",
       "      <td>NaN</td>\n",
       "      <td>ous</td>\n",
       "    </tr>\n",
       "  </tbody>\n",
       "</table>\n",
       "<p>81 rows × 5 columns</p>\n",
       "</div>"
      ],
      "text/plain": [
       "                                                 receta  \\\n",
       "2                               Iogurt grec amb fraules   \n",
       "43               Ous frits amb pernil salat i ½ alvocat   \n",
       "88    Hamburguesa de salmó amb pernil salat i patata...   \n",
       "105                                      Gratén de peix   \n",
       "110                                      Gratén de peix   \n",
       "...                                                 ...   \n",
       "1000                Ous Remenats amb Espinacs i Alvocat   \n",
       "1019                Truita amb formatge blau i espinacs   \n",
       "1040                Pebrots farcits de peix i formatge.   \n",
       "1043              Ou bullit amb salmó fumat i ½ alvocat   \n",
       "1048            Ous remenats o fregits amb cuixot salat   \n",
       "\n",
       "                  ingrediente_original  cantidad unidad  \\\n",
       "2                  Nous i ametlles 30g      30.0      g   \n",
       "43                               3 ous       3.0    NaN   \n",
       "88                                1 ou       1.0     ou   \n",
       "105   275 ml d'aigua o de brou de peix     275.0     ml   \n",
       "110     0.5g de nou moscada (opcional)       0.5      g   \n",
       "...                                ...       ...    ...   \n",
       "1000                             3 Ous       3.0    NaN   \n",
       "1019                             4 Ous       4.0    NaN   \n",
       "1040       1 ou (opcional, per lligar)       1.0     ou   \n",
       "1043                              2 OU       2.0     ou   \n",
       "1048                             3 ous       3.0    NaN   \n",
       "\n",
       "         ingrediente_estandar  \n",
       "2             nous i ametlles  \n",
       "43                        ous  \n",
       "88                        ous  \n",
       "105   aigua o de brou de peix  \n",
       "110               nou moscada  \n",
       "...                       ...  \n",
       "1000                      ous  \n",
       "1019                      ous  \n",
       "1040                      ous  \n",
       "1043                      ous  \n",
       "1048                      ous  \n",
       "\n",
       "[81 rows x 5 columns]"
      ]
     },
     "execution_count": 157,
     "metadata": {},
     "output_type": "execute_result"
    }
   ],
   "source": [
    "df[df['ingrediente_estandar'].str.contains(\"ou\")]"
   ]
  },
  {
   "cell_type": "code",
   "execution_count": 154,
   "metadata": {},
   "outputs": [],
   "source": [
    "df.loc[[798], 'cantidad'] = 2"
   ]
  },
  {
   "cell_type": "code",
   "execution_count": 155,
   "metadata": {},
   "outputs": [],
   "source": [
    "df.loc[[798, 822], 'unidad'] = None"
   ]
  },
  {
   "cell_type": "code",
   "execution_count": 153,
   "metadata": {},
   "outputs": [],
   "source": [
    "df.loc[[798, 822], 'ingrediente_estandar'] = 'alls'"
   ]
  },
  {
   "cell_type": "code",
   "execution_count": null,
   "metadata": {},
   "outputs": [],
   "source": []
  }
 ],
 "metadata": {
  "kernelspec": {
   "display_name": "base",
   "language": "python",
   "name": "python3"
  },
  "language_info": {
   "codemirror_mode": {
    "name": "ipython",
    "version": 3
   },
   "file_extension": ".py",
   "mimetype": "text/x-python",
   "name": "python",
   "nbconvert_exporter": "python",
   "pygments_lexer": "ipython3",
   "version": "3.11.5"
  }
 },
 "nbformat": 4,
 "nbformat_minor": 2
}
