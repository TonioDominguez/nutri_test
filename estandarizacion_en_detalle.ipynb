{
 "cells": [
  {
   "cell_type": "code",
   "execution_count": 1,
   "metadata": {},
   "outputs": [],
   "source": [
    "import pandas as pd"
   ]
  },
  {
   "cell_type": "code",
   "execution_count": 2,
   "metadata": {},
   "outputs": [],
   "source": [
    "data = pd.read_csv('ingredientes_estandarizados.csv')"
   ]
  },
  {
   "cell_type": "code",
   "execution_count": 3,
   "metadata": {},
   "outputs": [],
   "source": [
    "df = data.copy()"
   ]
  },
  {
   "cell_type": "code",
   "execution_count": 16,
   "metadata": {},
   "outputs": [
    {
     "data": {
      "application/vnd.microsoft.datawrangler.viewer.v0+json": {
       "columns": [
        {
         "name": "index",
         "rawType": "int64",
         "type": "integer"
        },
        {
         "name": "receta",
         "rawType": "object",
         "type": "string"
        },
        {
         "name": "ingrediente_original",
         "rawType": "object",
         "type": "string"
        },
        {
         "name": "cantidad",
         "rawType": "float64",
         "type": "float"
        },
        {
         "name": "unidad",
         "rawType": "object",
         "type": "unknown"
        },
        {
         "name": "ingrediente_estandar",
         "rawType": "object",
         "type": "string"
        }
       ],
       "conversionMethod": "pd.DataFrame",
       "ref": "9c0c2b2a-471d-4975-8434-866cf34615af",
       "rows": [
        [
         "0",
         "Iogurt grec amb fraules",
         "Iogurt grec 200g",
         "200.0",
         "g",
         "iogurt grec"
        ],
        [
         "1",
         "Iogurt grec amb fraules",
         "Fraules 100-150g",
         "150.0",
         "g",
         "fraules"
        ],
        [
         "2",
         "Iogurt grec amb fraules",
         "Nous i ametlles 30g",
         "30.0",
         "g",
         "nous i ametlles"
        ],
        [
         "3",
         "Iogurt grec amb fraules",
         "Xía 10-20g",
         "20.0",
         "g",
         "xia"
        ],
        [
         "4",
         "Iogurt grec amb fraules",
         "Canyella al gust",
         null,
         null,
         "canyella"
        ],
        [
         "5",
         "Solomillo de vedella Strogonoff i arròs basmati",
         "Solomillo de vedella 150-200g",
         "200.0",
         "g",
         "solomillo de vedella"
        ],
        [
         "6",
         "Solomillo de vedella Strogonoff i arròs basmati",
         "Xampinyons 100g",
         "100.0",
         "g",
         "xampinyons"
        ],
        [
         "7",
         "Solomillo de vedella Strogonoff i arròs basmati",
         "Ceba blanca 50g",
         "50.0",
         "g",
         "ceba blanca"
        ],
        [
         "8",
         "Solomillo de vedella Strogonoff i arròs basmati",
         "Alls 2",
         "40.0",
         "g",
         "alls"
        ],
        [
         "9",
         "Solomillo de vedella Strogonoff i arròs basmati",
         "Julivert fresc 3g",
         null,
         null,
         "julivert"
        ],
        [
         "10",
         "Solomillo de vedella Strogonoff i arròs basmati",
         "Oli d’oliva verge 7g (½ cullerada)",
         null,
         null,
         "oli d'oliva"
        ],
        [
         "11",
         "Solomillo de vedella Strogonoff i arròs basmati",
         "Mantega 10g",
         null,
         null,
         "mantega"
        ],
        [
         "12",
         "Solomillo de vedella Strogonoff i arròs basmati",
         "Nata líquida 30g",
         "30.0",
         "ml",
         "nata liquida"
        ],
        [
         "13",
         "Solomillo de vedella Strogonoff i arròs basmati",
         "Tomí (sec) 0,5g (3g si fresc)",
         null,
         null,
         "tomi sec"
        ],
        [
         "14",
         "Solomillo de vedella Strogonoff i arròs basmati",
         "Agua 10g",
         null,
         null,
         "aigua"
        ],
        [
         "15",
         "Solomillo de vedella Strogonoff i arròs basmati",
         "Sal i pebre bo al gust",
         null,
         null,
         "sal i pebre"
        ],
        [
         "16",
         "Espàrrecs embolicats en pernil",
         "½ manat d’espàrrecs",
         "250.0",
         "g",
         "esparrecs"
        ],
        [
         "17",
         "Espàrrecs embolicats en pernil",
         "3-4 llesques de pernil salat",
         "80.0",
         "g",
         "pernil salat"
        ],
        [
         "18",
         "Espàrrecs embolicats en pernil",
         "Oli d’oliva",
         null,
         null,
         "oli d'oliva"
        ],
        [
         "19",
         "Mini amanida verda",
         "20g d'enciam roman",
         "20.0",
         "g",
         "enciam romana"
        ],
        [
         "20",
         "Mini amanida verda",
         "15g de ruca",
         "15.0",
         "g",
         "ruca"
        ],
        [
         "21",
         "Mini amanida verda",
         "20g d'espinacs",
         "20.0",
         "g",
         "espinacs"
        ],
        [
         "22",
         "Mini amanida verda",
         "15g de kale",
         "15.0",
         "g",
         "kale"
        ],
        [
         "23",
         "Mini amanida verda",
         "15ml d'oli d'oliva (1 cullerada)",
         null,
         null,
         "oli d'oliva"
        ],
        [
         "24",
         "Mini amanida verda",
         "5ml de vinagre (opcional)",
         null,
         null,
         "vinagre"
        ],
        [
         "25",
         "Mini amanida verda",
         "Sal",
         null,
         null,
         "sal i pebre"
        ],
        [
         "26",
         "Cuinat de llenties",
         "150g de llenties crues",
         "150.0",
         "g",
         "llenties crues"
        ],
        [
         "27",
         "Cuinat de llenties",
         "750ml d'aigua",
         null,
         null,
         "aigua"
        ],
        [
         "28",
         "Cuinat de llenties",
         "2 dents d'all",
         "4.0",
         "g",
         "alls"
        ],
        [
         "29",
         "Cuinat de llenties",
         "1 full de llorer",
         "1.0",
         null,
         "full de llorer"
        ],
        [
         "30",
         "Cuinat de llenties",
         "15ml d'oli d'oliva",
         null,
         null,
         "oli d'oliva"
        ],
        [
         "31",
         "Cuinat de llenties",
         "200 g de ceba blanca",
         "200.0",
         "g",
         "ceba blanca"
        ],
        [
         "32",
         "Cuinat de llenties",
         "0.3g de comí en pols (opcional)",
         null,
         null,
         "comi en pols"
        ],
        [
         "33",
         "Cuinat de llenties",
         "0.5g de pebre vermell dolç (opcional)",
         null,
         null,
         "pebre vermell dolc"
        ],
        [
         "34",
         "Cuinat de llenties",
         "100 g d'espinacs fresques (o kale)",
         "100.0",
         "g",
         "espinacs frescs"
        ],
        [
         "35",
         "Cuinat de llenties",
         "Sal al gust",
         null,
         null,
         "sal i pebre"
        ],
        [
         "36",
         "amanida",
         "45g d'enciam roman",
         "45.0",
         "g",
         "enciam romana"
        ],
        [
         "37",
         "amanida",
         "25g de ruca",
         "25.0",
         "g",
         "ruca"
        ],
        [
         "38",
         "amanida",
         "25g d'espinacs",
         "25.0",
         "g",
         "espinacs"
        ],
        [
         "39",
         "amanida",
         "20g de kale",
         "20.0",
         "g",
         "kale"
        ],
        [
         "40",
         "amanida",
         "15ml d'oli d'oliva (1 cullerada)",
         null,
         null,
         "oli d'oliva"
        ],
        [
         "41",
         "amanida",
         "5 ml de vinagre (opcional)",
         null,
         null,
         "vinagre"
        ],
        [
         "42",
         "amanida",
         "Sal",
         null,
         null,
         "sal i pebre"
        ],
        [
         "43",
         "Ous frits amb pernil salat i ½ alvocat",
         "3 ous",
         "3.0",
         null,
         "ous"
        ],
        [
         "44",
         "Ous frits amb pernil salat i ½ alvocat",
         "30g de cuixot salat",
         "30.0",
         "g",
         "cuixot salat"
        ],
        [
         "45",
         "Ous frits amb pernil salat i ½ alvocat",
         "7ml d'oli d'oliva (1⁄2 cullerada)",
         null,
         null,
         "oli d'oliva"
        ],
        [
         "46",
         "Ous frits amb pernil salat i ½ alvocat",
         "Sal i pebre al gust",
         null,
         null,
         "sal i pebre"
        ],
        [
         "47",
         "Ous frits amb pernil salat i ½ alvocat",
         "½ alvocat",
         "100.0",
         "g",
         "alvocat"
        ],
        [
         "48",
         "Costelles de porc al romaní i boniato (prebiòtc)",
         "250 g de costella de porc amb os (veure observacions)",
         "250.0",
         "g",
         "costella de porc"
        ],
        [
         "49",
         "Costelles de porc al romaní i boniato (prebiòtc)",
         "2g de romaní fresc (0.5g si és en sec)",
         null,
         null,
         "romani fresc"
        ]
       ],
       "shape": {
        "columns": 5,
        "rows": 1063
       }
      },
      "text/html": [
       "<div>\n",
       "<style scoped>\n",
       "    .dataframe tbody tr th:only-of-type {\n",
       "        vertical-align: middle;\n",
       "    }\n",
       "\n",
       "    .dataframe tbody tr th {\n",
       "        vertical-align: top;\n",
       "    }\n",
       "\n",
       "    .dataframe thead th {\n",
       "        text-align: right;\n",
       "    }\n",
       "</style>\n",
       "<table border=\"1\" class=\"dataframe\">\n",
       "  <thead>\n",
       "    <tr style=\"text-align: right;\">\n",
       "      <th></th>\n",
       "      <th>receta</th>\n",
       "      <th>ingrediente_original</th>\n",
       "      <th>cantidad</th>\n",
       "      <th>unidad</th>\n",
       "      <th>ingrediente_estandar</th>\n",
       "    </tr>\n",
       "  </thead>\n",
       "  <tbody>\n",
       "    <tr>\n",
       "      <th>0</th>\n",
       "      <td>Iogurt grec amb fraules</td>\n",
       "      <td>Iogurt grec 200g</td>\n",
       "      <td>200.0</td>\n",
       "      <td>g</td>\n",
       "      <td>iogurt grec</td>\n",
       "    </tr>\n",
       "    <tr>\n",
       "      <th>1</th>\n",
       "      <td>Iogurt grec amb fraules</td>\n",
       "      <td>Fraules 100-150g</td>\n",
       "      <td>150.0</td>\n",
       "      <td>g</td>\n",
       "      <td>fraules</td>\n",
       "    </tr>\n",
       "    <tr>\n",
       "      <th>2</th>\n",
       "      <td>Iogurt grec amb fraules</td>\n",
       "      <td>Nous i ametlles 30g</td>\n",
       "      <td>30.0</td>\n",
       "      <td>g</td>\n",
       "      <td>nous i ametlles</td>\n",
       "    </tr>\n",
       "    <tr>\n",
       "      <th>3</th>\n",
       "      <td>Iogurt grec amb fraules</td>\n",
       "      <td>Xía 10-20g</td>\n",
       "      <td>20.0</td>\n",
       "      <td>g</td>\n",
       "      <td>xia</td>\n",
       "    </tr>\n",
       "    <tr>\n",
       "      <th>4</th>\n",
       "      <td>Iogurt grec amb fraules</td>\n",
       "      <td>Canyella al gust</td>\n",
       "      <td>NaN</td>\n",
       "      <td>NaN</td>\n",
       "      <td>canyella</td>\n",
       "    </tr>\n",
       "    <tr>\n",
       "      <th>...</th>\n",
       "      <td>...</td>\n",
       "      <td>...</td>\n",
       "      <td>...</td>\n",
       "      <td>...</td>\n",
       "      <td>...</td>\n",
       "    </tr>\n",
       "    <tr>\n",
       "      <th>1058</th>\n",
       "      <td>Pollastre al forn a les fines herbes</td>\n",
       "      <td>5g d'orenga fresc (0.5g en pols)</td>\n",
       "      <td>NaN</td>\n",
       "      <td>NaN</td>\n",
       "      <td>orenga fresc</td>\n",
       "    </tr>\n",
       "    <tr>\n",
       "      <th>1059</th>\n",
       "      <td>Pollastre al forn a les fines herbes</td>\n",
       "      <td>15g de mostassa Dijon</td>\n",
       "      <td>NaN</td>\n",
       "      <td>NaN</td>\n",
       "      <td>mostassa dijon</td>\n",
       "    </tr>\n",
       "    <tr>\n",
       "      <th>1060</th>\n",
       "      <td>Pollastre al forn a les fines herbes</td>\n",
       "      <td>15ml d'oli d'oliva (una cullerada)</td>\n",
       "      <td>NaN</td>\n",
       "      <td>NaN</td>\n",
       "      <td>oli d'oliva</td>\n",
       "    </tr>\n",
       "    <tr>\n",
       "      <th>1061</th>\n",
       "      <td>Pollastre al forn a les fines herbes</td>\n",
       "      <td>Sal i pebre al gust</td>\n",
       "      <td>NaN</td>\n",
       "      <td>NaN</td>\n",
       "      <td>sal i pebre</td>\n",
       "    </tr>\n",
       "    <tr>\n",
       "      <th>1062</th>\n",
       "      <td>Broqueta de gambes amb xoriç</td>\n",
       "      <td>llagostins</td>\n",
       "      <td>250.0</td>\n",
       "      <td>g</td>\n",
       "      <td>llagostins</td>\n",
       "    </tr>\n",
       "  </tbody>\n",
       "</table>\n",
       "<p>1063 rows × 5 columns</p>\n",
       "</div>"
      ],
      "text/plain": [
       "                                    receta  \\\n",
       "0                  Iogurt grec amb fraules   \n",
       "1                  Iogurt grec amb fraules   \n",
       "2                  Iogurt grec amb fraules   \n",
       "3                  Iogurt grec amb fraules   \n",
       "4                  Iogurt grec amb fraules   \n",
       "...                                    ...   \n",
       "1058  Pollastre al forn a les fines herbes   \n",
       "1059  Pollastre al forn a les fines herbes   \n",
       "1060  Pollastre al forn a les fines herbes   \n",
       "1061  Pollastre al forn a les fines herbes   \n",
       "1062          Broqueta de gambes amb xoriç   \n",
       "\n",
       "                    ingrediente_original  cantidad unidad ingrediente_estandar  \n",
       "0                       Iogurt grec 200g     200.0      g          iogurt grec  \n",
       "1                       Fraules 100-150g     150.0      g              fraules  \n",
       "2                    Nous i ametlles 30g      30.0      g      nous i ametlles  \n",
       "3                             Xía 10-20g      20.0      g                  xia  \n",
       "4                       Canyella al gust       NaN    NaN             canyella  \n",
       "...                                  ...       ...    ...                  ...  \n",
       "1058    5g d'orenga fresc (0.5g en pols)       NaN    NaN         orenga fresc  \n",
       "1059               15g de mostassa Dijon       NaN    NaN       mostassa dijon  \n",
       "1060  15ml d'oli d'oliva (una cullerada)       NaN    NaN          oli d'oliva  \n",
       "1061                 Sal i pebre al gust       NaN    NaN          sal i pebre  \n",
       "1062                          llagostins     250.0      g           llagostins  \n",
       "\n",
       "[1063 rows x 5 columns]"
      ]
     },
     "execution_count": 16,
     "metadata": {},
     "output_type": "execute_result"
    }
   ],
   "source": [
    "df"
   ]
  },
  {
   "cell_type": "code",
   "execution_count": 5,
   "metadata": {},
   "outputs": [
    {
     "data": {
      "text/plain": [
       "Index(['receta', 'ingrediente_original', 'cantidad', 'unidad',\n",
       "       'ingrediente_estandar'],\n",
       "      dtype='object')"
      ]
     },
     "execution_count": 5,
     "metadata": {},
     "output_type": "execute_result"
    }
   ],
   "source": [
    "df.columns"
   ]
  },
  {
   "cell_type": "code",
   "execution_count": 6,
   "metadata": {},
   "outputs": [
    {
     "data": {
      "text/plain": [
       "(1063, 5)"
      ]
     },
     "execution_count": 6,
     "metadata": {},
     "output_type": "execute_result"
    }
   ],
   "source": [
    "df.shape"
   ]
  },
  {
   "cell_type": "code",
   "execution_count": 7,
   "metadata": {},
   "outputs": [
    {
     "data": {
      "text/plain": [
       "246"
      ]
     },
     "execution_count": 7,
     "metadata": {},
     "output_type": "execute_result"
    }
   ],
   "source": [
    "df['ingrediente_estandar'].nunique()"
   ]
  },
  {
   "cell_type": "code",
   "execution_count": 115,
   "metadata": {},
   "outputs": [
    {
     "data": {
      "text/plain": [
       "ingrediente_estandar\n",
       "sal i pebre             101\n",
       "oli d'oliva              86\n",
       "ous                      50\n",
       "alls                     45\n",
       "llimones                 26\n",
       "mantega sense sal        24\n",
       "ceba blanca              19\n",
       "formatge parmesa         18\n",
       "mantega                  16\n",
       "ceba morada              14\n",
       "nata liquida             14\n",
       "julivert                 14\n",
       "tomaquets cherry         14\n",
       "alvocat                  13\n",
       "eritritol                12\n",
       "tomaquet                 12\n",
       "pernil salat             12\n",
       "cibulet                  11\n",
       "espinacs                 11\n",
       "ruca                     11\n",
       "pebre vermell dolc        9\n",
       "vinagre                   9\n",
       "pastanaga                 9\n",
       "mostassa dijon            9\n",
       "xampinyons                9\n",
       "ceba                      8\n",
       "salmo fumat               8\n",
       "essència de vainilla      8\n",
       "Name: count, dtype: int64"
      ]
     },
     "execution_count": 115,
     "metadata": {},
     "output_type": "execute_result"
    }
   ],
   "source": [
    "df['ingrediente_estandar'].value_counts().head(28)"
   ]
  },
  {
   "cell_type": "code",
   "execution_count": 9,
   "metadata": {},
   "outputs": [],
   "source": [
    "mask = df[(df['ingrediente_estandar'].str.contains(\"dents\", na=False)) & (df['cantidad'] == 3)]"
   ]
  },
  {
   "cell_type": "code",
   "execution_count": 112,
   "metadata": {},
   "outputs": [],
   "source": [
    "mask = df[df['ingrediente_estandar'].str.contains(\"essència\", na=False)]"
   ]
  },
  {
   "cell_type": "code",
   "execution_count": 113,
   "metadata": {},
   "outputs": [],
   "source": [
    "df.loc[mask.index, 'ingrediente_estandar'] = 'essència de vainilla'\n",
    "#df.loc[mask.index, 'cantidad'] = None\n",
    "#df.loc[mask.index, 'unidad'] = None"
   ]
  },
  {
   "cell_type": "code",
   "execution_count": 122,
   "metadata": {},
   "outputs": [],
   "source": [
    "df.loc[[802],'ingrediente_estandar'] = 'formatge'\n",
    "#df.loc[[645],'cantidad'] = 1\n",
    "#df.loc[[781],'unidad'] = None"
   ]
  },
  {
   "cell_type": "code",
   "execution_count": 114,
   "metadata": {},
   "outputs": [
    {
     "data": {
      "application/vnd.microsoft.datawrangler.viewer.v0+json": {
       "columns": [
        {
         "name": "index",
         "rawType": "int64",
         "type": "integer"
        },
        {
         "name": "receta",
         "rawType": "object",
         "type": "string"
        },
        {
         "name": "ingrediente_original",
         "rawType": "object",
         "type": "string"
        },
        {
         "name": "cantidad",
         "rawType": "float64",
         "type": "float"
        },
        {
         "name": "unidad",
         "rawType": "object",
         "type": "unknown"
        },
        {
         "name": "ingrediente_estandar",
         "rawType": "object",
         "type": "string"
        }
       ],
       "conversionMethod": "pd.DataFrame",
       "ref": "1b7ddfa0-a7b8-4137-97db-b4042a9381bb",
       "rows": [
        [
         "190",
         "Pa de plàtan amb xispes de xocolata",
         "3 ml d'essència de vainilla",
         null,
         null,
         "essència de vainilla"
        ],
        [
         "264",
         "Granola",
         "5ml d'essència de vainilla",
         null,
         null,
         "essència de vainilla"
        ],
        [
         "400",
         "Ceto-creps",
         "5ml d'essència de vainilla",
         null,
         null,
         "essència de vainilla"
        ],
        [
         "409",
         "Ceto-nutella",
         "5ml d'essència de vainilla",
         null,
         null,
         "essència de vainilla"
        ],
        [
         "470",
         "Muffins de nabius (sense sucre)",
         "2ml d'essència de vainilla",
         null,
         null,
         "essència de vainilla"
        ],
        [
         "489",
         "Coquitos de xocolata",
         "1ml d'essència de vainilla",
         null,
         null,
         "essència de vainilla"
        ],
        [
         "573",
         "Brioix de xocolata",
         "2ml d'essència de vainilla",
         null,
         null,
         "essència de vainilla"
        ],
        [
         "679",
         "Cetogranola",
         "5ml d'essència de vainilla",
         null,
         null,
         "essència de vainilla"
        ]
       ],
       "shape": {
        "columns": 5,
        "rows": 8
       }
      },
      "text/html": [
       "<div>\n",
       "<style scoped>\n",
       "    .dataframe tbody tr th:only-of-type {\n",
       "        vertical-align: middle;\n",
       "    }\n",
       "\n",
       "    .dataframe tbody tr th {\n",
       "        vertical-align: top;\n",
       "    }\n",
       "\n",
       "    .dataframe thead th {\n",
       "        text-align: right;\n",
       "    }\n",
       "</style>\n",
       "<table border=\"1\" class=\"dataframe\">\n",
       "  <thead>\n",
       "    <tr style=\"text-align: right;\">\n",
       "      <th></th>\n",
       "      <th>receta</th>\n",
       "      <th>ingrediente_original</th>\n",
       "      <th>cantidad</th>\n",
       "      <th>unidad</th>\n",
       "      <th>ingrediente_estandar</th>\n",
       "    </tr>\n",
       "  </thead>\n",
       "  <tbody>\n",
       "    <tr>\n",
       "      <th>190</th>\n",
       "      <td>Pa de plàtan amb xispes de xocolata</td>\n",
       "      <td>3 ml d'essència de vainilla</td>\n",
       "      <td>NaN</td>\n",
       "      <td>NaN</td>\n",
       "      <td>essència de vainilla</td>\n",
       "    </tr>\n",
       "    <tr>\n",
       "      <th>264</th>\n",
       "      <td>Granola</td>\n",
       "      <td>5ml d'essència de vainilla</td>\n",
       "      <td>NaN</td>\n",
       "      <td>NaN</td>\n",
       "      <td>essència de vainilla</td>\n",
       "    </tr>\n",
       "    <tr>\n",
       "      <th>400</th>\n",
       "      <td>Ceto-creps</td>\n",
       "      <td>5ml d'essència de vainilla</td>\n",
       "      <td>NaN</td>\n",
       "      <td>NaN</td>\n",
       "      <td>essència de vainilla</td>\n",
       "    </tr>\n",
       "    <tr>\n",
       "      <th>409</th>\n",
       "      <td>Ceto-nutella</td>\n",
       "      <td>5ml d'essència de vainilla</td>\n",
       "      <td>NaN</td>\n",
       "      <td>NaN</td>\n",
       "      <td>essència de vainilla</td>\n",
       "    </tr>\n",
       "    <tr>\n",
       "      <th>470</th>\n",
       "      <td>Muffins de nabius (sense sucre)</td>\n",
       "      <td>2ml d'essència de vainilla</td>\n",
       "      <td>NaN</td>\n",
       "      <td>NaN</td>\n",
       "      <td>essència de vainilla</td>\n",
       "    </tr>\n",
       "    <tr>\n",
       "      <th>489</th>\n",
       "      <td>Coquitos de xocolata</td>\n",
       "      <td>1ml d'essència de vainilla</td>\n",
       "      <td>NaN</td>\n",
       "      <td>NaN</td>\n",
       "      <td>essència de vainilla</td>\n",
       "    </tr>\n",
       "    <tr>\n",
       "      <th>573</th>\n",
       "      <td>Brioix de xocolata</td>\n",
       "      <td>2ml d'essència de vainilla</td>\n",
       "      <td>NaN</td>\n",
       "      <td>NaN</td>\n",
       "      <td>essència de vainilla</td>\n",
       "    </tr>\n",
       "    <tr>\n",
       "      <th>679</th>\n",
       "      <td>Cetogranola</td>\n",
       "      <td>5ml d'essència de vainilla</td>\n",
       "      <td>NaN</td>\n",
       "      <td>NaN</td>\n",
       "      <td>essència de vainilla</td>\n",
       "    </tr>\n",
       "  </tbody>\n",
       "</table>\n",
       "</div>"
      ],
      "text/plain": [
       "                                  receta         ingrediente_original  \\\n",
       "190  Pa de plàtan amb xispes de xocolata  3 ml d'essència de vainilla   \n",
       "264                              Granola   5ml d'essència de vainilla   \n",
       "400                           Ceto-creps   5ml d'essència de vainilla   \n",
       "409                         Ceto-nutella   5ml d'essència de vainilla   \n",
       "470      Muffins de nabius (sense sucre)   2ml d'essència de vainilla   \n",
       "489                 Coquitos de xocolata   1ml d'essència de vainilla   \n",
       "573                   Brioix de xocolata   2ml d'essència de vainilla   \n",
       "679                          Cetogranola   5ml d'essència de vainilla   \n",
       "\n",
       "     cantidad unidad  ingrediente_estandar  \n",
       "190       NaN    NaN  essència de vainilla  \n",
       "264       NaN    NaN  essència de vainilla  \n",
       "400       NaN    NaN  essència de vainilla  \n",
       "409       NaN    NaN  essència de vainilla  \n",
       "470       NaN    NaN  essència de vainilla  \n",
       "489       NaN    NaN  essència de vainilla  \n",
       "573       NaN    NaN  essència de vainilla  \n",
       "679       NaN    NaN  essència de vainilla  "
      ]
     },
     "execution_count": 114,
     "metadata": {},
     "output_type": "execute_result"
    }
   ],
   "source": [
    "df[df['ingrediente_estandar'].str.contains(\"essència\", na=False)]"
   ]
  },
  {
   "cell_type": "markdown",
   "metadata": {},
   "source": [
    "n_fila = [{\n",
    "    'receta': 'Broqueta de gambes amb xoriç',\n",
    "    'ingrediente_original': 'llagostins',\n",
    "    'cantidad': 250,\n",
    "    'unidad': 'g',\n",
    "    'ingrediente_estandar': 'llagostins'\n",
    "}]\n",
    "\n",
    "df = pd.concat([df, pd.DataFrame(n_fila)], ignore_index=True)"
   ]
  },
  {
   "cell_type": "code",
   "execution_count": 148,
   "metadata": {},
   "outputs": [
    {
     "data": {
      "application/vnd.microsoft.datawrangler.viewer.v0+json": {
       "columns": [
        {
         "name": "index",
         "rawType": "int64",
         "type": "integer"
        },
        {
         "name": "receta",
         "rawType": "object",
         "type": "string"
        },
        {
         "name": "ingrediente_original",
         "rawType": "object",
         "type": "string"
        },
        {
         "name": "cantidad",
         "rawType": "float64",
         "type": "float"
        },
        {
         "name": "unidad",
         "rawType": "object",
         "type": "unknown"
        },
        {
         "name": "ingrediente_estandar",
         "rawType": "object",
         "type": "string"
        }
       ],
       "conversionMethod": "pd.DataFrame",
       "ref": "066599ec-203a-4582-a657-4f74b74982ee",
       "rows": [
        [
         "14",
         "Solomillo de vedella Strogonoff i arròs basmati",
         "Agua 10g",
         null,
         null,
         "aigua"
        ],
        [
         "27",
         "Cuinat de llenties",
         "750ml d'aigua",
         null,
         null,
         "aigua"
        ],
        [
         "74",
         "Vinagreta",
         "10 ml d'aigua",
         null,
         null,
         "aigua"
        ],
        [
         "272",
         "Ous bullits amb salmó fumat, tàperes i maionesa",
         "Aigua",
         null,
         null,
         "aigua"
        ],
        [
         "608",
         "Pa de lli",
         "120 g d’aigua calenta",
         null,
         null,
         "aigua"
        ],
        [
         "756",
         "Ous poché",
         "300ml d’aigua (aprox, només és per bullir els ous)",
         null,
         null,
         "aigua"
        ],
        [
         "419",
         "Verdures",
         "100g d'albergínia (1 unitat mitjana)",
         "100.0",
         "g",
         "alberginia"
        ],
        [
         "513",
         "Verduretes al forn",
         "100g d'albergínia (1 unitat mitjana)",
         "100.0",
         "g",
         "alberginia"
        ],
        [
         "853",
         "Pasta de carabassí amb bròquil feta i alfabaguera/herba sana",
         "20 g d’alfabaguera fresca o herba sana",
         "20.0",
         "g",
         "alfabaguera fresca o herba sana"
        ],
        [
         "476",
         "Ceto-Pizza",
         "1g d'all en pols (opcional)",
         null,
         null,
         "all en pols"
        ],
        [
         "28",
         "Cuinat de llenties",
         "2 dents d'all",
         "4.0",
         "g",
         "alls"
        ],
        [
         "149",
         "Pebres farcits d'indiot amb arròs basmati",
         "2 dents d'all",
         "4.0",
         "g",
         "alls"
        ],
        [
         "197",
         "Escalopins de porc amb tomí i llimona amb coliflor al forn",
         "1 gra d'all",
         "4.0",
         "g",
         "alls"
        ],
        [
         "213",
         "Fumet de gambes (ceto)",
         "1 gra d'all",
         "4.0",
         "g",
         "alls"
        ],
        [
         "268",
         "Broqueta de gambes amb xoriç",
         "1 gra d'all (opcional)",
         "4.0",
         "g",
         "alls"
        ],
        [
         "328",
         "Marinada Bbq",
         "1-2 dents d'all",
         "4.0",
         "g",
         "alls"
        ],
        [
         "337",
         "Bolets",
         "1 gra d'all",
         "4.0",
         "g",
         "alls"
        ],
        [
         "422",
         "Verdures",
         "2 dents d'all",
         "4.0",
         "g",
         "alls"
        ],
        [
         "516",
         "Verduretes al forn",
         "2 dents d'all",
         "4.0",
         "g",
         "alls"
        ],
        [
         "544",
         "Pasta de carabassí scampi",
         "1-2 dents d'all",
         "4.0",
         "g",
         "alls"
        ],
        [
         "557",
         "Crema d’espinacs",
         "2 dents d'all",
         "4.0",
         "g",
         "alls"
        ],
        [
         "906",
         "Estofat de vedella",
         "1 gra d'all",
         "4.0",
         "g",
         "alls"
        ],
        [
         "232",
         "Pollastre a les fines herbes",
         "2-3 dents d'all",
         "6.0",
         "g",
         "alls"
        ],
        [
         "594",
         "Pollastre al forn a les fines herbes + patata (prebiòtica)",
         "2-3 dents d'all",
         "6.0",
         "g",
         "alls"
        ],
        [
         "1056",
         "Pollastre al forn a les fines herbes",
         "2-3 dents d'all",
         "6.0",
         "g",
         "alls"
        ],
        [
         "85",
         "Salmó amb mongetes amb mantequilla",
         "1 all",
         "20.0",
         "g",
         "alls"
        ],
        [
         "90",
         "Hamburguesa de salmó amb pernil salat i patata (probiòtica)",
         "1 all",
         "20.0",
         "g",
         "alls"
        ],
        [
         "357",
         "Amanida de pollastre amb salsa césar (ceto)",
         "1 all",
         "20.0",
         "g",
         "alls"
        ],
        [
         "625",
         "Truita de gambes",
         "1 all",
         "20.0",
         "g",
         "alls"
        ],
        [
         "822",
         "Espinacs saltejats amb pinyons i ametlles",
         "1 all",
         "20.0",
         "g",
         "alls"
        ],
        [
         "953",
         "Truita d'espinacs amb formatge blau i cúrcuma",
         "1 all",
         "20.0",
         "g",
         "alls"
        ],
        [
         "972",
         "Dorada a la sal amb maionesa",
         "1 all",
         "20.0",
         "g",
         "alls"
        ],
        [
         "1024",
         "Pollastre Torrat amb Ruca Trempada",
         "1 All",
         "20.0",
         "g",
         "alls"
        ],
        [
         "8",
         "Solomillo de vedella Strogonoff i arròs basmati",
         "Alls 2",
         "40.0",
         "g",
         "alls"
        ],
        [
         "293",
         "Crema de carabassí",
         "2 alls",
         "40.0",
         "g",
         "alls"
        ],
        [
         "387",
         "Crema de xampinyons",
         "1-2 alls",
         "40.0",
         "g",
         "alls"
        ],
        [
         "415",
         "Hamburguesa Tex-Mex",
         "2 alls",
         "40.0",
         "g",
         "alls"
        ],
        [
         "583",
         "Crema de pastanaga coco, gingebre",
         "2 alls",
         "40.0",
         "g",
         "alls"
        ],
        [
         "638",
         "Crema de xampinyons i Fruits secs",
         "1-2 alls",
         "40.0",
         "g",
         "alls"
        ],
        [
         "720",
         "Hamburguesa",
         "2 alls",
         "40.0",
         "g",
         "alls"
        ],
        [
         "769",
         "Pad-thai",
         "2 alls",
         "40.0",
         "g",
         "alls"
        ],
        [
         "798",
         "Lasanya",
         "2 all",
         "40.0",
         "g",
         "alls"
        ],
        [
         "813",
         "Espaguetis (konjac) marinera amb cloïsses i musclos",
         "2 alls",
         "40.0",
         "g",
         "alls"
        ],
        [
         "840",
         "Cols de brussel·les amb pinyons i parmesà",
         "2 alls",
         "40.0",
         "g",
         "alls"
        ],
        [
         "848",
         "Truita d’espàrrecs, all i cúrcuma",
         "2 alls",
         "40.0",
         "g",
         "alls"
        ],
        [
         "962",
         "Coes de llagostins amb bolets",
         "2 alls",
         "40.0",
         "g",
         "alls"
        ],
        [
         "965",
         "Calamar a la planxa amb bledes saltejades amb all i cúrcuma",
         "2 alls",
         "40.0",
         "g",
         "alls"
        ],
        [
         "996",
         "Pesto d’alfàbrega",
         "2 alls All",
         "40.0",
         "g",
         "alls"
        ],
        [
         "1030",
         "Gambes al ajillo amb Espinacs Saltejats",
         "2 alls",
         "40.0",
         "g",
         "alls"
        ],
        [
         "1037",
         "Pebrots farcits de peix i formatge.",
         "2 alls",
         "40.0",
         "g",
         "alls"
        ]
       ],
       "shape": {
        "columns": 5,
        "rows": 1063
       }
      },
      "text/html": [
       "<div>\n",
       "<style scoped>\n",
       "    .dataframe tbody tr th:only-of-type {\n",
       "        vertical-align: middle;\n",
       "    }\n",
       "\n",
       "    .dataframe tbody tr th {\n",
       "        vertical-align: top;\n",
       "    }\n",
       "\n",
       "    .dataframe thead th {\n",
       "        text-align: right;\n",
       "    }\n",
       "</style>\n",
       "<table border=\"1\" class=\"dataframe\">\n",
       "  <thead>\n",
       "    <tr style=\"text-align: right;\">\n",
       "      <th></th>\n",
       "      <th>receta</th>\n",
       "      <th>ingrediente_original</th>\n",
       "      <th>cantidad</th>\n",
       "      <th>unidad</th>\n",
       "      <th>ingrediente_estandar</th>\n",
       "    </tr>\n",
       "  </thead>\n",
       "  <tbody>\n",
       "    <tr>\n",
       "      <th>14</th>\n",
       "      <td>Solomillo de vedella Strogonoff i arròs basmati</td>\n",
       "      <td>Agua 10g</td>\n",
       "      <td>NaN</td>\n",
       "      <td>NaN</td>\n",
       "      <td>aigua</td>\n",
       "    </tr>\n",
       "    <tr>\n",
       "      <th>27</th>\n",
       "      <td>Cuinat de llenties</td>\n",
       "      <td>750ml d'aigua</td>\n",
       "      <td>NaN</td>\n",
       "      <td>NaN</td>\n",
       "      <td>aigua</td>\n",
       "    </tr>\n",
       "    <tr>\n",
       "      <th>74</th>\n",
       "      <td>Vinagreta</td>\n",
       "      <td>10 ml d'aigua</td>\n",
       "      <td>NaN</td>\n",
       "      <td>NaN</td>\n",
       "      <td>aigua</td>\n",
       "    </tr>\n",
       "    <tr>\n",
       "      <th>272</th>\n",
       "      <td>Ous bullits amb salmó fumat, tàperes i maionesa</td>\n",
       "      <td>Aigua</td>\n",
       "      <td>NaN</td>\n",
       "      <td>NaN</td>\n",
       "      <td>aigua</td>\n",
       "    </tr>\n",
       "    <tr>\n",
       "      <th>608</th>\n",
       "      <td>Pa de lli</td>\n",
       "      <td>120 g d’aigua calenta</td>\n",
       "      <td>NaN</td>\n",
       "      <td>NaN</td>\n",
       "      <td>aigua</td>\n",
       "    </tr>\n",
       "    <tr>\n",
       "      <th>...</th>\n",
       "      <td>...</td>\n",
       "      <td>...</td>\n",
       "      <td>...</td>\n",
       "      <td>...</td>\n",
       "      <td>...</td>\n",
       "    </tr>\n",
       "    <tr>\n",
       "      <th>603</th>\n",
       "      <td>Pa de lli</td>\n",
       "      <td>xia (una culleradeta)</td>\n",
       "      <td>10.0</td>\n",
       "      <td>g</td>\n",
       "      <td>xía</td>\n",
       "    </tr>\n",
       "    <tr>\n",
       "      <th>672</th>\n",
       "      <td>Cetogranola</td>\n",
       "      <td>5-10g de chía (opcional)</td>\n",
       "      <td>10.0</td>\n",
       "      <td>g</td>\n",
       "      <td>xía</td>\n",
       "    </tr>\n",
       "    <tr>\n",
       "      <th>3</th>\n",
       "      <td>Iogurt grec amb fraules</td>\n",
       "      <td>Xía 10-20g</td>\n",
       "      <td>20.0</td>\n",
       "      <td>g</td>\n",
       "      <td>xía</td>\n",
       "    </tr>\n",
       "    <tr>\n",
       "      <th>733</th>\n",
       "      <td>Iogurt grec amb ametlles i nabius</td>\n",
       "      <td>10-20g de chía</td>\n",
       "      <td>20.0</td>\n",
       "      <td>g</td>\n",
       "      <td>xía</td>\n",
       "    </tr>\n",
       "    <tr>\n",
       "      <th>898</th>\n",
       "      <td>Pudding de xía amb fruits vermells i ametlles</td>\n",
       "      <td>3 cullerades soperes de xía</td>\n",
       "      <td>30.0</td>\n",
       "      <td>g</td>\n",
       "      <td>xía</td>\n",
       "    </tr>\n",
       "  </tbody>\n",
       "</table>\n",
       "<p>1063 rows × 5 columns</p>\n",
       "</div>"
      ],
      "text/plain": [
       "                                              receta  \\\n",
       "14   Solomillo de vedella Strogonoff i arròs basmati   \n",
       "27                                Cuinat de llenties   \n",
       "74                                         Vinagreta   \n",
       "272  Ous bullits amb salmó fumat, tàperes i maionesa   \n",
       "608                                        Pa de lli   \n",
       "..                                               ...   \n",
       "603                                        Pa de lli   \n",
       "672                                      Cetogranola   \n",
       "3                            Iogurt grec amb fraules   \n",
       "733                Iogurt grec amb ametlles i nabius   \n",
       "898    Pudding de xía amb fruits vermells i ametlles   \n",
       "\n",
       "            ingrediente_original  cantidad unidad ingrediente_estandar  \n",
       "14                      Agua 10g       NaN    NaN                aigua  \n",
       "27                 750ml d'aigua       NaN    NaN                aigua  \n",
       "74                 10 ml d'aigua       NaN    NaN                aigua  \n",
       "272                        Aigua       NaN    NaN                aigua  \n",
       "608        120 g d’aigua calenta       NaN    NaN                aigua  \n",
       "..                           ...       ...    ...                  ...  \n",
       "603        xia (una culleradeta)      10.0      g                  xía  \n",
       "672     5-10g de chía (opcional)      10.0      g                  xía  \n",
       "3                     Xía 10-20g      20.0      g                  xía  \n",
       "733               10-20g de chía      20.0      g                  xía  \n",
       "898  3 cullerades soperes de xía      30.0      g                  xía  \n",
       "\n",
       "[1063 rows x 5 columns]"
      ]
     },
     "execution_count": 148,
     "metadata": {},
     "output_type": "execute_result"
    }
   ],
   "source": [
    "df.sort_values(by=['ingrediente_estandar', 'cantidad'], ascending=[True, True])"
   ]
  },
  {
   "cell_type": "code",
   "execution_count": 154,
   "metadata": {},
   "outputs": [],
   "source": [
    "df['ingrediente_estandar'] = df['ingrediente_estandar'].replace('salmo fresc', 'salmó fresc')\n",
    "df['ingrediente_estandar'] = df['ingrediente_estandar'].replace('romani fresc', 'romaní fresc')\n"
   ]
  },
  {
   "cell_type": "code",
   "execution_count": 155,
   "metadata": {},
   "outputs": [],
   "source": [
    "df.to_csv('ingredientes_estandarizados.csv', index=False)"
   ]
  },
  {
   "cell_type": "code",
   "execution_count": null,
   "metadata": {},
   "outputs": [],
   "source": []
  }
 ],
 "metadata": {
  "kernelspec": {
   "display_name": "base",
   "language": "python",
   "name": "python3"
  },
  "language_info": {
   "codemirror_mode": {
    "name": "ipython",
    "version": 3
   },
   "file_extension": ".py",
   "mimetype": "text/x-python",
   "name": "python",
   "nbconvert_exporter": "python",
   "pygments_lexer": "ipython3",
   "version": "3.11.5"
  }
 },
 "nbformat": 4,
 "nbformat_minor": 2
}
