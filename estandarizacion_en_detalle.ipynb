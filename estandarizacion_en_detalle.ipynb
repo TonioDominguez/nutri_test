{
 "cells": [
  {
   "cell_type": "code",
   "execution_count": 40,
   "metadata": {},
   "outputs": [],
   "source": [
    "import pandas as pd\n",
    "from ingredients_lists import *"
   ]
  },
  {
   "cell_type": "code",
   "execution_count": 2,
   "metadata": {},
   "outputs": [],
   "source": [
    "data = pd.read_csv('ingredientes_estandarizados.csv')"
   ]
  },
  {
   "cell_type": "code",
   "execution_count": 3,
   "metadata": {},
   "outputs": [],
   "source": [
    "df = data.copy()"
   ]
  },
  {
   "cell_type": "code",
   "execution_count": 4,
   "metadata": {},
   "outputs": [
    {
     "data": {
      "application/vnd.microsoft.datawrangler.viewer.v0+json": {
       "columns": [
        {
         "name": "index",
         "rawType": "int64",
         "type": "integer"
        },
        {
         "name": "receta",
         "rawType": "object",
         "type": "string"
        },
        {
         "name": "ingrediente_original",
         "rawType": "object",
         "type": "string"
        },
        {
         "name": "cantidad",
         "rawType": "int64",
         "type": "integer"
        },
        {
         "name": "unidad",
         "rawType": "object",
         "type": "unknown"
        },
        {
         "name": "ingrediente_estandar",
         "rawType": "object",
         "type": "string"
        }
       ],
       "ref": "102cb472-2c4b-4071-a293-12e8b3ac2b4c",
       "rows": [
        [
         "0",
         "Iogurt grec amb fraules",
         "Iogurt grec 200g",
         "200",
         "g",
         "iogurt grec"
        ],
        [
         "1",
         "Iogurt grec amb fraules",
         "Fraules 100-150g",
         "150",
         "g",
         "fraules"
        ],
        [
         "2",
         "Iogurt grec amb fraules",
         "Nous i ametlles 30g",
         "30",
         "g",
         "nous i ametlles"
        ],
        [
         "3",
         "Iogurt grec amb fraules",
         "Xía 10-20g",
         "20",
         "g",
         "xía"
        ],
        [
         "4",
         "Iogurt grec amb fraules",
         "Canyella al gust",
         "0",
         null,
         "canyella"
        ],
        [
         "5",
         "Solomillo de vedella Strogonoff i arròs basmati",
         "Solomillo de vedella 150-200g",
         "200",
         "g",
         "solomillo de vedella"
        ],
        [
         "6",
         "Solomillo de vedella Strogonoff i arròs basmati",
         "Xampinyons 100g",
         "100",
         "g",
         "xampinyons"
        ],
        [
         "7",
         "Solomillo de vedella Strogonoff i arròs basmati",
         "Ceba blanca 50g",
         "50",
         "g",
         "ceba blanca"
        ],
        [
         "8",
         "Solomillo de vedella Strogonoff i arròs basmati",
         "Alls 2",
         "40",
         "g",
         "alls"
        ],
        [
         "9",
         "Solomillo de vedella Strogonoff i arròs basmati",
         "Julivert fresc 3g",
         "0",
         null,
         "julivert"
        ],
        [
         "10",
         "Solomillo de vedella Strogonoff i arròs basmati",
         "Oli d’oliva verge 7g (½ cullerada)",
         "0",
         null,
         "oli d'oliva"
        ],
        [
         "11",
         "Solomillo de vedella Strogonoff i arròs basmati",
         "Mantega 10g",
         "0",
         null,
         "mantega"
        ],
        [
         "12",
         "Solomillo de vedella Strogonoff i arròs basmati",
         "Nata líquida 30g",
         "30",
         "ml",
         "nata líquida"
        ],
        [
         "13",
         "Solomillo de vedella Strogonoff i arròs basmati",
         "Tomí (sec) 0,5g (3g si fresc)",
         "0",
         null,
         "tomí sec"
        ],
        [
         "14",
         "Solomillo de vedella Strogonoff i arròs basmati",
         "Agua 10g",
         "0",
         null,
         "aigua"
        ],
        [
         "15",
         "Solomillo de vedella Strogonoff i arròs basmati",
         "Sal i pebre bo al gust",
         "0",
         null,
         "sal i pebre"
        ],
        [
         "16",
         "Espàrrecs embolicats en pernil",
         "½ manat d’espàrrecs",
         "250",
         "g",
         "espàrrecs"
        ],
        [
         "17",
         "Espàrrecs embolicats en pernil",
         "3-4 llesques de pernil salat",
         "80",
         "g",
         "pernil salat"
        ],
        [
         "18",
         "Espàrrecs embolicats en pernil",
         "Oli d’oliva",
         "0",
         null,
         "oli d'oliva"
        ],
        [
         "19",
         "Mini amanida verda",
         "20g d'enciam roman",
         "20",
         "g",
         "enciam romana"
        ],
        [
         "20",
         "Mini amanida verda",
         "15g de ruca",
         "15",
         "g",
         "ruca"
        ],
        [
         "21",
         "Mini amanida verda",
         "20g d'espinacs",
         "20",
         "g",
         "espinacs"
        ],
        [
         "22",
         "Mini amanida verda",
         "15g de kale",
         "15",
         "g",
         "kale"
        ],
        [
         "23",
         "Mini amanida verda",
         "15ml d'oli d'oliva (1 cullerada)",
         "0",
         null,
         "oli d'oliva"
        ],
        [
         "24",
         "Mini amanida verda",
         "5ml de vinagre (opcional)",
         "0",
         null,
         "vinagre"
        ],
        [
         "25",
         "Mini amanida verda",
         "Sal",
         "0",
         null,
         "sal i pebre"
        ],
        [
         "26",
         "Cuinat de llenties",
         "150g de llenties crues",
         "150",
         "g",
         "llenties crues"
        ],
        [
         "27",
         "Cuinat de llenties",
         "750ml d'aigua",
         "0",
         null,
         "aigua"
        ],
        [
         "28",
         "Cuinat de llenties",
         "2 dents d'all",
         "4",
         "g",
         "alls"
        ],
        [
         "29",
         "Cuinat de llenties",
         "1 full de llorer",
         "0",
         null,
         "fulla de llorer"
        ],
        [
         "30",
         "Cuinat de llenties",
         "15ml d'oli d'oliva",
         "0",
         null,
         "oli d'oliva"
        ],
        [
         "31",
         "Cuinat de llenties",
         "200 g de ceba blanca",
         "200",
         "g",
         "ceba blanca"
        ],
        [
         "32",
         "Cuinat de llenties",
         "0.3g de comí en pols (opcional)",
         "0",
         null,
         "comí en pols"
        ],
        [
         "33",
         "Cuinat de llenties",
         "0.5g de pebre vermell dolç (opcional)",
         "0",
         null,
         "pebre vermell dolç"
        ],
        [
         "34",
         "Cuinat de llenties",
         "100 g d'espinacs fresques (o kale)",
         "100",
         "g",
         "espinacs frescs"
        ],
        [
         "35",
         "Cuinat de llenties",
         "Sal al gust",
         "0",
         null,
         "sal i pebre"
        ],
        [
         "36",
         "amanida",
         "45g d'enciam roman",
         "45",
         "g",
         "enciam romana"
        ],
        [
         "37",
         "amanida",
         "25g de ruca",
         "25",
         "g",
         "ruca"
        ],
        [
         "38",
         "amanida",
         "25g d'espinacs",
         "25",
         "g",
         "espinacs"
        ],
        [
         "39",
         "amanida",
         "20g de kale",
         "20",
         "g",
         "kale"
        ],
        [
         "40",
         "amanida",
         "15ml d'oli d'oliva (1 cullerada)",
         "0",
         null,
         "oli d'oliva"
        ],
        [
         "41",
         "amanida",
         "5 ml de vinagre (opcional)",
         "0",
         null,
         "vinagre"
        ],
        [
         "42",
         "amanida",
         "Sal",
         "0",
         null,
         "sal i pebre"
        ],
        [
         "43",
         "Ous frits amb pernil salat i ½ alvocat",
         "3 ous",
         "3",
         null,
         "ous"
        ],
        [
         "44",
         "Ous frits amb pernil salat i ½ alvocat",
         "30g de cuixot salat",
         "30",
         "g",
         "cuixot salat"
        ],
        [
         "45",
         "Ous frits amb pernil salat i ½ alvocat",
         "7ml d'oli d'oliva (1⁄2 cullerada)",
         "0",
         null,
         "oli d'oliva"
        ],
        [
         "46",
         "Ous frits amb pernil salat i ½ alvocat",
         "Sal i pebre al gust",
         "0",
         null,
         "sal i pebre"
        ],
        [
         "47",
         "Ous frits amb pernil salat i ½ alvocat",
         "½ alvocat",
         "100",
         "g",
         "alvocat"
        ],
        [
         "48",
         "Costelles de porc al romaní i boniato (prebiòtc)",
         "250 g de costella de porc amb os (veure observacions)",
         "250",
         "g",
         "costella de porc"
        ],
        [
         "49",
         "Costelles de porc al romaní i boniato (prebiòtc)",
         "2g de romaní fresc (0.5g si és en sec)",
         "0",
         null,
         "romaní fresc"
        ]
       ],
       "shape": {
        "columns": 5,
        "rows": 1063
       }
      },
      "text/html": [
       "<div>\n",
       "<style scoped>\n",
       "    .dataframe tbody tr th:only-of-type {\n",
       "        vertical-align: middle;\n",
       "    }\n",
       "\n",
       "    .dataframe tbody tr th {\n",
       "        vertical-align: top;\n",
       "    }\n",
       "\n",
       "    .dataframe thead th {\n",
       "        text-align: right;\n",
       "    }\n",
       "</style>\n",
       "<table border=\"1\" class=\"dataframe\">\n",
       "  <thead>\n",
       "    <tr style=\"text-align: right;\">\n",
       "      <th></th>\n",
       "      <th>receta</th>\n",
       "      <th>ingrediente_original</th>\n",
       "      <th>cantidad</th>\n",
       "      <th>unidad</th>\n",
       "      <th>ingrediente_estandar</th>\n",
       "    </tr>\n",
       "  </thead>\n",
       "  <tbody>\n",
       "    <tr>\n",
       "      <th>0</th>\n",
       "      <td>Iogurt grec amb fraules</td>\n",
       "      <td>Iogurt grec 200g</td>\n",
       "      <td>200</td>\n",
       "      <td>g</td>\n",
       "      <td>iogurt grec</td>\n",
       "    </tr>\n",
       "    <tr>\n",
       "      <th>1</th>\n",
       "      <td>Iogurt grec amb fraules</td>\n",
       "      <td>Fraules 100-150g</td>\n",
       "      <td>150</td>\n",
       "      <td>g</td>\n",
       "      <td>fraules</td>\n",
       "    </tr>\n",
       "    <tr>\n",
       "      <th>2</th>\n",
       "      <td>Iogurt grec amb fraules</td>\n",
       "      <td>Nous i ametlles 30g</td>\n",
       "      <td>30</td>\n",
       "      <td>g</td>\n",
       "      <td>nous i ametlles</td>\n",
       "    </tr>\n",
       "    <tr>\n",
       "      <th>3</th>\n",
       "      <td>Iogurt grec amb fraules</td>\n",
       "      <td>Xía 10-20g</td>\n",
       "      <td>20</td>\n",
       "      <td>g</td>\n",
       "      <td>xía</td>\n",
       "    </tr>\n",
       "    <tr>\n",
       "      <th>4</th>\n",
       "      <td>Iogurt grec amb fraules</td>\n",
       "      <td>Canyella al gust</td>\n",
       "      <td>0</td>\n",
       "      <td>NaN</td>\n",
       "      <td>canyella</td>\n",
       "    </tr>\n",
       "    <tr>\n",
       "      <th>...</th>\n",
       "      <td>...</td>\n",
       "      <td>...</td>\n",
       "      <td>...</td>\n",
       "      <td>...</td>\n",
       "      <td>...</td>\n",
       "    </tr>\n",
       "    <tr>\n",
       "      <th>1058</th>\n",
       "      <td>Pollastre al forn a les fines herbes</td>\n",
       "      <td>5g d'orenga fresc (0.5g en pols)</td>\n",
       "      <td>0</td>\n",
       "      <td>NaN</td>\n",
       "      <td>orenga fresc</td>\n",
       "    </tr>\n",
       "    <tr>\n",
       "      <th>1059</th>\n",
       "      <td>Pollastre al forn a les fines herbes</td>\n",
       "      <td>15g de mostassa Dijon</td>\n",
       "      <td>0</td>\n",
       "      <td>NaN</td>\n",
       "      <td>mostassa dijon</td>\n",
       "    </tr>\n",
       "    <tr>\n",
       "      <th>1060</th>\n",
       "      <td>Pollastre al forn a les fines herbes</td>\n",
       "      <td>15ml d'oli d'oliva (una cullerada)</td>\n",
       "      <td>0</td>\n",
       "      <td>NaN</td>\n",
       "      <td>oli d'oliva</td>\n",
       "    </tr>\n",
       "    <tr>\n",
       "      <th>1061</th>\n",
       "      <td>Pollastre al forn a les fines herbes</td>\n",
       "      <td>Sal i pebre al gust</td>\n",
       "      <td>0</td>\n",
       "      <td>NaN</td>\n",
       "      <td>sal i pebre</td>\n",
       "    </tr>\n",
       "    <tr>\n",
       "      <th>1062</th>\n",
       "      <td>Broqueta de gambes amb xoriç</td>\n",
       "      <td>llagostins</td>\n",
       "      <td>250</td>\n",
       "      <td>g</td>\n",
       "      <td>llagostins</td>\n",
       "    </tr>\n",
       "  </tbody>\n",
       "</table>\n",
       "<p>1063 rows × 5 columns</p>\n",
       "</div>"
      ],
      "text/plain": [
       "                                    receta  \\\n",
       "0                  Iogurt grec amb fraules   \n",
       "1                  Iogurt grec amb fraules   \n",
       "2                  Iogurt grec amb fraules   \n",
       "3                  Iogurt grec amb fraules   \n",
       "4                  Iogurt grec amb fraules   \n",
       "...                                    ...   \n",
       "1058  Pollastre al forn a les fines herbes   \n",
       "1059  Pollastre al forn a les fines herbes   \n",
       "1060  Pollastre al forn a les fines herbes   \n",
       "1061  Pollastre al forn a les fines herbes   \n",
       "1062          Broqueta de gambes amb xoriç   \n",
       "\n",
       "                    ingrediente_original  cantidad unidad ingrediente_estandar  \n",
       "0                       Iogurt grec 200g       200      g          iogurt grec  \n",
       "1                       Fraules 100-150g       150      g              fraules  \n",
       "2                    Nous i ametlles 30g        30      g      nous i ametlles  \n",
       "3                             Xía 10-20g        20      g                  xía  \n",
       "4                       Canyella al gust         0    NaN             canyella  \n",
       "...                                  ...       ...    ...                  ...  \n",
       "1058    5g d'orenga fresc (0.5g en pols)         0    NaN         orenga fresc  \n",
       "1059               15g de mostassa Dijon         0    NaN       mostassa dijon  \n",
       "1060  15ml d'oli d'oliva (una cullerada)         0    NaN          oli d'oliva  \n",
       "1061                 Sal i pebre al gust         0    NaN          sal i pebre  \n",
       "1062                          llagostins       250      g           llagostins  \n",
       "\n",
       "[1063 rows x 5 columns]"
      ]
     },
     "execution_count": 4,
     "metadata": {},
     "output_type": "execute_result"
    }
   ],
   "source": [
    "df"
   ]
  },
  {
   "cell_type": "code",
   "execution_count": 5,
   "metadata": {},
   "outputs": [
    {
     "data": {
      "text/plain": [
       "Index(['receta', 'ingrediente_original', 'cantidad', 'unidad',\n",
       "       'ingrediente_estandar'],\n",
       "      dtype='object')"
      ]
     },
     "execution_count": 5,
     "metadata": {},
     "output_type": "execute_result"
    }
   ],
   "source": [
    "df.columns"
   ]
  },
  {
   "cell_type": "code",
   "execution_count": 6,
   "metadata": {},
   "outputs": [
    {
     "data": {
      "text/plain": [
       "(1063, 5)"
      ]
     },
     "execution_count": 6,
     "metadata": {},
     "output_type": "execute_result"
    }
   ],
   "source": [
    "df.shape"
   ]
  },
  {
   "cell_type": "code",
   "execution_count": 7,
   "metadata": {},
   "outputs": [
    {
     "data": {
      "text/plain": [
       "231"
      ]
     },
     "execution_count": 7,
     "metadata": {},
     "output_type": "execute_result"
    }
   ],
   "source": [
    "df['ingrediente_estandar'].nunique()"
   ]
  },
  {
   "cell_type": "markdown",
   "metadata": {},
   "source": [
    "### Líneas para manipular!"
   ]
  },
  {
   "cell_type": "code",
   "execution_count": 63,
   "metadata": {},
   "outputs": [],
   "source": [
    "for index, row in df.iterrows():\n",
    "    if row['ingrediente_estandar'] in condiments:\n",
    "        df.at[index, 'tipo_ingrediente'] = 'Condiments'\n",
    "    else:\n",
    "        df.at[index, 'tipo_ingrediente'] = row['tipo_ingrediente']"
   ]
  },
  {
   "cell_type": "code",
   "execution_count": 68,
   "metadata": {},
   "outputs": [
    {
     "data": {
      "application/vnd.microsoft.datawrangler.viewer.v0+json": {
       "columns": [
        {
         "name": "tipo_ingrediente",
         "rawType": "object",
         "type": "string"
        },
        {
         "name": "count",
         "rawType": "int64",
         "type": "integer"
        }
       ],
       "ref": "1fef0808-d65a-4529-9fe3-92e2cb42729f",
       "rows": [
        [
         "Condiments",
         "317"
        ],
        [
         "Verdures",
         "275"
        ],
        [
         "Làctics i ous",
         "169"
        ],
        [
         "Altres",
         "151"
        ],
        [
         "Fruites",
         "55"
        ],
        [
         "Carns vermellas",
         "38"
        ],
        [
         "Peixos",
         "27"
        ],
        [
         "Carns blanques",
         "17"
        ],
        [
         "Mariscos",
         "11"
        ]
       ],
       "shape": {
        "columns": 1,
        "rows": 9
       }
      },
      "text/plain": [
       "tipo_ingrediente\n",
       "Condiments         317\n",
       "Verdures           275\n",
       "Làctics i ous      169\n",
       "Altres             151\n",
       "Fruites             55\n",
       "Carns vermellas     38\n",
       "Peixos              27\n",
       "Carns blanques      17\n",
       "Mariscos            11\n",
       "Name: count, dtype: int64"
      ]
     },
     "execution_count": 68,
     "metadata": {},
     "output_type": "execute_result"
    }
   ],
   "source": [
    "df['tipo_ingrediente'].value_counts()"
   ]
  },
  {
   "cell_type": "code",
   "execution_count": 66,
   "metadata": {},
   "outputs": [
    {
     "data": {
      "application/vnd.microsoft.datawrangler.viewer.v0+json": {
       "columns": [
        {
         "name": "index",
         "rawType": "int64",
         "type": "integer"
        },
        {
         "name": "receta",
         "rawType": "object",
         "type": "string"
        },
        {
         "name": "ingrediente_original",
         "rawType": "object",
         "type": "string"
        },
        {
         "name": "cantidad",
         "rawType": "int64",
         "type": "integer"
        },
        {
         "name": "unidad",
         "rawType": "object",
         "type": "unknown"
        },
        {
         "name": "ingrediente_estandar",
         "rawType": "object",
         "type": "string"
        },
        {
         "name": "tipo_ingrediente",
         "rawType": "object",
         "type": "unknown"
        }
       ],
       "ref": "5e693af5-826d-454c-b6a5-4e13334ea3d9",
       "rows": [
        [
         "14",
         "Solomillo de vedella Strogonoff i arròs basmati",
         "Agua 10g",
         "0",
         null,
         "aigua",
         "Altres"
        ],
        [
         "27",
         "Cuinat de llenties",
         "750ml d'aigua",
         "0",
         null,
         "aigua",
         "Altres"
        ],
        [
         "74",
         "Vinagreta",
         "10 ml d'aigua",
         "0",
         null,
         "aigua",
         "Altres"
        ],
        [
         "272",
         "Ous bullits amb salmó fumat, tàperes i maionesa",
         "Aigua",
         "0",
         null,
         "aigua",
         "Altres"
        ],
        [
         "608",
         "Pa de lli",
         "120 g d’aigua calenta",
         "0",
         null,
         "aigua",
         "Altres"
        ],
        [
         "756",
         "Ous poché",
         "300ml d’aigua (aprox, només és per bullir els ous)",
         "0",
         null,
         "aigua",
         "Altres"
        ],
        [
         "419",
         "Verdures",
         "100g d'albergínia (1 unitat mitjana)",
         "100",
         "g",
         "alberginia",
         "Verdures"
        ],
        [
         "513",
         "Verduretes al forn",
         "100g d'albergínia (1 unitat mitjana)",
         "100",
         "g",
         "alberginia",
         "Verdures"
        ],
        [
         "853",
         "Pasta de carabassí amb bròquil feta i alfabaguera/herba sana",
         "20 g d’alfabaguera fresca o herba sana",
         "20",
         "g",
         "alfabaguera fresca o herba sana",
         "Condiments"
        ],
        [
         "476",
         "Ceto-Pizza",
         "1g d'all en pols (opcional)",
         "0",
         null,
         "all en pols",
         "Condiments"
        ],
        [
         "28",
         "Cuinat de llenties",
         "2 dents d'all",
         "4",
         "g",
         "alls",
         "Verdures"
        ],
        [
         "149",
         "Pebres farcits d'indiot amb arròs basmati",
         "2 dents d'all",
         "4",
         "g",
         "alls",
         "Verdures"
        ],
        [
         "197",
         "Escalopins de porc amb tomí i llimona amb coliflor al forn",
         "1 gra d'all",
         "4",
         "g",
         "alls",
         "Verdures"
        ],
        [
         "213",
         "Fumet de gambes (ceto)",
         "1 gra d'all",
         "4",
         "g",
         "alls",
         "Verdures"
        ],
        [
         "268",
         "Broqueta de gambes amb xoriç",
         "1 gra d'all (opcional)",
         "4",
         "g",
         "alls",
         "Verdures"
        ],
        [
         "328",
         "Marinada Bbq",
         "1-2 dents d'all",
         "4",
         "g",
         "alls",
         "Verdures"
        ],
        [
         "337",
         "Bolets",
         "1 gra d'all",
         "4",
         "g",
         "alls",
         "Verdures"
        ],
        [
         "422",
         "Verdures",
         "2 dents d'all",
         "4",
         "g",
         "alls",
         "Verdures"
        ],
        [
         "516",
         "Verduretes al forn",
         "2 dents d'all",
         "4",
         "g",
         "alls",
         "Verdures"
        ],
        [
         "544",
         "Pasta de carabassí scampi",
         "1-2 dents d'all",
         "4",
         "g",
         "alls",
         "Verdures"
        ],
        [
         "557",
         "Crema d’espinacs",
         "2 dents d'all",
         "4",
         "g",
         "alls",
         "Verdures"
        ],
        [
         "906",
         "Estofat de vedella",
         "1 gra d'all",
         "4",
         "g",
         "alls",
         "Verdures"
        ],
        [
         "232",
         "Pollastre a les fines herbes",
         "2-3 dents d'all",
         "6",
         "g",
         "alls",
         "Verdures"
        ],
        [
         "594",
         "Pollastre al forn a les fines herbes + patata (prebiòtica)",
         "2-3 dents d'all",
         "6",
         "g",
         "alls",
         "Verdures"
        ],
        [
         "1056",
         "Pollastre al forn a les fines herbes",
         "2-3 dents d'all",
         "6",
         "g",
         "alls",
         "Verdures"
        ],
        [
         "85",
         "Salmó amb mongetes amb mantequilla",
         "1 all",
         "20",
         "g",
         "alls",
         "Verdures"
        ],
        [
         "90",
         "Hamburguesa de salmó amb pernil salat i patata (probiòtica)",
         "1 all",
         "20",
         "g",
         "alls",
         "Verdures"
        ],
        [
         "357",
         "Amanida de pollastre amb salsa césar (ceto)",
         "1 all",
         "20",
         "g",
         "alls",
         "Verdures"
        ],
        [
         "625",
         "Truita de gambes",
         "1 all",
         "20",
         "g",
         "alls",
         "Verdures"
        ],
        [
         "822",
         "Espinacs saltejats amb pinyons i ametlles",
         "1 all",
         "20",
         "g",
         "alls",
         "Verdures"
        ],
        [
         "953",
         "Truita d'espinacs amb formatge blau i cúrcuma",
         "1 all",
         "20",
         "g",
         "alls",
         "Verdures"
        ],
        [
         "972",
         "Dorada a la sal amb maionesa",
         "1 all",
         "20",
         "g",
         "alls",
         "Verdures"
        ],
        [
         "1024",
         "Pollastre Torrat amb Ruca Trempada",
         "1 All",
         "20",
         "g",
         "alls",
         "Verdures"
        ],
        [
         "8",
         "Solomillo de vedella Strogonoff i arròs basmati",
         "Alls 2",
         "40",
         "g",
         "alls",
         "Verdures"
        ],
        [
         "293",
         "Crema de carabassí",
         "2 alls",
         "40",
         "g",
         "alls",
         "Verdures"
        ],
        [
         "387",
         "Crema de xampinyons",
         "1-2 alls",
         "40",
         "g",
         "alls",
         "Verdures"
        ],
        [
         "415",
         "Hamburguesa Tex-Mex",
         "2 alls",
         "40",
         "g",
         "alls",
         "Verdures"
        ],
        [
         "583",
         "Crema de pastanaga coco, gingebre",
         "2 alls",
         "40",
         "g",
         "alls",
         "Verdures"
        ],
        [
         "638",
         "Crema de xampinyons i Fruits secs",
         "1-2 alls",
         "40",
         "g",
         "alls",
         "Verdures"
        ],
        [
         "720",
         "Hamburguesa",
         "2 alls",
         "40",
         "g",
         "alls",
         "Verdures"
        ],
        [
         "769",
         "Pad-thai",
         "2 alls",
         "40",
         "g",
         "alls",
         "Verdures"
        ],
        [
         "798",
         "Lasanya",
         "2 all",
         "40",
         "g",
         "alls",
         "Verdures"
        ],
        [
         "813",
         "Espaguetis (konjac) marinera amb cloïsses i musclos",
         "2 alls",
         "40",
         "g",
         "alls",
         "Verdures"
        ],
        [
         "840",
         "Cols de brussel·les amb pinyons i parmesà",
         "2 alls",
         "40",
         "g",
         "alls",
         "Verdures"
        ],
        [
         "848",
         "Truita d’espàrrecs, all i cúrcuma",
         "2 alls",
         "40",
         "g",
         "alls",
         "Verdures"
        ],
        [
         "962",
         "Coes de llagostins amb bolets",
         "2 alls",
         "40",
         "g",
         "alls",
         "Verdures"
        ],
        [
         "965",
         "Calamar a la planxa amb bledes saltejades amb all i cúrcuma",
         "2 alls",
         "40",
         "g",
         "alls",
         "Verdures"
        ],
        [
         "996",
         "Pesto d’alfàbrega",
         "2 alls All",
         "40",
         "g",
         "alls",
         "Verdures"
        ],
        [
         "1030",
         "Gambes al ajillo amb Espinacs Saltejats",
         "2 alls",
         "40",
         "g",
         "alls",
         "Verdures"
        ],
        [
         "1037",
         "Pebrots farcits de peix i formatge.",
         "2 alls",
         "40",
         "g",
         "alls",
         "Verdures"
        ]
       ],
       "shape": {
        "columns": 6,
        "rows": 1063
       }
      },
      "text/html": [
       "<div>\n",
       "<style scoped>\n",
       "    .dataframe tbody tr th:only-of-type {\n",
       "        vertical-align: middle;\n",
       "    }\n",
       "\n",
       "    .dataframe tbody tr th {\n",
       "        vertical-align: top;\n",
       "    }\n",
       "\n",
       "    .dataframe thead th {\n",
       "        text-align: right;\n",
       "    }\n",
       "</style>\n",
       "<table border=\"1\" class=\"dataframe\">\n",
       "  <thead>\n",
       "    <tr style=\"text-align: right;\">\n",
       "      <th></th>\n",
       "      <th>receta</th>\n",
       "      <th>ingrediente_original</th>\n",
       "      <th>cantidad</th>\n",
       "      <th>unidad</th>\n",
       "      <th>ingrediente_estandar</th>\n",
       "      <th>tipo_ingrediente</th>\n",
       "    </tr>\n",
       "  </thead>\n",
       "  <tbody>\n",
       "    <tr>\n",
       "      <th>14</th>\n",
       "      <td>Solomillo de vedella Strogonoff i arròs basmati</td>\n",
       "      <td>Agua 10g</td>\n",
       "      <td>0</td>\n",
       "      <td>NaN</td>\n",
       "      <td>aigua</td>\n",
       "      <td>Altres</td>\n",
       "    </tr>\n",
       "    <tr>\n",
       "      <th>27</th>\n",
       "      <td>Cuinat de llenties</td>\n",
       "      <td>750ml d'aigua</td>\n",
       "      <td>0</td>\n",
       "      <td>NaN</td>\n",
       "      <td>aigua</td>\n",
       "      <td>Altres</td>\n",
       "    </tr>\n",
       "    <tr>\n",
       "      <th>74</th>\n",
       "      <td>Vinagreta</td>\n",
       "      <td>10 ml d'aigua</td>\n",
       "      <td>0</td>\n",
       "      <td>NaN</td>\n",
       "      <td>aigua</td>\n",
       "      <td>Altres</td>\n",
       "    </tr>\n",
       "    <tr>\n",
       "      <th>272</th>\n",
       "      <td>Ous bullits amb salmó fumat, tàperes i maionesa</td>\n",
       "      <td>Aigua</td>\n",
       "      <td>0</td>\n",
       "      <td>NaN</td>\n",
       "      <td>aigua</td>\n",
       "      <td>Altres</td>\n",
       "    </tr>\n",
       "    <tr>\n",
       "      <th>608</th>\n",
       "      <td>Pa de lli</td>\n",
       "      <td>120 g d’aigua calenta</td>\n",
       "      <td>0</td>\n",
       "      <td>NaN</td>\n",
       "      <td>aigua</td>\n",
       "      <td>Altres</td>\n",
       "    </tr>\n",
       "    <tr>\n",
       "      <th>...</th>\n",
       "      <td>...</td>\n",
       "      <td>...</td>\n",
       "      <td>...</td>\n",
       "      <td>...</td>\n",
       "      <td>...</td>\n",
       "      <td>...</td>\n",
       "    </tr>\n",
       "    <tr>\n",
       "      <th>603</th>\n",
       "      <td>Pa de lli</td>\n",
       "      <td>xia (una culleradeta)</td>\n",
       "      <td>10</td>\n",
       "      <td>g</td>\n",
       "      <td>xía</td>\n",
       "      <td>Altres</td>\n",
       "    </tr>\n",
       "    <tr>\n",
       "      <th>672</th>\n",
       "      <td>Cetogranola</td>\n",
       "      <td>5-10g de chía (opcional)</td>\n",
       "      <td>10</td>\n",
       "      <td>g</td>\n",
       "      <td>xía</td>\n",
       "      <td>Altres</td>\n",
       "    </tr>\n",
       "    <tr>\n",
       "      <th>3</th>\n",
       "      <td>Iogurt grec amb fraules</td>\n",
       "      <td>Xía 10-20g</td>\n",
       "      <td>20</td>\n",
       "      <td>g</td>\n",
       "      <td>xía</td>\n",
       "      <td>Altres</td>\n",
       "    </tr>\n",
       "    <tr>\n",
       "      <th>733</th>\n",
       "      <td>Iogurt grec amb ametlles i nabius</td>\n",
       "      <td>10-20g de chía</td>\n",
       "      <td>20</td>\n",
       "      <td>g</td>\n",
       "      <td>xía</td>\n",
       "      <td>Altres</td>\n",
       "    </tr>\n",
       "    <tr>\n",
       "      <th>898</th>\n",
       "      <td>Pudding de xía amb fruits vermells i ametlles</td>\n",
       "      <td>3 cullerades soperes de xía</td>\n",
       "      <td>30</td>\n",
       "      <td>g</td>\n",
       "      <td>xía</td>\n",
       "      <td>Altres</td>\n",
       "    </tr>\n",
       "  </tbody>\n",
       "</table>\n",
       "<p>1063 rows × 6 columns</p>\n",
       "</div>"
      ],
      "text/plain": [
       "                                              receta  \\\n",
       "14   Solomillo de vedella Strogonoff i arròs basmati   \n",
       "27                                Cuinat de llenties   \n",
       "74                                         Vinagreta   \n",
       "272  Ous bullits amb salmó fumat, tàperes i maionesa   \n",
       "608                                        Pa de lli   \n",
       "..                                               ...   \n",
       "603                                        Pa de lli   \n",
       "672                                      Cetogranola   \n",
       "3                            Iogurt grec amb fraules   \n",
       "733                Iogurt grec amb ametlles i nabius   \n",
       "898    Pudding de xía amb fruits vermells i ametlles   \n",
       "\n",
       "            ingrediente_original  cantidad unidad ingrediente_estandar  \\\n",
       "14                      Agua 10g         0    NaN                aigua   \n",
       "27                 750ml d'aigua         0    NaN                aigua   \n",
       "74                 10 ml d'aigua         0    NaN                aigua   \n",
       "272                        Aigua         0    NaN                aigua   \n",
       "608        120 g d’aigua calenta         0    NaN                aigua   \n",
       "..                           ...       ...    ...                  ...   \n",
       "603        xia (una culleradeta)        10      g                  xía   \n",
       "672     5-10g de chía (opcional)        10      g                  xía   \n",
       "3                     Xía 10-20g        20      g                  xía   \n",
       "733               10-20g de chía        20      g                  xía   \n",
       "898  3 cullerades soperes de xía        30      g                  xía   \n",
       "\n",
       "    tipo_ingrediente  \n",
       "14            Altres  \n",
       "27            Altres  \n",
       "74            Altres  \n",
       "272           Altres  \n",
       "608           Altres  \n",
       "..               ...  \n",
       "603           Altres  \n",
       "672           Altres  \n",
       "3             Altres  \n",
       "733           Altres  \n",
       "898           Altres  \n",
       "\n",
       "[1063 rows x 6 columns]"
      ]
     },
     "execution_count": 66,
     "metadata": {},
     "output_type": "execute_result"
    }
   ],
   "source": [
    "df.sort_values(by=['ingrediente_estandar', 'cantidad'], ascending=[True, True])"
   ]
  },
  {
   "cell_type": "code",
   "execution_count": 39,
   "metadata": {},
   "outputs": [
    {
     "data": {
      "application/vnd.microsoft.datawrangler.viewer.v0+json": {
       "columns": [
        {
         "name": "index",
         "rawType": "int64",
         "type": "integer"
        },
        {
         "name": "receta",
         "rawType": "object",
         "type": "string"
        },
        {
         "name": "ingrediente_original",
         "rawType": "object",
         "type": "string"
        },
        {
         "name": "cantidad",
         "rawType": "int64",
         "type": "integer"
        },
        {
         "name": "unidad",
         "rawType": "object",
         "type": "unknown"
        },
        {
         "name": "ingrediente_estandar",
         "rawType": "object",
         "type": "string"
        },
        {
         "name": "tipo_ingrediente",
         "rawType": "object",
         "type": "unknown"
        }
       ],
       "ref": "39b190b0-75d2-40a8-a529-8e27faf43b45",
       "rows": [
        [
         "68",
         "Amanida tofu",
         "100 g de pastanaga",
         "1",
         null,
         "pastanaga",
         null
        ],
        [
         "114",
         "Crema de pastanaga amb coco i gingebre",
         "660 g de pastanagues",
         "6",
         null,
         "pastanaga",
         null
        ],
        [
         "373",
         "Amanida thai de tofu (formatge tendre)",
         "100g de pastanaga",
         "1",
         null,
         "pastanaga",
         null
        ],
        [
         "549",
         "Pasta de carabassí scampi",
         "400g de pasta de carbassó (veure recepta)",
         "400",
         "g",
         "pasta de carabassí",
         null
        ],
        [
         "582",
         "Crema de pastanaga coco, gingebre",
         "600 g de pastanagues (5 mitjanes)",
         "5",
         null,
         "pastanaga",
         null
        ],
        [
         "652",
         "Verdures bullides amb ous bullits",
         "100g pastanaga",
         "1",
         null,
         "pastanaga",
         null
        ],
        [
         "726",
         "Amanida de colors",
         "100g de pastanaga",
         "1",
         null,
         "pastanaga",
         null
        ],
        [
         "834",
         "Pitreres de pollastre amb verduretes (al forn) i espècies",
         "1 pastanaga",
         "1",
         null,
         "pastanaga",
         null
        ],
        [
         "850",
         "Pasta de carabassí amb bròquil feta i alfabaguera/herba sana",
         "300 g de pasta de carabassí",
         "300",
         "g",
         "pasta de carabassí",
         null
        ],
        [
         "903",
         "Estofat de vedella",
         "1 pastanaga",
         "1",
         null,
         "pastanaga",
         null
        ],
        [
         "941",
         "Pastís de carn",
         "1 pastanaga",
         "1",
         null,
         "pastanaga",
         null
        ]
       ],
       "shape": {
        "columns": 6,
        "rows": 11
       }
      },
      "text/html": [
       "<div>\n",
       "<style scoped>\n",
       "    .dataframe tbody tr th:only-of-type {\n",
       "        vertical-align: middle;\n",
       "    }\n",
       "\n",
       "    .dataframe tbody tr th {\n",
       "        vertical-align: top;\n",
       "    }\n",
       "\n",
       "    .dataframe thead th {\n",
       "        text-align: right;\n",
       "    }\n",
       "</style>\n",
       "<table border=\"1\" class=\"dataframe\">\n",
       "  <thead>\n",
       "    <tr style=\"text-align: right;\">\n",
       "      <th></th>\n",
       "      <th>receta</th>\n",
       "      <th>ingrediente_original</th>\n",
       "      <th>cantidad</th>\n",
       "      <th>unidad</th>\n",
       "      <th>ingrediente_estandar</th>\n",
       "      <th>tipo_ingrediente</th>\n",
       "    </tr>\n",
       "  </thead>\n",
       "  <tbody>\n",
       "    <tr>\n",
       "      <th>68</th>\n",
       "      <td>Amanida tofu</td>\n",
       "      <td>100 g de pastanaga</td>\n",
       "      <td>1</td>\n",
       "      <td>NaN</td>\n",
       "      <td>pastanaga</td>\n",
       "      <td>None</td>\n",
       "    </tr>\n",
       "    <tr>\n",
       "      <th>114</th>\n",
       "      <td>Crema de pastanaga amb coco i gingebre</td>\n",
       "      <td>660 g de pastanagues</td>\n",
       "      <td>6</td>\n",
       "      <td>NaN</td>\n",
       "      <td>pastanaga</td>\n",
       "      <td>None</td>\n",
       "    </tr>\n",
       "    <tr>\n",
       "      <th>373</th>\n",
       "      <td>Amanida thai de tofu (formatge tendre)</td>\n",
       "      <td>100g de pastanaga</td>\n",
       "      <td>1</td>\n",
       "      <td>NaN</td>\n",
       "      <td>pastanaga</td>\n",
       "      <td>None</td>\n",
       "    </tr>\n",
       "    <tr>\n",
       "      <th>549</th>\n",
       "      <td>Pasta de carabassí scampi</td>\n",
       "      <td>400g de pasta de carbassó (veure recepta)</td>\n",
       "      <td>400</td>\n",
       "      <td>g</td>\n",
       "      <td>pasta de carabassí</td>\n",
       "      <td>None</td>\n",
       "    </tr>\n",
       "    <tr>\n",
       "      <th>582</th>\n",
       "      <td>Crema de pastanaga coco, gingebre</td>\n",
       "      <td>600 g de pastanagues (5 mitjanes)</td>\n",
       "      <td>5</td>\n",
       "      <td>NaN</td>\n",
       "      <td>pastanaga</td>\n",
       "      <td>None</td>\n",
       "    </tr>\n",
       "    <tr>\n",
       "      <th>652</th>\n",
       "      <td>Verdures bullides amb ous bullits</td>\n",
       "      <td>100g pastanaga</td>\n",
       "      <td>1</td>\n",
       "      <td>NaN</td>\n",
       "      <td>pastanaga</td>\n",
       "      <td>None</td>\n",
       "    </tr>\n",
       "    <tr>\n",
       "      <th>726</th>\n",
       "      <td>Amanida de colors</td>\n",
       "      <td>100g de pastanaga</td>\n",
       "      <td>1</td>\n",
       "      <td>NaN</td>\n",
       "      <td>pastanaga</td>\n",
       "      <td>None</td>\n",
       "    </tr>\n",
       "    <tr>\n",
       "      <th>834</th>\n",
       "      <td>Pitreres de pollastre amb verduretes (al forn)...</td>\n",
       "      <td>1 pastanaga</td>\n",
       "      <td>1</td>\n",
       "      <td>NaN</td>\n",
       "      <td>pastanaga</td>\n",
       "      <td>None</td>\n",
       "    </tr>\n",
       "    <tr>\n",
       "      <th>850</th>\n",
       "      <td>Pasta de carabassí amb bròquil feta i alfabagu...</td>\n",
       "      <td>300 g de pasta de carabassí</td>\n",
       "      <td>300</td>\n",
       "      <td>g</td>\n",
       "      <td>pasta de carabassí</td>\n",
       "      <td>None</td>\n",
       "    </tr>\n",
       "    <tr>\n",
       "      <th>903</th>\n",
       "      <td>Estofat de vedella</td>\n",
       "      <td>1 pastanaga</td>\n",
       "      <td>1</td>\n",
       "      <td>NaN</td>\n",
       "      <td>pastanaga</td>\n",
       "      <td>None</td>\n",
       "    </tr>\n",
       "    <tr>\n",
       "      <th>941</th>\n",
       "      <td>Pastís de carn</td>\n",
       "      <td>1 pastanaga</td>\n",
       "      <td>1</td>\n",
       "      <td>NaN</td>\n",
       "      <td>pastanaga</td>\n",
       "      <td>None</td>\n",
       "    </tr>\n",
       "  </tbody>\n",
       "</table>\n",
       "</div>"
      ],
      "text/plain": [
       "                                                receta  \\\n",
       "68                                        Amanida tofu   \n",
       "114             Crema de pastanaga amb coco i gingebre   \n",
       "373             Amanida thai de tofu (formatge tendre)   \n",
       "549                          Pasta de carabassí scampi   \n",
       "582                  Crema de pastanaga coco, gingebre   \n",
       "652                  Verdures bullides amb ous bullits   \n",
       "726                                  Amanida de colors   \n",
       "834  Pitreres de pollastre amb verduretes (al forn)...   \n",
       "850  Pasta de carabassí amb bròquil feta i alfabagu...   \n",
       "903                                 Estofat de vedella   \n",
       "941                                     Pastís de carn   \n",
       "\n",
       "                          ingrediente_original  cantidad unidad  \\\n",
       "68                          100 g de pastanaga         1    NaN   \n",
       "114                       660 g de pastanagues         6    NaN   \n",
       "373                          100g de pastanaga         1    NaN   \n",
       "549  400g de pasta de carbassó (veure recepta)       400      g   \n",
       "582          600 g de pastanagues (5 mitjanes)         5    NaN   \n",
       "652                             100g pastanaga         1    NaN   \n",
       "726                          100g de pastanaga         1    NaN   \n",
       "834                                1 pastanaga         1    NaN   \n",
       "850                300 g de pasta de carabassí       300      g   \n",
       "903                                1 pastanaga         1    NaN   \n",
       "941                                1 pastanaga         1    NaN   \n",
       "\n",
       "    ingrediente_estandar tipo_ingrediente  \n",
       "68             pastanaga             None  \n",
       "114            pastanaga             None  \n",
       "373            pastanaga             None  \n",
       "549   pasta de carabassí             None  \n",
       "582            pastanaga             None  \n",
       "652            pastanaga             None  \n",
       "726            pastanaga             None  \n",
       "834            pastanaga             None  \n",
       "850   pasta de carabassí             None  \n",
       "903            pastanaga             None  \n",
       "941            pastanaga             None  "
      ]
     },
     "execution_count": 39,
     "metadata": {},
     "output_type": "execute_result"
    }
   ],
   "source": [
    "df[df['ingrediente_estandar'].str.contains(\"pasta\", na=False)]"
   ]
  },
  {
   "cell_type": "code",
   "execution_count": null,
   "metadata": {},
   "outputs": [],
   "source": []
  },
  {
   "cell_type": "code",
   "execution_count": 8,
   "metadata": {},
   "outputs": [],
   "source": [
    "mask = df[(df['ingrediente_estandar'].str.contains(\"dents\", na=False)) & (df['cantidad'] == 3)]"
   ]
  },
  {
   "cell_type": "code",
   "execution_count": 34,
   "metadata": {},
   "outputs": [],
   "source": [
    "mask = df[df['ingrediente_estandar'].str.contains(\"bac\", na=False)]"
   ]
  },
  {
   "cell_type": "code",
   "execution_count": 36,
   "metadata": {},
   "outputs": [],
   "source": [
    "#df.loc[mask.index, 'ingrediente_estandar'] = 'bacallà'\n",
    "#df.loc[mask.index, 'cantidad'] = None\n",
    "#df.loc[mask.index, 'unidad'] = None"
   ]
  },
  {
   "cell_type": "code",
   "execution_count": 67,
   "metadata": {},
   "outputs": [],
   "source": [
    "df.loc[[186],'tipo_ingrediente'] = 'Altres'\n",
    "#df.loc[[645],'cantidad'] = 1\n",
    "#df.loc[[781],'unidad'] = None"
   ]
  },
  {
   "cell_type": "markdown",
   "metadata": {},
   "source": [
    "n_fila = [{\n",
    "    'receta': 'Broqueta de gambes amb xoriç',\n",
    "    'ingrediente_original': 'llagostins',\n",
    "    'cantidad': 250,\n",
    "    'unidad': 'g',\n",
    "    'ingrediente_estandar': 'llagostins'\n",
    "}]\n",
    "\n",
    "df = pd.concat([df, pd.DataFrame(n_fila)], ignore_index=True)"
   ]
  },
  {
   "cell_type": "code",
   "execution_count": 14,
   "metadata": {},
   "outputs": [],
   "source": [
    "#df['ingrediente_estandar'] = df['ingrediente_estandar'].replace('salmo fresc', 'salmó fresc')\n",
    "#df['ingrediente_estandar'] = df['ingrediente_estandar'].replace('romani fresc', 'romaní fresc')\n"
   ]
  },
  {
   "cell_type": "code",
   "execution_count": 69,
   "metadata": {},
   "outputs": [],
   "source": [
    "df.to_csv('ingredientes_estandarizados.csv', index=False)"
   ]
  },
  {
   "cell_type": "code",
   "execution_count": null,
   "metadata": {},
   "outputs": [],
   "source": []
  }
 ],
 "metadata": {
  "kernelspec": {
   "display_name": "base",
   "language": "python",
   "name": "python3"
  },
  "language_info": {
   "codemirror_mode": {
    "name": "ipython",
    "version": 3
   },
   "file_extension": ".py",
   "mimetype": "text/x-python",
   "name": "python",
   "nbconvert_exporter": "python",
   "pygments_lexer": "ipython3",
   "version": "3.11.5"
  }
 },
 "nbformat": 4,
 "nbformat_minor": 2
}
