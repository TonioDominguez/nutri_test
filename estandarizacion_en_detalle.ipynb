{
 "cells": [
  {
   "cell_type": "code",
   "execution_count": 1,
   "metadata": {},
   "outputs": [],
   "source": [
    "import pandas as pd"
   ]
  },
  {
   "cell_type": "code",
   "execution_count": 2,
   "metadata": {},
   "outputs": [],
   "source": [
    "data = pd.read_csv('ingredientes_estandarizados.csv')"
   ]
  },
  {
   "cell_type": "code",
   "execution_count": 3,
   "metadata": {},
   "outputs": [],
   "source": [
    "df = data.copy()"
   ]
  },
  {
   "cell_type": "code",
   "execution_count": 25,
   "metadata": {},
   "outputs": [
    {
     "data": {
      "application/vnd.microsoft.datawrangler.viewer.v0+json": {
       "columns": [
        {
         "name": "index",
         "rawType": "int64",
         "type": "integer"
        },
        {
         "name": "receta",
         "rawType": "object",
         "type": "string"
        },
        {
         "name": "ingrediente_original",
         "rawType": "object",
         "type": "string"
        },
        {
         "name": "cantidad",
         "rawType": "int32",
         "type": "integer"
        },
        {
         "name": "unidad",
         "rawType": "object",
         "type": "unknown"
        },
        {
         "name": "ingrediente_estandar",
         "rawType": "object",
         "type": "string"
        }
       ],
       "ref": "8faad764-3a08-4727-a23d-252b66bf9fe1",
       "rows": [
        [
         "0",
         "Iogurt grec amb fraules",
         "Iogurt grec 200g",
         "200",
         "g",
         "iogurt grec"
        ],
        [
         "1",
         "Iogurt grec amb fraules",
         "Fraules 100-150g",
         "150",
         "g",
         "fraules"
        ],
        [
         "2",
         "Iogurt grec amb fraules",
         "Nous i ametlles 30g",
         "30",
         "g",
         "nous i ametlles"
        ],
        [
         "3",
         "Iogurt grec amb fraules",
         "Xía 10-20g",
         "20",
         "g",
         "xía"
        ],
        [
         "4",
         "Iogurt grec amb fraules",
         "Canyella al gust",
         "0",
         null,
         "canyella"
        ],
        [
         "5",
         "Solomillo de vedella Strogonoff i arròs basmati",
         "Solomillo de vedella 150-200g",
         "200",
         "g",
         "solomillo de vedella"
        ],
        [
         "6",
         "Solomillo de vedella Strogonoff i arròs basmati",
         "Xampinyons 100g",
         "100",
         "g",
         "xampinyons"
        ],
        [
         "7",
         "Solomillo de vedella Strogonoff i arròs basmati",
         "Ceba blanca 50g",
         "50",
         "g",
         "ceba blanca"
        ],
        [
         "8",
         "Solomillo de vedella Strogonoff i arròs basmati",
         "Alls 2",
         "40",
         "g",
         "alls"
        ],
        [
         "9",
         "Solomillo de vedella Strogonoff i arròs basmati",
         "Julivert fresc 3g",
         "0",
         null,
         "julivert"
        ],
        [
         "10",
         "Solomillo de vedella Strogonoff i arròs basmati",
         "Oli d’oliva verge 7g (½ cullerada)",
         "0",
         null,
         "oli d'oliva"
        ],
        [
         "11",
         "Solomillo de vedella Strogonoff i arròs basmati",
         "Mantega 10g",
         "0",
         null,
         "mantega"
        ],
        [
         "12",
         "Solomillo de vedella Strogonoff i arròs basmati",
         "Nata líquida 30g",
         "30",
         "ml",
         "nata líquida"
        ],
        [
         "13",
         "Solomillo de vedella Strogonoff i arròs basmati",
         "Tomí (sec) 0,5g (3g si fresc)",
         "0",
         null,
         "tomí sec"
        ],
        [
         "14",
         "Solomillo de vedella Strogonoff i arròs basmati",
         "Agua 10g",
         "0",
         null,
         "aigua"
        ],
        [
         "15",
         "Solomillo de vedella Strogonoff i arròs basmati",
         "Sal i pebre bo al gust",
         "0",
         null,
         "sal i pebre"
        ],
        [
         "16",
         "Espàrrecs embolicats en pernil",
         "½ manat d’espàrrecs",
         "250",
         "g",
         "espàrrecs"
        ],
        [
         "17",
         "Espàrrecs embolicats en pernil",
         "3-4 llesques de pernil salat",
         "80",
         "g",
         "pernil salat"
        ],
        [
         "18",
         "Espàrrecs embolicats en pernil",
         "Oli d’oliva",
         "0",
         null,
         "oli d'oliva"
        ],
        [
         "19",
         "Mini amanida verda",
         "20g d'enciam roman",
         "20",
         "g",
         "enciam romana"
        ],
        [
         "20",
         "Mini amanida verda",
         "15g de ruca",
         "15",
         "g",
         "ruca"
        ],
        [
         "21",
         "Mini amanida verda",
         "20g d'espinacs",
         "20",
         "g",
         "espinacs"
        ],
        [
         "22",
         "Mini amanida verda",
         "15g de kale",
         "15",
         "g",
         "kale"
        ],
        [
         "23",
         "Mini amanida verda",
         "15ml d'oli d'oliva (1 cullerada)",
         "0",
         null,
         "oli d'oliva"
        ],
        [
         "24",
         "Mini amanida verda",
         "5ml de vinagre (opcional)",
         "0",
         null,
         "vinagre"
        ],
        [
         "25",
         "Mini amanida verda",
         "Sal",
         "0",
         null,
         "sal i pebre"
        ],
        [
         "26",
         "Cuinat de llenties",
         "150g de llenties crues",
         "150",
         "g",
         "llenties crues"
        ],
        [
         "27",
         "Cuinat de llenties",
         "750ml d'aigua",
         "0",
         null,
         "aigua"
        ],
        [
         "28",
         "Cuinat de llenties",
         "2 dents d'all",
         "4",
         "g",
         "alls"
        ],
        [
         "29",
         "Cuinat de llenties",
         "1 full de llorer",
         "0",
         null,
         "fulla de llorer"
        ],
        [
         "30",
         "Cuinat de llenties",
         "15ml d'oli d'oliva",
         "0",
         null,
         "oli d'oliva"
        ],
        [
         "31",
         "Cuinat de llenties",
         "200 g de ceba blanca",
         "200",
         "g",
         "ceba blanca"
        ],
        [
         "32",
         "Cuinat de llenties",
         "0.3g de comí en pols (opcional)",
         "0",
         null,
         "comí en pols"
        ],
        [
         "33",
         "Cuinat de llenties",
         "0.5g de pebre vermell dolç (opcional)",
         "0",
         null,
         "pebre vermell dolç"
        ],
        [
         "34",
         "Cuinat de llenties",
         "100 g d'espinacs fresques (o kale)",
         "100",
         "g",
         "espinacs frescs"
        ],
        [
         "35",
         "Cuinat de llenties",
         "Sal al gust",
         "0",
         null,
         "sal i pebre"
        ],
        [
         "36",
         "amanida",
         "45g d'enciam roman",
         "45",
         "g",
         "enciam romana"
        ],
        [
         "37",
         "amanida",
         "25g de ruca",
         "25",
         "g",
         "ruca"
        ],
        [
         "38",
         "amanida",
         "25g d'espinacs",
         "25",
         "g",
         "espinacs"
        ],
        [
         "39",
         "amanida",
         "20g de kale",
         "20",
         "g",
         "kale"
        ],
        [
         "40",
         "amanida",
         "15ml d'oli d'oliva (1 cullerada)",
         "0",
         null,
         "oli d'oliva"
        ],
        [
         "41",
         "amanida",
         "5 ml de vinagre (opcional)",
         "0",
         null,
         "vinagre"
        ],
        [
         "42",
         "amanida",
         "Sal",
         "0",
         null,
         "sal i pebre"
        ],
        [
         "43",
         "Ous frits amb pernil salat i ½ alvocat",
         "3 ous",
         "3",
         null,
         "ous"
        ],
        [
         "44",
         "Ous frits amb pernil salat i ½ alvocat",
         "30g de cuixot salat",
         "30",
         "g",
         "cuixot salat"
        ],
        [
         "45",
         "Ous frits amb pernil salat i ½ alvocat",
         "7ml d'oli d'oliva (1⁄2 cullerada)",
         "0",
         null,
         "oli d'oliva"
        ],
        [
         "46",
         "Ous frits amb pernil salat i ½ alvocat",
         "Sal i pebre al gust",
         "0",
         null,
         "sal i pebre"
        ],
        [
         "47",
         "Ous frits amb pernil salat i ½ alvocat",
         "½ alvocat",
         "100",
         "g",
         "alvocat"
        ],
        [
         "48",
         "Costelles de porc al romaní i boniato (prebiòtc)",
         "250 g de costella de porc amb os (veure observacions)",
         "250",
         "g",
         "costella de porc"
        ],
        [
         "49",
         "Costelles de porc al romaní i boniato (prebiòtc)",
         "2g de romaní fresc (0.5g si és en sec)",
         "0",
         null,
         "romaní fresc"
        ]
       ],
       "shape": {
        "columns": 5,
        "rows": 1063
       }
      },
      "text/html": [
       "<div>\n",
       "<style scoped>\n",
       "    .dataframe tbody tr th:only-of-type {\n",
       "        vertical-align: middle;\n",
       "    }\n",
       "\n",
       "    .dataframe tbody tr th {\n",
       "        vertical-align: top;\n",
       "    }\n",
       "\n",
       "    .dataframe thead th {\n",
       "        text-align: right;\n",
       "    }\n",
       "</style>\n",
       "<table border=\"1\" class=\"dataframe\">\n",
       "  <thead>\n",
       "    <tr style=\"text-align: right;\">\n",
       "      <th></th>\n",
       "      <th>receta</th>\n",
       "      <th>ingrediente_original</th>\n",
       "      <th>cantidad</th>\n",
       "      <th>unidad</th>\n",
       "      <th>ingrediente_estandar</th>\n",
       "    </tr>\n",
       "  </thead>\n",
       "  <tbody>\n",
       "    <tr>\n",
       "      <th>0</th>\n",
       "      <td>Iogurt grec amb fraules</td>\n",
       "      <td>Iogurt grec 200g</td>\n",
       "      <td>200</td>\n",
       "      <td>g</td>\n",
       "      <td>iogurt grec</td>\n",
       "    </tr>\n",
       "    <tr>\n",
       "      <th>1</th>\n",
       "      <td>Iogurt grec amb fraules</td>\n",
       "      <td>Fraules 100-150g</td>\n",
       "      <td>150</td>\n",
       "      <td>g</td>\n",
       "      <td>fraules</td>\n",
       "    </tr>\n",
       "    <tr>\n",
       "      <th>2</th>\n",
       "      <td>Iogurt grec amb fraules</td>\n",
       "      <td>Nous i ametlles 30g</td>\n",
       "      <td>30</td>\n",
       "      <td>g</td>\n",
       "      <td>nous i ametlles</td>\n",
       "    </tr>\n",
       "    <tr>\n",
       "      <th>3</th>\n",
       "      <td>Iogurt grec amb fraules</td>\n",
       "      <td>Xía 10-20g</td>\n",
       "      <td>20</td>\n",
       "      <td>g</td>\n",
       "      <td>xía</td>\n",
       "    </tr>\n",
       "    <tr>\n",
       "      <th>4</th>\n",
       "      <td>Iogurt grec amb fraules</td>\n",
       "      <td>Canyella al gust</td>\n",
       "      <td>0</td>\n",
       "      <td>NaN</td>\n",
       "      <td>canyella</td>\n",
       "    </tr>\n",
       "    <tr>\n",
       "      <th>...</th>\n",
       "      <td>...</td>\n",
       "      <td>...</td>\n",
       "      <td>...</td>\n",
       "      <td>...</td>\n",
       "      <td>...</td>\n",
       "    </tr>\n",
       "    <tr>\n",
       "      <th>1058</th>\n",
       "      <td>Pollastre al forn a les fines herbes</td>\n",
       "      <td>5g d'orenga fresc (0.5g en pols)</td>\n",
       "      <td>0</td>\n",
       "      <td>NaN</td>\n",
       "      <td>orenga fresc</td>\n",
       "    </tr>\n",
       "    <tr>\n",
       "      <th>1059</th>\n",
       "      <td>Pollastre al forn a les fines herbes</td>\n",
       "      <td>15g de mostassa Dijon</td>\n",
       "      <td>0</td>\n",
       "      <td>NaN</td>\n",
       "      <td>mostassa dijon</td>\n",
       "    </tr>\n",
       "    <tr>\n",
       "      <th>1060</th>\n",
       "      <td>Pollastre al forn a les fines herbes</td>\n",
       "      <td>15ml d'oli d'oliva (una cullerada)</td>\n",
       "      <td>0</td>\n",
       "      <td>NaN</td>\n",
       "      <td>oli d'oliva</td>\n",
       "    </tr>\n",
       "    <tr>\n",
       "      <th>1061</th>\n",
       "      <td>Pollastre al forn a les fines herbes</td>\n",
       "      <td>Sal i pebre al gust</td>\n",
       "      <td>0</td>\n",
       "      <td>NaN</td>\n",
       "      <td>sal i pebre</td>\n",
       "    </tr>\n",
       "    <tr>\n",
       "      <th>1062</th>\n",
       "      <td>Broqueta de gambes amb xoriç</td>\n",
       "      <td>llagostins</td>\n",
       "      <td>250</td>\n",
       "      <td>g</td>\n",
       "      <td>llagostins</td>\n",
       "    </tr>\n",
       "  </tbody>\n",
       "</table>\n",
       "<p>1063 rows × 5 columns</p>\n",
       "</div>"
      ],
      "text/plain": [
       "                                    receta  \\\n",
       "0                  Iogurt grec amb fraules   \n",
       "1                  Iogurt grec amb fraules   \n",
       "2                  Iogurt grec amb fraules   \n",
       "3                  Iogurt grec amb fraules   \n",
       "4                  Iogurt grec amb fraules   \n",
       "...                                    ...   \n",
       "1058  Pollastre al forn a les fines herbes   \n",
       "1059  Pollastre al forn a les fines herbes   \n",
       "1060  Pollastre al forn a les fines herbes   \n",
       "1061  Pollastre al forn a les fines herbes   \n",
       "1062          Broqueta de gambes amb xoriç   \n",
       "\n",
       "                    ingrediente_original  cantidad unidad ingrediente_estandar  \n",
       "0                       Iogurt grec 200g       200      g          iogurt grec  \n",
       "1                       Fraules 100-150g       150      g              fraules  \n",
       "2                    Nous i ametlles 30g        30      g      nous i ametlles  \n",
       "3                             Xía 10-20g        20      g                  xía  \n",
       "4                       Canyella al gust         0    NaN             canyella  \n",
       "...                                  ...       ...    ...                  ...  \n",
       "1058    5g d'orenga fresc (0.5g en pols)         0    NaN         orenga fresc  \n",
       "1059               15g de mostassa Dijon         0    NaN       mostassa dijon  \n",
       "1060  15ml d'oli d'oliva (una cullerada)         0    NaN          oli d'oliva  \n",
       "1061                 Sal i pebre al gust         0    NaN          sal i pebre  \n",
       "1062                          llagostins       250      g           llagostins  \n",
       "\n",
       "[1063 rows x 5 columns]"
      ]
     },
     "execution_count": 25,
     "metadata": {},
     "output_type": "execute_result"
    }
   ],
   "source": [
    "df"
   ]
  },
  {
   "cell_type": "code",
   "execution_count": 5,
   "metadata": {},
   "outputs": [
    {
     "data": {
      "text/plain": [
       "Index(['receta', 'ingrediente_original', 'cantidad', 'unidad',\n",
       "       'ingrediente_estandar'],\n",
       "      dtype='object')"
      ]
     },
     "execution_count": 5,
     "metadata": {},
     "output_type": "execute_result"
    }
   ],
   "source": [
    "df.columns"
   ]
  },
  {
   "cell_type": "code",
   "execution_count": 6,
   "metadata": {},
   "outputs": [
    {
     "data": {
      "text/plain": [
       "(1063, 5)"
      ]
     },
     "execution_count": 6,
     "metadata": {},
     "output_type": "execute_result"
    }
   ],
   "source": [
    "df.shape"
   ]
  },
  {
   "cell_type": "code",
   "execution_count": 7,
   "metadata": {},
   "outputs": [
    {
     "data": {
      "text/plain": [
       "231"
      ]
     },
     "execution_count": 7,
     "metadata": {},
     "output_type": "execute_result"
    }
   ],
   "source": [
    "df['ingrediente_estandar'].nunique()"
   ]
  },
  {
   "cell_type": "markdown",
   "metadata": {},
   "source": [
    "### Líneas para manipular!"
   ]
  },
  {
   "cell_type": "code",
   "execution_count": 9,
   "metadata": {},
   "outputs": [],
   "source": [
    "mask = df[(df['ingrediente_estandar'].str.contains(\"dents\", na=False)) & (df['cantidad'] == 3)]"
   ]
  },
  {
   "cell_type": "code",
   "execution_count": 10,
   "metadata": {},
   "outputs": [],
   "source": [
    "mask = df[df['ingrediente_estandar'].str.contains(\"essència\", na=False)]"
   ]
  },
  {
   "cell_type": "code",
   "execution_count": 11,
   "metadata": {},
   "outputs": [],
   "source": [
    "#df.loc[mask.index, 'ingrediente_estandar'] = 'essència de vainilla'\n",
    "#df.loc[mask.index, 'cantidad'] = None\n",
    "#df.loc[mask.index, 'unidad'] = None"
   ]
  },
  {
   "cell_type": "code",
   "execution_count": 12,
   "metadata": {},
   "outputs": [],
   "source": [
    "df.loc[[802],'ingrediente_estandar'] = 'formatge'\n",
    "#df.loc[[645],'cantidad'] = 1\n",
    "#df.loc[[781],'unidad'] = None"
   ]
  },
  {
   "cell_type": "code",
   "execution_count": 13,
   "metadata": {},
   "outputs": [],
   "source": [
    "#df[df['ingrediente_estandar'].str.contains(\"essència\", na=False)]"
   ]
  },
  {
   "cell_type": "markdown",
   "metadata": {},
   "source": [
    "n_fila = [{\n",
    "    'receta': 'Broqueta de gambes amb xoriç',\n",
    "    'ingrediente_original': 'llagostins',\n",
    "    'cantidad': 250,\n",
    "    'unidad': 'g',\n",
    "    'ingrediente_estandar': 'llagostins'\n",
    "}]\n",
    "\n",
    "df = pd.concat([df, pd.DataFrame(n_fila)], ignore_index=True)"
   ]
  },
  {
   "cell_type": "code",
   "execution_count": 14,
   "metadata": {},
   "outputs": [],
   "source": [
    "#df.sort_values(by=['ingrediente_estandar', 'cantidad'], ascending=[True, True])"
   ]
  },
  {
   "cell_type": "code",
   "execution_count": 15,
   "metadata": {},
   "outputs": [],
   "source": [
    "#df['ingrediente_estandar'] = df['ingrediente_estandar'].replace('salmo fresc', 'salmó fresc')\n",
    "#df['ingrediente_estandar'] = df['ingrediente_estandar'].replace('romani fresc', 'romaní fresc')\n"
   ]
  },
  {
   "cell_type": "code",
   "execution_count": 26,
   "metadata": {},
   "outputs": [],
   "source": [
    "df.to_csv('ingredientes_estandarizados.csv', index=False)"
   ]
  },
  {
   "cell_type": "code",
   "execution_count": null,
   "metadata": {},
   "outputs": [],
   "source": []
  }
 ],
 "metadata": {
  "kernelspec": {
   "display_name": "base",
   "language": "python",
   "name": "python3"
  },
  "language_info": {
   "codemirror_mode": {
    "name": "ipython",
    "version": 3
   },
   "file_extension": ".py",
   "mimetype": "text/x-python",
   "name": "python",
   "nbconvert_exporter": "python",
   "pygments_lexer": "ipython3",
   "version": "3.11.5"
  }
 },
 "nbformat": 4,
 "nbformat_minor": 2
}
