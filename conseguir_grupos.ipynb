{
 "cells": [
  {
   "cell_type": "code",
   "execution_count": 1,
   "id": "558b884a-8aff-40bb-a988-2e7a8bbb9f5b",
   "metadata": {
    "tags": []
   },
   "outputs": [],
   "source": [
    "import pandas as pd"
   ]
  },
  {
   "cell_type": "code",
   "execution_count": 2,
   "id": "cf718baf-8377-41f1-b526-17374f71cf2f",
   "metadata": {
    "tags": []
   },
   "outputs": [],
   "source": [
    "import ast #usamos para convertir valores string en columna en listas reales"
   ]
  },
  {
   "cell_type": "code",
   "execution_count": 3,
   "id": "27a20c93-2fc1-4997-9544-b89b8033a3b5",
   "metadata": {
    "tags": []
   },
   "outputs": [],
   "source": [
    "import re"
   ]
  },
  {
   "cell_type": "code",
   "execution_count": 4,
   "id": "baa52077-9aa4-4db2-bad4-d392df309c2d",
   "metadata": {
    "tags": []
   },
   "outputs": [],
   "source": [
    "data = pd.read_csv(\"df_corregido.csv\")"
   ]
  },
  {
   "cell_type": "code",
   "execution_count": 5,
   "id": "8dcbec29-f15c-4a09-a194-4dba6a0a95b8",
   "metadata": {
    "tags": []
   },
   "outputs": [],
   "source": [
    "df = data.copy()"
   ]
  },
  {
   "cell_type": "code",
   "execution_count": 6,
   "id": "e27e32a6-9544-4bb4-9f78-763218430948",
   "metadata": {
    "tags": []
   },
   "outputs": [
    {
     "data": {
      "text/html": [
       "<div>\n",
       "<style scoped>\n",
       "    .dataframe tbody tr th:only-of-type {\n",
       "        vertical-align: middle;\n",
       "    }\n",
       "\n",
       "    .dataframe tbody tr th {\n",
       "        vertical-align: top;\n",
       "    }\n",
       "\n",
       "    .dataframe thead th {\n",
       "        text-align: right;\n",
       "    }\n",
       "</style>\n",
       "<table border=\"1\" class=\"dataframe\">\n",
       "  <thead>\n",
       "    <tr style=\"text-align: right;\">\n",
       "      <th></th>\n",
       "      <th>nom</th>\n",
       "      <th>ingredients</th>\n",
       "      <th>passos</th>\n",
       "      <th>desdejuni</th>\n",
       "      <th>dinar</th>\n",
       "      <th>sopar</th>\n",
       "      <th>snack</th>\n",
       "      <th>apartat</th>\n",
       "    </tr>\n",
       "  </thead>\n",
       "  <tbody>\n",
       "    <tr>\n",
       "      <th>0</th>\n",
       "      <td>Iogurt grec amb fraules</td>\n",
       "      <td>['Iogurt grec 200g', 'Fraules 100-150g', 'Nous...</td>\n",
       "      <td>['Tallar les fraules i mesclar tot en un bol.'...</td>\n",
       "      <td>1</td>\n",
       "      <td>0</td>\n",
       "      <td>1</td>\n",
       "      <td>1</td>\n",
       "      <td>[]</td>\n",
       "    </tr>\n",
       "    <tr>\n",
       "      <th>1</th>\n",
       "      <td>Solomillo de vedella Strogonoff i arròs basmati</td>\n",
       "      <td>['Solomillo de vedella 150-200g', 'Xampinyons ...</td>\n",
       "      <td>['Adobar la carn amb sal i prebe bò.', 'Posar ...</td>\n",
       "      <td>0</td>\n",
       "      <td>1</td>\n",
       "      <td>0</td>\n",
       "      <td>0</td>\n",
       "      <td>[]</td>\n",
       "    </tr>\n",
       "    <tr>\n",
       "      <th>2</th>\n",
       "      <td>Espàrrecs embolicats en pernil</td>\n",
       "      <td>['½ manat d’espàrrecs', '3-4 llesques de perni...</td>\n",
       "      <td>['Preparar forn 150ºC.', 'Xepam les llesques d...</td>\n",
       "      <td>1</td>\n",
       "      <td>0</td>\n",
       "      <td>1</td>\n",
       "      <td>0</td>\n",
       "      <td>[]</td>\n",
       "    </tr>\n",
       "    <tr>\n",
       "      <th>3</th>\n",
       "      <td>Mini amanida verda</td>\n",
       "      <td>[\"20g d'enciam roman\", '15g de ruca', \"20g d'e...</td>\n",
       "      <td>['Mesclar tots els ingredinets en un bol + ½ a...</td>\n",
       "      <td>1</td>\n",
       "      <td>1</td>\n",
       "      <td>1</td>\n",
       "      <td>1</td>\n",
       "      <td>['Amanida']</td>\n",
       "    </tr>\n",
       "    <tr>\n",
       "      <th>4</th>\n",
       "      <td>Cuinat de llenties</td>\n",
       "      <td>['150g de llenties crues', \"750ml d'aigua\", \"2...</td>\n",
       "      <td>['Posar les llenties prèviament remullades i c...</td>\n",
       "      <td>1</td>\n",
       "      <td>1</td>\n",
       "      <td>0</td>\n",
       "      <td>0</td>\n",
       "      <td>[]</td>\n",
       "    </tr>\n",
       "    <tr>\n",
       "      <th>...</th>\n",
       "      <td>...</td>\n",
       "      <td>...</td>\n",
       "      <td>...</td>\n",
       "      <td>...</td>\n",
       "      <td>...</td>\n",
       "      <td>...</td>\n",
       "      <td>...</td>\n",
       "      <td>...</td>\n",
       "    </tr>\n",
       "    <tr>\n",
       "      <th>143</th>\n",
       "      <td>Pebrots farcits de peix i formatge.</td>\n",
       "      <td>['400g de peix (si ho fas amb rap queda molt b...</td>\n",
       "      <td>['Encalentir el forn a 180°C.', 'Rentar i tall...</td>\n",
       "      <td>0</td>\n",
       "      <td>1</td>\n",
       "      <td>0</td>\n",
       "      <td>0</td>\n",
       "      <td>[]</td>\n",
       "    </tr>\n",
       "    <tr>\n",
       "      <th>144</th>\n",
       "      <td>Ou bullit amb salmó fumat i ½ alvocat</td>\n",
       "      <td>['2 OU', '100 g de salmó fumat', '½ ALVOCAT', ...</td>\n",
       "      <td>['Bullir l’ou durante 8 minuts i quan estigui ...</td>\n",
       "      <td>1</td>\n",
       "      <td>0</td>\n",
       "      <td>1</td>\n",
       "      <td>0</td>\n",
       "      <td>[]</td>\n",
       "    </tr>\n",
       "    <tr>\n",
       "      <th>145</th>\n",
       "      <td>Ous remenats o fregits amb cuixot salat</td>\n",
       "      <td>['3 ous', '35 g de pernil', \"8 ml d'oli d'oliv...</td>\n",
       "      <td>['Encalentir l’oli a la paella, tirar els ous,...</td>\n",
       "      <td>1</td>\n",
       "      <td>0</td>\n",
       "      <td>1</td>\n",
       "      <td>0</td>\n",
       "      <td>[]</td>\n",
       "    </tr>\n",
       "    <tr>\n",
       "      <th>146</th>\n",
       "      <td>Espàrrecs saltejats</td>\n",
       "      <td>['200g d’espàrrecs', '10 g de mantega', 'pebre...</td>\n",
       "      <td>['Rentar i tallar els espàrrecs', 'Encalentir ...</td>\n",
       "      <td>0</td>\n",
       "      <td>1</td>\n",
       "      <td>1</td>\n",
       "      <td>0</td>\n",
       "      <td>[]</td>\n",
       "    </tr>\n",
       "    <tr>\n",
       "      <th>147</th>\n",
       "      <td>Pollastre al forn a les fines herbes</td>\n",
       "      <td>['400g de pollastre a trossos amb os i pell', ...</td>\n",
       "      <td>['Talla-ho tot petit i ratlla la pell de la ll...</td>\n",
       "      <td>0</td>\n",
       "      <td>1</td>\n",
       "      <td>0</td>\n",
       "      <td>0</td>\n",
       "      <td>['Pollastre']</td>\n",
       "    </tr>\n",
       "  </tbody>\n",
       "</table>\n",
       "<p>148 rows × 8 columns</p>\n",
       "</div>"
      ],
      "text/plain": [
       "                                                 nom  \\\n",
       "0                            Iogurt grec amb fraules   \n",
       "1    Solomillo de vedella Strogonoff i arròs basmati   \n",
       "2                     Espàrrecs embolicats en pernil   \n",
       "3                                 Mini amanida verda   \n",
       "4                                 Cuinat de llenties   \n",
       "..                                               ...   \n",
       "143              Pebrots farcits de peix i formatge.   \n",
       "144            Ou bullit amb salmó fumat i ½ alvocat   \n",
       "145          Ous remenats o fregits amb cuixot salat   \n",
       "146                              Espàrrecs saltejats   \n",
       "147             Pollastre al forn a les fines herbes   \n",
       "\n",
       "                                           ingredients  \\\n",
       "0    ['Iogurt grec 200g', 'Fraules 100-150g', 'Nous...   \n",
       "1    ['Solomillo de vedella 150-200g', 'Xampinyons ...   \n",
       "2    ['½ manat d’espàrrecs', '3-4 llesques de perni...   \n",
       "3    [\"20g d'enciam roman\", '15g de ruca', \"20g d'e...   \n",
       "4    ['150g de llenties crues', \"750ml d'aigua\", \"2...   \n",
       "..                                                 ...   \n",
       "143  ['400g de peix (si ho fas amb rap queda molt b...   \n",
       "144  ['2 OU', '100 g de salmó fumat', '½ ALVOCAT', ...   \n",
       "145  ['3 ous', '35 g de pernil', \"8 ml d'oli d'oliv...   \n",
       "146  ['200g d’espàrrecs', '10 g de mantega', 'pebre...   \n",
       "147  ['400g de pollastre a trossos amb os i pell', ...   \n",
       "\n",
       "                                                passos  desdejuni  dinar  \\\n",
       "0    ['Tallar les fraules i mesclar tot en un bol.'...          1      0   \n",
       "1    ['Adobar la carn amb sal i prebe bò.', 'Posar ...          0      1   \n",
       "2    ['Preparar forn 150ºC.', 'Xepam les llesques d...          1      0   \n",
       "3    ['Mesclar tots els ingredinets en un bol + ½ a...          1      1   \n",
       "4    ['Posar les llenties prèviament remullades i c...          1      1   \n",
       "..                                                 ...        ...    ...   \n",
       "143  ['Encalentir el forn a 180°C.', 'Rentar i tall...          0      1   \n",
       "144  ['Bullir l’ou durante 8 minuts i quan estigui ...          1      0   \n",
       "145  ['Encalentir l’oli a la paella, tirar els ous,...          1      0   \n",
       "146  ['Rentar i tallar els espàrrecs', 'Encalentir ...          0      1   \n",
       "147  ['Talla-ho tot petit i ratlla la pell de la ll...          0      1   \n",
       "\n",
       "     sopar  snack        apartat  \n",
       "0        1      1             []  \n",
       "1        0      0             []  \n",
       "2        1      0             []  \n",
       "3        1      1    ['Amanida']  \n",
       "4        0      0             []  \n",
       "..     ...    ...            ...  \n",
       "143      0      0             []  \n",
       "144      1      0             []  \n",
       "145      1      0             []  \n",
       "146      1      0             []  \n",
       "147      0      0  ['Pollastre']  \n",
       "\n",
       "[148 rows x 8 columns]"
      ]
     },
     "execution_count": 6,
     "metadata": {},
     "output_type": "execute_result"
    }
   ],
   "source": [
    "df"
   ]
  },
  {
   "cell_type": "markdown",
   "id": "a10e25d8-2837-4094-b7ec-7cce15282e21",
   "metadata": {},
   "source": [
    "### Conversión de valores strings en cadenas reales para facilitar manipulacion"
   ]
  },
  {
   "cell_type": "code",
   "execution_count": 7,
   "id": "5f204437-672a-4edd-9fb5-6a04d08ea10f",
   "metadata": {
    "tags": []
   },
   "outputs": [],
   "source": [
    "df[\"ingredients\"] = df[\"ingredients\"].apply(ast.literal_eval)"
   ]
  },
  {
   "cell_type": "code",
   "execution_count": 8,
   "id": "cfd40244-42d6-4e84-806a-902c8efb8e3f",
   "metadata": {
    "tags": []
   },
   "outputs": [],
   "source": [
    "df[\"passos\"] = df[\"passos\"].apply(ast.literal_eval)"
   ]
  },
  {
   "cell_type": "code",
   "execution_count": 9,
   "id": "0d56f2a9-a897-4730-b628-8af678ac5d03",
   "metadata": {
    "tags": []
   },
   "outputs": [],
   "source": [
    "df[\"apartat\"] = df[\"apartat\"].apply(ast.literal_eval)"
   ]
  },
  {
   "cell_type": "markdown",
   "id": "85adc7d1-bd9f-4c7c-ba8c-a9d5d393e906",
   "metadata": {},
   "source": [
    "### Conseguir \"apartat\" de cada receta"
   ]
  },
  {
   "cell_type": "code",
   "execution_count": 10,
   "id": "4fcfe120-1f75-489c-938e-39aba907cf5d",
   "metadata": {
    "tags": []
   },
   "outputs": [],
   "source": [
    "# Crea \"apartat\" si no existe\n",
    "\n",
    "if \"apartat\" not in df.columns:\n",
    "    df[\"apartat\"] = [[] for _ in range(len(df))]"
   ]
  },
  {
   "cell_type": "code",
   "execution_count": 11,
   "id": "d602bef3-95d4-46ad-ba2b-39109bb5f995",
   "metadata": {
    "tags": []
   },
   "outputs": [],
   "source": [
    "# Introduce Amanida \n",
    "\n",
    "df[\"apartat\"] = df.apply(\n",
    "    lambda row: list(set(row[\"apartat\"] + [\"Amanida\"])) if \"amanida\" in row[\"nom\"].lower() else row[\"apartat\"],\n",
    "    axis=1\n",
    ")"
   ]
  },
  {
   "cell_type": "code",
   "execution_count": 12,
   "id": "54f97997-c461-4ab0-be60-3a076f60ed05",
   "metadata": {
    "tags": []
   },
   "outputs": [],
   "source": [
    "# Introduce Carn Blanca \n",
    "\n",
    "#carn_blanca = [\"pollastre\", \"gall dindi\", \"gall d'indi\", \"conill\", \"guatlla\", \"ànec\", \"gallina\", \"faisà\", \"colomí\"]\n",
    "\n",
    "#df[\"apartat\"] = df.apply(\n",
    "#    lambda row: list(set(row[\"apartat\"] + [\"Carn blanca\"])) \n",
    "#    if any(ingredient in row[\"nom\"].lower() for ingredient in carn_blanca) or any(ingredient in ing.lower() for ingredient in carn_blanca for ing in row[\"ingredients\"]) \n",
    "#    else row[\"apartat\"],\n",
    "#    axis=1\n",
    "#)\n",
    "\n",
    "'''\n",
    "Tenemos el problema de \"brou de pollastre\", así que tenemos que añadir una función que excluya esta coincidencia\n",
    "'''\n",
    "\n",
    "carn_blanca = [\"pollastre\", \"gall dindi\", \"gall d'indi\", \"conill\", \"guatlla\", \"ànec\", \"gallina\", \"faisà\", \"colomí\"]\n",
    "exclusiones = [\"brou de pollastre\", \"brou casolà de pollastre\"]\n",
    "\n",
    "def es_carne_blanca_valida(ingrediente):\n",
    "    ingrediente_lower = ingrediente.lower()\n",
    "    if any(excl in ingrediente_lower for excl in exclusiones):\n",
    "        return False\n",
    "    return any(carne in ingrediente_lower for carne in carn_blanca)\n",
    "\n",
    "df[\"apartat\"] = df.apply(\n",
    "    lambda row: list(set(row[\"apartat\"] + [\"Carn blanca\"]))\n",
    "    if any(ingredient in row[\"nom\"].lower() for ingredient in carn_blanca) or\n",
    "       any(es_carne_blanca_valida(ing) for ing in row[\"ingredients\"])\n",
    "    else row[\"apartat\"],\n",
    "    axis=1\n",
    ")"
   ]
  },
  {
   "cell_type": "code",
   "execution_count": 13,
   "id": "9c475b2b-fdf4-4fb1-98e7-e3e765b371c5",
   "metadata": {
    "tags": []
   },
   "outputs": [],
   "source": [
    "# Introduce Carn Vermella\n",
    "\n",
    "carn_vermella = [\"vedella\", \"vedell\", \"bou\", \"vaca\", \"cabrit\", \"porc\", \"cavall\", \"búfal\", \"xoriç\", \"pernil\", \"carn picada\"]\n",
    "\n",
    "df[\"apartat\"] = df.apply(\n",
    "    lambda row: list(set(row[\"apartat\"] + [\"Carn vermella\"])) \n",
    "    if any(ingredient in row[\"nom\"].lower() for ingredient in carn_vermella) or any(ingredient in ing.lower() for ingredient in carn_vermella for ing in row[\"ingredients\"]) \n",
    "    else row[\"apartat\"],\n",
    "    axis=1\n",
    ")"
   ]
  },
  {
   "cell_type": "code",
   "execution_count": 14,
   "id": "3a08f15d-81ba-4688-b6bd-9002f70bd251",
   "metadata": {
    "tags": []
   },
   "outputs": [],
   "source": [
    "# Introduce Pescado\n",
    "\n",
    "peix = [\"salmó\", \"bacallà\", \"tonyina\", \"dorada\", \"peix\", \"lubina\", \"truita\"]\n",
    "\n",
    "df[\"apartat\"] = df.apply(\n",
    "    lambda row: list(set(row[\"apartat\"] + [\"Peix\"])) \n",
    "    if any(ingredient in row[\"nom\"].lower() for ingredient in peix) or any(ingredient in ing.lower() for ingredient in peix for ing in row[\"ingredients\"]) \n",
    "    else row[\"apartat\"],\n",
    "    axis=1\n",
    ")"
   ]
  },
  {
   "cell_type": "code",
   "execution_count": 15,
   "id": "926d73c3-7a45-43ba-a3fe-560084aac1be",
   "metadata": {
    "tags": []
   },
   "outputs": [],
   "source": [
    "# Introduce Postre\n",
    "\n",
    "postre = [\"xocolata\", \"bombó\", \"muffins\", \"fraules\", \"iogurt grec amb\", \"cetogranola\", \"granola\"]\n",
    "\n",
    "df[\"apartat\"] = df.apply(\n",
    "    lambda row: list(set(row[\"apartat\"] + [\"Postre\"])) \n",
    "    if any(ingredient in row[\"nom\"].lower() for ingredient in postre) or any(ingredient in ing.lower() for ingredient in postre for ing in row[\"ingredients\"]) \n",
    "    else row[\"apartat\"],\n",
    "    axis=1\n",
    ")"
   ]
  },
  {
   "cell_type": "code",
   "execution_count": 16,
   "id": "c1ef4d7a-d703-4180-b5a7-7ec2d9079372",
   "metadata": {
    "tags": []
   },
   "outputs": [],
   "source": [
    "# Introduce Marisco\n",
    "\n",
    "marisc = [\"gambes\", \"llagostins\", \"clöisses\", \"musclos\"]\n",
    "\n",
    "df[\"apartat\"] = df.apply(\n",
    "    lambda row: list(set(row[\"apartat\"] + [\"Marisc\"])) \n",
    "    if any(ingredient in row[\"nom\"].lower() for ingredient in marisc) or any(ingredient in ing.lower() for ingredient in marisc for ing in row[\"ingredients\"]) \n",
    "    else row[\"apartat\"],\n",
    "    axis=1\n",
    ")"
   ]
  },
  {
   "cell_type": "code",
   "execution_count": 17,
   "id": "0014a696-b168-4d68-a840-5b1a94d67b52",
   "metadata": {
    "tags": []
   },
   "outputs": [],
   "source": [
    "# Introduce Crema \n",
    "\n",
    "df[\"apartat\"] = df.apply(\n",
    "    lambda row: list(set(row[\"apartat\"] + [\"Crema\"])) if \"crema\" in row[\"nom\"].lower() else row[\"apartat\"],\n",
    "    axis=1\n",
    ")"
   ]
  },
  {
   "cell_type": "code",
   "execution_count": 18,
   "id": "4e7fb590-1411-48e3-a6f9-acae567be152",
   "metadata": {
    "tags": []
   },
   "outputs": [],
   "source": [
    "# Introduce Iogurt \n",
    "\n",
    "df[\"apartat\"] = df.apply(\n",
    "    lambda row: list(set(row[\"apartat\"] + [\"Iogurt\"])) if \"iogurt\" in row[\"nom\"].lower() else row[\"apartat\"],\n",
    "    axis=1\n",
    ")"
   ]
  },
  {
   "cell_type": "code",
   "execution_count": 19,
   "id": "7943af89-e134-4169-833f-55eeecb3e60b",
   "metadata": {
    "tags": []
   },
   "outputs": [],
   "source": [
    "# Introduce Ous\n",
    "'''\n",
    "Hubo problemas ya que detectaba ou dentro de nous y brous, así que usaremos regex\n",
    "'''\n",
    "\n",
    "ous = [\"ous\", \"ou\"]\n",
    "\n",
    "pattern = r'\\b(?:' + '|'.join(ous) + r')\\b'\n",
    "\n",
    "df[\"apartat\"] = df.apply(\n",
    "    lambda row: list(set(row[\"apartat\"] + [\"Ou\"])) \n",
    "    if (\n",
    "        row[\"nom\"] and isinstance(row[\"nom\"], str) and re.search(pattern, row[\"nom\"].lower())\n",
    "    ) or (\n",
    "        row[\"ingredients\"] and isinstance(row[\"ingredients\"], list) and any(\n",
    "            re.search(pattern, ing.lower()) for ing in row[\"ingredients\"] if isinstance(ing, str)\n",
    "        )\n",
    "    )\n",
    "    else row[\"apartat\"],\n",
    "    axis=1\n",
    ")"
   ]
  },
  {
   "cell_type": "code",
   "execution_count": 20,
   "id": "be77e514-d5db-4950-a806-a8aaf55dd80e",
   "metadata": {
    "tags": []
   },
   "outputs": [],
   "source": [
    "# Introduce Fruit Secs\n",
    "\n",
    "f_secs = [\"ametlles\", \"nous\", \"pinyons\", \"avellanes\", \"cacauets\", \"pipes\"]\n",
    "\n",
    "df[\"apartat\"] = df.apply(\n",
    "    lambda row: list(set(row[\"apartat\"] + [\"Fruit secs\"])) \n",
    "    if any(ingredient in row[\"nom\"].lower() for ingredient in f_secs) or any(ingredient in ing.lower() for ingredient in f_secs for ing in row[\"ingredients\"]) \n",
    "    else row[\"apartat\"],\n",
    "    axis=1\n",
    ")"
   ]
  },
  {
   "cell_type": "code",
   "execution_count": 21,
   "id": "d0ccc3da-1081-449d-abf3-ff6cb3229b21",
   "metadata": {
    "tags": []
   },
   "outputs": [],
   "source": [
    "# Introduce Ceto\n",
    "\n",
    "df[\"apartat\"] = df.apply(\n",
    "    lambda row: list(set(row[\"apartat\"] + [\"Ceto\"])) if \"ceto\" in row[\"nom\"].lower() or any(\"ceto\" in ing.lower() for ing in row[\"ingredients\"]) else row[\"apartat\"],\n",
    "    axis=1\n",
    ")"
   ]
  },
  {
   "cell_type": "code",
   "execution_count": 22,
   "id": "86119dd4-2aa1-4d4c-a5dd-53b656ac2a95",
   "metadata": {
    "tags": []
   },
   "outputs": [],
   "source": [
    "# Introduce Guarnició\n",
    "\n",
    "guarnicio = [\"bledes saltejades\", \"espinacs saltejats\", \"coliflor al forn\", \"verduretes al forn\", \"bròquil al vapor\", \"espàrrecs saltejats\", \"cols de brussel·les amb pinyons\", \n",
    "             \"boniato al forn\", \"patata prebiòtica\", \"amanida\", \"ruca trempada\", \"canonges\", \"xampinyons saltejats\", \"bolets saltejats\", \"pasta de carabassí\", \"arròs de coliflor\", \"bolets\", \"guacamole\", \"verdures\",\n",
    "            \"cuinat de llenties\", \"boniato rostit\", \"crocant de formatge\", ]\n",
    "\n",
    "df[\"apartat\"] = df.apply(\n",
    "    lambda row: list(set(row[\"apartat\"] + [\"Guarnicio\"])) \n",
    "    if any(ingredient in row[\"nom\"].lower() for ingredient in guarnicio) or any(ingredient in ing.lower() for ingredient in guarnicio for ing in row[\"ingredients\"]) \n",
    "    else row[\"apartat\"],\n",
    "    axis=1\n",
    ")"
   ]
  },
  {
   "cell_type": "code",
   "execution_count": 23,
   "id": "eeb18e9e-312d-462b-a268-f84476c9f8f5",
   "metadata": {
    "tags": []
   },
   "outputs": [],
   "source": [
    "# Introduce Salsa\n",
    "\n",
    "salsa = [\"vinagreta\", \"marinada bbq\", \"pesto\"]\n",
    "\n",
    "df[\"apartat\"] = df.apply(\n",
    "    lambda row: list(set(row[\"apartat\"] + [\"Salsa\"])) \n",
    "    if any(ingredient in row[\"nom\"].lower() for ingredient in salsa)\n",
    "    else row[\"apartat\"],\n",
    "    axis=1\n",
    ")"
   ]
  },
  {
   "cell_type": "code",
   "execution_count": 24,
   "id": "e057c374-012a-403b-a0a6-7a30b61429c8",
   "metadata": {},
   "outputs": [],
   "source": [
    "#Introduce Pseudopasta\n",
    "#Incluye exclusion de \"pastanaga\"\n",
    "\n",
    "pseudopasta = [\"tallarí\", \"tallarins\", \"espagueti\", \"espaguetis\", \"lasanya\", \"lasaña\",\"risotto\", \"rissotto\", \"pizza\", \"macarró\", \"macarrons\", \"canelons\",\n",
    "                \"fetuccini\", \"fettuccine\", \"pasta\", \"pad-thai\"]\n",
    "exclusion = [\"pastanaga\"]\n",
    "\n",
    "def es_pseudopasta_valida(row):\n",
    "    nombre_lower = row[\"nom\"].lower()\n",
    "    if any(excl in nombre_lower for excl in exclusion):\n",
    "        return False\n",
    "    return any(pasta in nombre_lower for pasta in pseudopasta)\n",
    "\n",
    "df[\"apartat\"] = df.apply(\n",
    "    lambda row: list(set(row[\"apartat\"] + [\"Pseudopasta\"])) \n",
    "    if es_pseudopasta_valida(row)\n",
    "    else row[\"apartat\"],\n",
    "    axis=1\n",
    ")"
   ]
  },
  {
   "cell_type": "code",
   "execution_count": 25,
   "id": "3b7e1a8d-5d34-4023-ad9a-4c5d6b29094e",
   "metadata": {},
   "outputs": [],
   "source": [
    "# Introduce Pa\n",
    "\n",
    "pa = [\"pa de\", \"pa (\"]\n",
    "\n",
    "df[\"apartat\"] = df.apply(\n",
    "    lambda row: list(set(row[\"apartat\"] + [\"Pa\"])) \n",
    "    if any(ingredient in row[\"nom\"].lower() for ingredient in pa)\n",
    "    else row[\"apartat\"],\n",
    "    axis=1\n",
    ")"
   ]
  },
  {
   "cell_type": "code",
   "execution_count": 26,
   "id": "a58ecd9c-f4a3-4d88-8e78-6f7d3743e069",
   "metadata": {
    "tags": []
   },
   "outputs": [
    {
     "data": {
      "text/html": [
       "<div>\n",
       "<style scoped>\n",
       "    .dataframe tbody tr th:only-of-type {\n",
       "        vertical-align: middle;\n",
       "    }\n",
       "\n",
       "    .dataframe tbody tr th {\n",
       "        vertical-align: top;\n",
       "    }\n",
       "\n",
       "    .dataframe thead th {\n",
       "        text-align: right;\n",
       "    }\n",
       "</style>\n",
       "<table border=\"1\" class=\"dataframe\">\n",
       "  <thead>\n",
       "    <tr style=\"text-align: right;\">\n",
       "      <th></th>\n",
       "      <th>nom</th>\n",
       "      <th>ingredients</th>\n",
       "      <th>passos</th>\n",
       "      <th>desdejuni</th>\n",
       "      <th>dinar</th>\n",
       "      <th>sopar</th>\n",
       "      <th>snack</th>\n",
       "      <th>apartat</th>\n",
       "    </tr>\n",
       "  </thead>\n",
       "  <tbody>\n",
       "    <tr>\n",
       "      <th>0</th>\n",
       "      <td>Iogurt grec amb fraules</td>\n",
       "      <td>[Iogurt grec 200g, Fraules 100-150g, Nous i am...</td>\n",
       "      <td>[Tallar les fraules i mesclar tot en un bol., ...</td>\n",
       "      <td>1</td>\n",
       "      <td>0</td>\n",
       "      <td>1</td>\n",
       "      <td>1</td>\n",
       "      <td>[Postre, Fruit secs, Iogurt]</td>\n",
       "    </tr>\n",
       "    <tr>\n",
       "      <th>1</th>\n",
       "      <td>Solomillo de vedella Strogonoff i arròs basmati</td>\n",
       "      <td>[Solomillo de vedella 150-200g, Xampinyons 100...</td>\n",
       "      <td>[Adobar la carn amb sal i prebe bò., Posar la ...</td>\n",
       "      <td>0</td>\n",
       "      <td>1</td>\n",
       "      <td>0</td>\n",
       "      <td>0</td>\n",
       "      <td>[Fruit secs, Carn vermella]</td>\n",
       "    </tr>\n",
       "    <tr>\n",
       "      <th>2</th>\n",
       "      <td>Espàrrecs embolicats en pernil</td>\n",
       "      <td>[½ manat d’espàrrecs, 3-4 llesques de pernil s...</td>\n",
       "      <td>[Preparar forn 150ºC., Xepam les llesques de c...</td>\n",
       "      <td>1</td>\n",
       "      <td>0</td>\n",
       "      <td>1</td>\n",
       "      <td>0</td>\n",
       "      <td>[Carn vermella]</td>\n",
       "    </tr>\n",
       "    <tr>\n",
       "      <th>3</th>\n",
       "      <td>Mini amanida verda</td>\n",
       "      <td>[20g d'enciam roman, 15g de ruca, 20g d'espina...</td>\n",
       "      <td>[Mesclar tots els ingredinets en un bol + ½ al...</td>\n",
       "      <td>1</td>\n",
       "      <td>1</td>\n",
       "      <td>1</td>\n",
       "      <td>1</td>\n",
       "      <td>[Amanida, Guarnicio]</td>\n",
       "    </tr>\n",
       "    <tr>\n",
       "      <th>4</th>\n",
       "      <td>Cuinat de llenties</td>\n",
       "      <td>[150g de llenties crues, 750ml d'aigua, 2 dent...</td>\n",
       "      <td>[Posar les llenties prèviament remullades i co...</td>\n",
       "      <td>1</td>\n",
       "      <td>1</td>\n",
       "      <td>0</td>\n",
       "      <td>0</td>\n",
       "      <td>[Guarnicio]</td>\n",
       "    </tr>\n",
       "  </tbody>\n",
       "</table>\n",
       "</div>"
      ],
      "text/plain": [
       "                                               nom  \\\n",
       "0                          Iogurt grec amb fraules   \n",
       "1  Solomillo de vedella Strogonoff i arròs basmati   \n",
       "2                   Espàrrecs embolicats en pernil   \n",
       "3                               Mini amanida verda   \n",
       "4                               Cuinat de llenties   \n",
       "\n",
       "                                         ingredients  \\\n",
       "0  [Iogurt grec 200g, Fraules 100-150g, Nous i am...   \n",
       "1  [Solomillo de vedella 150-200g, Xampinyons 100...   \n",
       "2  [½ manat d’espàrrecs, 3-4 llesques de pernil s...   \n",
       "3  [20g d'enciam roman, 15g de ruca, 20g d'espina...   \n",
       "4  [150g de llenties crues, 750ml d'aigua, 2 dent...   \n",
       "\n",
       "                                              passos  desdejuni  dinar  sopar  \\\n",
       "0  [Tallar les fraules i mesclar tot en un bol., ...          1      0      1   \n",
       "1  [Adobar la carn amb sal i prebe bò., Posar la ...          0      1      0   \n",
       "2  [Preparar forn 150ºC., Xepam les llesques de c...          1      0      1   \n",
       "3  [Mesclar tots els ingredinets en un bol + ½ al...          1      1      1   \n",
       "4  [Posar les llenties prèviament remullades i co...          1      1      0   \n",
       "\n",
       "   snack                       apartat  \n",
       "0      1  [Postre, Fruit secs, Iogurt]  \n",
       "1      0   [Fruit secs, Carn vermella]  \n",
       "2      0               [Carn vermella]  \n",
       "3      1          [Amanida, Guarnicio]  \n",
       "4      0                   [Guarnicio]  "
      ]
     },
     "execution_count": 26,
     "metadata": {},
     "output_type": "execute_result"
    }
   ],
   "source": [
    "df.head()"
   ]
  },
  {
   "cell_type": "code",
   "execution_count": 27,
   "id": "09fa1f4d-dc6f-46ba-b7bf-af03b62d9d2a",
   "metadata": {
    "tags": []
   },
   "outputs": [
    {
     "data": {
      "text/plain": [
       "nom                                                 Cetp-nutella\n",
       "ingredients    [40g de xocolata 90%, 30g d'avellanes naturals...\n",
       "passos         [Col·locar les avellanes a la picadora. Picar ...\n",
       "desdejuni                                                      1\n",
       "dinar                                                          0\n",
       "sopar                                                          0\n",
       "snack                                                          1\n",
       "apartat                                     [Postre, Fruit secs]\n",
       "Name: 53, dtype: object"
      ]
     },
     "execution_count": 27,
     "metadata": {},
     "output_type": "execute_result"
    }
   ],
   "source": [
    "df.iloc[53]"
   ]
  },
  {
   "cell_type": "code",
   "execution_count": 28,
   "id": "3bc05cbe-20c6-47c0-92de-35becd0ec461",
   "metadata": {
    "tags": []
   },
   "outputs": [
    {
     "name": "stderr",
     "output_type": "stream",
     "text": [
      "C:\\Users\\antdo\\AppData\\Local\\Temp\\ipykernel_30112\\331454593.py:1: FutureWarning: A value is trying to be set on a copy of a DataFrame or Series through chained assignment using an inplace method.\n",
      "The behavior will change in pandas 3.0. This inplace method will never work because the intermediate object on which we are setting values always behaves as a copy.\n",
      "\n",
      "For example, when doing 'df[col].method(value, inplace=True)', try using 'df.method({col: value}, inplace=True)' or df[col] = df[col].method(value) instead, to perform the operation inplace on the original object.\n",
      "\n",
      "\n",
      "  df[\"nom\"].replace(\"Cetp-nutella\", \"Ceto-nutella\", inplace=True)\n"
     ]
    }
   ],
   "source": [
    "df[\"nom\"].replace(\"Cetp-nutella\", \"Ceto-nutella\", inplace=True)"
   ]
  },
  {
   "cell_type": "markdown",
   "id": "2879a9f1-6212-4b1d-a005-ae0d329d784d",
   "metadata": {
    "tags": []
   },
   "source": [
    "### Export DF LIMPIO"
   ]
  },
  {
   "cell_type": "code",
   "execution_count": 29,
   "id": "042d8dfd-da80-44dd-9b99-22b770434ca2",
   "metadata": {
    "tags": []
   },
   "outputs": [],
   "source": [
    "df.to_csv(\"recetas_cat_0301.csv\", index=False)"
   ]
  },
  {
   "cell_type": "code",
   "execution_count": null,
   "id": "9de00507-a284-4269-bbeb-a347c7b120a8",
   "metadata": {},
   "outputs": [],
   "source": []
  },
  {
   "cell_type": "code",
   "execution_count": 48,
   "id": "a84e11c5-7923-44a8-b9eb-2c18b11c475d",
   "metadata": {},
   "outputs": [],
   "source": [
    "df_filtrado = df[df['apartat'].apply(lambda x: isinstance(x, list) and \"Postre\" in x)]"
   ]
  },
  {
   "cell_type": "code",
   "execution_count": 49,
   "id": "94bc13e3-4a83-415c-abf5-a1fabb97e0e9",
   "metadata": {
    "tags": []
   },
   "outputs": [
    {
     "data": {
      "text/html": [
       "<div>\n",
       "<style scoped>\n",
       "    .dataframe tbody tr th:only-of-type {\n",
       "        vertical-align: middle;\n",
       "    }\n",
       "\n",
       "    .dataframe tbody tr th {\n",
       "        vertical-align: top;\n",
       "    }\n",
       "\n",
       "    .dataframe thead th {\n",
       "        text-align: right;\n",
       "    }\n",
       "</style>\n",
       "<table border=\"1\" class=\"dataframe\">\n",
       "  <thead>\n",
       "    <tr style=\"text-align: right;\">\n",
       "      <th></th>\n",
       "      <th>nom</th>\n",
       "      <th>ingredients</th>\n",
       "      <th>passos</th>\n",
       "      <th>desdejuni</th>\n",
       "      <th>dinar</th>\n",
       "      <th>sopar</th>\n",
       "      <th>snack</th>\n",
       "      <th>apartat</th>\n",
       "    </tr>\n",
       "  </thead>\n",
       "  <tbody>\n",
       "    <tr>\n",
       "      <th>0</th>\n",
       "      <td>Iogurt grec amb fraules</td>\n",
       "      <td>[Iogurt grec 200g, Fraules 100-150g, Nous i am...</td>\n",
       "      <td>[Tallar les fraules i mesclar tot en un bol., ...</td>\n",
       "      <td>1</td>\n",
       "      <td>0</td>\n",
       "      <td>1</td>\n",
       "      <td>1</td>\n",
       "      <td>[Postre, Fruit secs, Iogurt]</td>\n",
       "    </tr>\n",
       "    <tr>\n",
       "      <th>24</th>\n",
       "      <td>Pa de plàtan amb xispes de xocolata</td>\n",
       "      <td>[1 plàtan madur, 1 ou, 15 g de mantega sense s...</td>\n",
       "      <td>[Encalentir el forn a 200°C., Preparar el motl...</td>\n",
       "      <td>1</td>\n",
       "      <td>0</td>\n",
       "      <td>0</td>\n",
       "      <td>1</td>\n",
       "      <td>[Postre, Ou, Fruit secs, Pa]</td>\n",
       "    </tr>\n",
       "    <tr>\n",
       "      <th>33</th>\n",
       "      <td>Granola</td>\n",
       "      <td>[80g d'ametlles naturals, 70g de nous naturals...</td>\n",
       "      <td>[Encalentir el forn a 200°C i preparar una saf...</td>\n",
       "      <td>1</td>\n",
       "      <td>0</td>\n",
       "      <td>0</td>\n",
       "      <td>1</td>\n",
       "      <td>[Postre, Ou, Fruit secs]</td>\n",
       "    </tr>\n",
       "    <tr>\n",
       "      <th>40</th>\n",
       "      <td>Bombó de xocolata</td>\n",
       "      <td>[40g de xocolata 90%, 40g de llavors de carbas...</td>\n",
       "      <td>[Posar paper de forn damunt la safata., Fondre...</td>\n",
       "      <td>0</td>\n",
       "      <td>0</td>\n",
       "      <td>0</td>\n",
       "      <td>1</td>\n",
       "      <td>[Postre]</td>\n",
       "    </tr>\n",
       "    <tr>\n",
       "      <th>53</th>\n",
       "      <td>Ceto-nutella</td>\n",
       "      <td>[40g de xocolata 90%, 30g d'avellanes naturals...</td>\n",
       "      <td>[Col·locar les avellanes a la picadora. Picar ...</td>\n",
       "      <td>1</td>\n",
       "      <td>0</td>\n",
       "      <td>0</td>\n",
       "      <td>1</td>\n",
       "      <td>[Postre, Fruit secs]</td>\n",
       "    </tr>\n",
       "    <tr>\n",
       "      <th>61</th>\n",
       "      <td>Muffins de nabius (sense sucre)</td>\n",
       "      <td>[100g de farina d'ametlles, 40g d'eritritol, 2...</td>\n",
       "      <td>[Encalentir el forn a 200°C. Untar els motlles...</td>\n",
       "      <td>1</td>\n",
       "      <td>0</td>\n",
       "      <td>0</td>\n",
       "      <td>1</td>\n",
       "      <td>[Postre, Ou, Fruit secs]</td>\n",
       "    </tr>\n",
       "    <tr>\n",
       "      <th>63</th>\n",
       "      <td>Coquitos de xocolata</td>\n",
       "      <td>[40g de coco ratllat, 1 blanc d’ou, 20g d'erit...</td>\n",
       "      <td>[Encalentir el forn a 180°C i preparar la safa...</td>\n",
       "      <td>0</td>\n",
       "      <td>0</td>\n",
       "      <td>0</td>\n",
       "      <td>1</td>\n",
       "      <td>[Postre, Ou]</td>\n",
       "    </tr>\n",
       "    <tr>\n",
       "      <th>75</th>\n",
       "      <td>Brioix de xocolata</td>\n",
       "      <td>[40g de xocolata 90%, 1 ou, 2ml d'essència de ...</td>\n",
       "      <td>[Encalentir el forn a 170°C i preparar el motl...</td>\n",
       "      <td>1</td>\n",
       "      <td>0</td>\n",
       "      <td>0</td>\n",
       "      <td>1</td>\n",
       "      <td>[Postre, Ou, Fruit secs]</td>\n",
       "    </tr>\n",
       "    <tr>\n",
       "      <th>87</th>\n",
       "      <td>Iogurt grec amb nabius i cetogranola</td>\n",
       "      <td>[150g iogurt grec, 100g nabius, 30g cetogranola]</td>\n",
       "      <td>[Abocar el iogurt, els nabius i la cetogranola...</td>\n",
       "      <td>1</td>\n",
       "      <td>0</td>\n",
       "      <td>1</td>\n",
       "      <td>0</td>\n",
       "      <td>[Postre, Iogurt, Ceto]</td>\n",
       "    </tr>\n",
       "    <tr>\n",
       "      <th>88</th>\n",
       "      <td>Cetogranola</td>\n",
       "      <td>[80g d'ametlles naturals, 70g de nous naturals...</td>\n",
       "      <td>[Encalentir el forn a 200°C i preparar una saf...</td>\n",
       "      <td>1</td>\n",
       "      <td>0</td>\n",
       "      <td>0</td>\n",
       "      <td>1</td>\n",
       "      <td>[Postre, Ou, Fruit secs, Ceto]</td>\n",
       "    </tr>\n",
       "    <tr>\n",
       "      <th>91</th>\n",
       "      <td>Crep amb xocolata i fraules</td>\n",
       "      <td>[120 grams de farina d'ametlla, 60 grams de fo...</td>\n",
       "      <td>[Fer la massa i deixar reposar 20 min dins la ...</td>\n",
       "      <td>1</td>\n",
       "      <td>0</td>\n",
       "      <td>0</td>\n",
       "      <td>1</td>\n",
       "      <td>[Postre, Ou]</td>\n",
       "    </tr>\n",
       "    <tr>\n",
       "      <th>96</th>\n",
       "      <td>Iogurt grec amb ametlles i nabius</td>\n",
       "      <td>[200g iogurt grec natural, 100-150g de maduixe...</td>\n",
       "      <td>[Col·locar el iogurt en un recipient., Afegir ...</td>\n",
       "      <td>1</td>\n",
       "      <td>0</td>\n",
       "      <td>1</td>\n",
       "      <td>0</td>\n",
       "      <td>[Postre, Fruit secs, Iogurt]</td>\n",
       "    </tr>\n",
       "    <tr>\n",
       "      <th>107</th>\n",
       "      <td>Iogurt grec amb flocs de civada, ametlles, tah...</td>\n",
       "      <td>[125 g de iogurt grec, 30 g de flocs de civada...</td>\n",
       "      <td>[Mesclam tots els ingredients en un bol., Posa...</td>\n",
       "      <td>1</td>\n",
       "      <td>0</td>\n",
       "      <td>0</td>\n",
       "      <td>0</td>\n",
       "      <td>[Postre, Fruit secs, Iogurt]</td>\n",
       "    </tr>\n",
       "    <tr>\n",
       "      <th>110</th>\n",
       "      <td>Iogurt grec amb ametlles</td>\n",
       "      <td>[125 g iogurt grec, 30 g d’ametlles]</td>\n",
       "      <td>[mescla-ho en un bol, Bon profit!]</td>\n",
       "      <td>1</td>\n",
       "      <td>0</td>\n",
       "      <td>1</td>\n",
       "      <td>1</td>\n",
       "      <td>[Postre, Fruit secs, Iogurt]</td>\n",
       "    </tr>\n",
       "  </tbody>\n",
       "</table>\n",
       "</div>"
      ],
      "text/plain": [
       "                                                   nom  \\\n",
       "0                              Iogurt grec amb fraules   \n",
       "24                 Pa de plàtan amb xispes de xocolata   \n",
       "33                                             Granola   \n",
       "40                                   Bombó de xocolata   \n",
       "53                                        Ceto-nutella   \n",
       "61                     Muffins de nabius (sense sucre)   \n",
       "63                                Coquitos de xocolata   \n",
       "75                                  Brioix de xocolata   \n",
       "87                Iogurt grec amb nabius i cetogranola   \n",
       "88                                         Cetogranola   \n",
       "91                         Crep amb xocolata i fraules   \n",
       "96                   Iogurt grec amb ametlles i nabius   \n",
       "107  Iogurt grec amb flocs de civada, ametlles, tah...   \n",
       "110                           Iogurt grec amb ametlles   \n",
       "\n",
       "                                           ingredients  \\\n",
       "0    [Iogurt grec 200g, Fraules 100-150g, Nous i am...   \n",
       "24   [1 plàtan madur, 1 ou, 15 g de mantega sense s...   \n",
       "33   [80g d'ametlles naturals, 70g de nous naturals...   \n",
       "40   [40g de xocolata 90%, 40g de llavors de carbas...   \n",
       "53   [40g de xocolata 90%, 30g d'avellanes naturals...   \n",
       "61   [100g de farina d'ametlles, 40g d'eritritol, 2...   \n",
       "63   [40g de coco ratllat, 1 blanc d’ou, 20g d'erit...   \n",
       "75   [40g de xocolata 90%, 1 ou, 2ml d'essència de ...   \n",
       "87    [150g iogurt grec, 100g nabius, 30g cetogranola]   \n",
       "88   [80g d'ametlles naturals, 70g de nous naturals...   \n",
       "91   [120 grams de farina d'ametlla, 60 grams de fo...   \n",
       "96   [200g iogurt grec natural, 100-150g de maduixe...   \n",
       "107  [125 g de iogurt grec, 30 g de flocs de civada...   \n",
       "110               [125 g iogurt grec, 30 g d’ametlles]   \n",
       "\n",
       "                                                passos  desdejuni  dinar  \\\n",
       "0    [Tallar les fraules i mesclar tot en un bol., ...          1      0   \n",
       "24   [Encalentir el forn a 200°C., Preparar el motl...          1      0   \n",
       "33   [Encalentir el forn a 200°C i preparar una saf...          1      0   \n",
       "40   [Posar paper de forn damunt la safata., Fondre...          0      0   \n",
       "53   [Col·locar les avellanes a la picadora. Picar ...          1      0   \n",
       "61   [Encalentir el forn a 200°C. Untar els motlles...          1      0   \n",
       "63   [Encalentir el forn a 180°C i preparar la safa...          0      0   \n",
       "75   [Encalentir el forn a 170°C i preparar el motl...          1      0   \n",
       "87   [Abocar el iogurt, els nabius i la cetogranola...          1      0   \n",
       "88   [Encalentir el forn a 200°C i preparar una saf...          1      0   \n",
       "91   [Fer la massa i deixar reposar 20 min dins la ...          1      0   \n",
       "96   [Col·locar el iogurt en un recipient., Afegir ...          1      0   \n",
       "107  [Mesclam tots els ingredients en un bol., Posa...          1      0   \n",
       "110                 [mescla-ho en un bol, Bon profit!]          1      0   \n",
       "\n",
       "     sopar  snack                         apartat  \n",
       "0        1      1    [Postre, Fruit secs, Iogurt]  \n",
       "24       0      1    [Postre, Ou, Fruit secs, Pa]  \n",
       "33       0      1        [Postre, Ou, Fruit secs]  \n",
       "40       0      1                        [Postre]  \n",
       "53       0      1            [Postre, Fruit secs]  \n",
       "61       0      1        [Postre, Ou, Fruit secs]  \n",
       "63       0      1                    [Postre, Ou]  \n",
       "75       0      1        [Postre, Ou, Fruit secs]  \n",
       "87       1      0          [Postre, Iogurt, Ceto]  \n",
       "88       0      1  [Postre, Ou, Fruit secs, Ceto]  \n",
       "91       0      1                    [Postre, Ou]  \n",
       "96       1      0    [Postre, Fruit secs, Iogurt]  \n",
       "107      0      0    [Postre, Fruit secs, Iogurt]  \n",
       "110      1      1    [Postre, Fruit secs, Iogurt]  "
      ]
     },
     "execution_count": 49,
     "metadata": {},
     "output_type": "execute_result"
    }
   ],
   "source": [
    "df_filtrado"
   ]
  },
  {
   "cell_type": "markdown",
   "id": "08f93ad3-aacd-48d9-a778-896e03784307",
   "metadata": {
    "tags": []
   },
   "source": [
    "### Exploración \"apartat\""
   ]
  },
  {
   "cell_type": "code",
   "execution_count": 38,
   "id": "30677848-80c9-456d-addf-878d0b7a1af8",
   "metadata": {},
   "outputs": [],
   "source": [
    "apartat_total = []\n",
    "\n",
    "for apartat in df[\"apartat\"]:\n",
    "    apartat_total.extend(apartat)"
   ]
  },
  {
   "cell_type": "code",
   "execution_count": 40,
   "id": "434f2675-b0ab-466c-8262-86677ad8cb7a",
   "metadata": {
    "tags": []
   },
   "outputs": [],
   "source": [
    "apartats_unics = set(apartat_total)"
   ]
  },
  {
   "cell_type": "code",
   "execution_count": 43,
   "id": "07e642d7-016c-4c5e-a5fd-05570a8e31d5",
   "metadata": {
    "tags": []
   },
   "outputs": [],
   "source": [
    "apartat_count = {}\n",
    "\n",
    "for apartat in apartats_unics:\n",
    "    apartat_count[apartat] = 0"
   ]
  },
  {
   "cell_type": "code",
   "execution_count": 46,
   "id": "6dcb933d-1e7d-4304-8712-e5bf905094d5",
   "metadata": {
    "tags": []
   },
   "outputs": [],
   "source": [
    "for apartat_list in df[\"apartat\"]:\n",
    "    for apartat in apartat_list:\n",
    "        if apartat in apartat_count:\n",
    "            apartat_count[apartat] += 1\n",
    "        else:\n",
    "            apartat_count[apartat] = 1"
   ]
  },
  {
   "cell_type": "code",
   "execution_count": 47,
   "id": "9261264f-f57d-4386-b2e1-dc9a51a7e759",
   "metadata": {
    "tags": []
   },
   "outputs": [
    {
     "data": {
      "text/plain": [
       "{'Postre': 14,\n",
       " 'Amanida': 18,\n",
       " 'Ou': 46,\n",
       " 'Carn blanca': 19,\n",
       " 'Iogurt': 7,\n",
       " 'Guarnicio': 50,\n",
       " 'Pa': 5,\n",
       " 'Pseudopasta': 8,\n",
       " 'Peix': 33,\n",
       " 'Crema': 7,\n",
       " 'Marisc': 10,\n",
       " 'Pollastre': 13,\n",
       " 'Carn vermella': 37,\n",
       " 'Salsa': 5,\n",
       " 'Fruit secs': 36,\n",
       " 'Ceto': 6}"
      ]
     },
     "execution_count": 47,
     "metadata": {},
     "output_type": "execute_result"
    }
   ],
   "source": [
    "apartat_count"
   ]
  },
  {
   "cell_type": "code",
   "execution_count": null,
   "id": "7c03686c-64e4-4463-a08f-44f217d7cb92",
   "metadata": {},
   "outputs": [],
   "source": []
  }
 ],
 "metadata": {
  "kernelspec": {
   "display_name": "Python 3 (ipykernel)",
   "language": "python",
   "name": "python3"
  },
  "language_info": {
   "codemirror_mode": {
    "name": "ipython",
    "version": 3
   },
   "file_extension": ".py",
   "mimetype": "text/x-python",
   "name": "python",
   "nbconvert_exporter": "python",
   "pygments_lexer": "ipython3",
   "version": "3.11.5"
  }
 },
 "nbformat": 4,
 "nbformat_minor": 5
}
