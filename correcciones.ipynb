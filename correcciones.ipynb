{
 "cells": [
  {
   "cell_type": "code",
   "execution_count": 1,
   "id": "fb69b4de-abc2-47e2-9852-8c64ca643c58",
   "metadata": {
    "tags": []
   },
   "outputs": [],
   "source": [
    "import pandas as pd"
   ]
  },
  {
   "cell_type": "code",
   "execution_count": null,
   "id": "124f19ce-3588-4abf-b13d-dd44eb6ae093",
   "metadata": {},
   "outputs": [],
   "source": []
  },
  {
   "cell_type": "code",
   "execution_count": 57,
   "id": "ec6a1953-541f-4ad0-a421-bcfd4b0d4811",
   "metadata": {
    "tags": []
   },
   "outputs": [],
   "source": [
    "import ast #usamos para convertir valores string en columna en listas reales"
   ]
  },
  {
   "cell_type": "code",
   "execution_count": 2,
   "id": "fb033cce-7945-4a96-a7b4-92334a9ed57d",
   "metadata": {
    "tags": []
   },
   "outputs": [],
   "source": [
    "data = pd.read_csv(\"clasificacion recetas grupos.csv\")"
   ]
  },
  {
   "cell_type": "code",
   "execution_count": 3,
   "id": "0087213e-b5c9-4460-b89b-02b845e78393",
   "metadata": {
    "tags": []
   },
   "outputs": [],
   "source": [
    "df = data.copy()"
   ]
  },
  {
   "cell_type": "code",
   "execution_count": 4,
   "id": "ec81487d-90e3-4e09-82b0-54d504ca8df7",
   "metadata": {
    "tags": []
   },
   "outputs": [],
   "source": [
    "df.drop(columns=\"Unnamed: 0\", inplace=True)"
   ]
  },
  {
   "cell_type": "code",
   "execution_count": 5,
   "id": "bbdb8b61-9dad-466a-ad9c-7ee613b8d078",
   "metadata": {
    "tags": []
   },
   "outputs": [
    {
     "data": {
      "text/plain": [
       "nom            0\n",
       "desdejuni     88\n",
       "dinar         81\n",
       "sopar         47\n",
       "snack        134\n",
       "dtype: int64"
      ]
     },
     "execution_count": 5,
     "metadata": {},
     "output_type": "execute_result"
    }
   ],
   "source": [
    "df.isna().sum()"
   ]
  },
  {
   "cell_type": "code",
   "execution_count": 6,
   "id": "a2d3edfd-8830-4121-9097-d2ab8e2edf08",
   "metadata": {
    "tags": []
   },
   "outputs": [],
   "source": [
    "df = df.fillna(0)"
   ]
  },
  {
   "cell_type": "code",
   "execution_count": 7,
   "id": "ac7a0b69-8ba6-48db-bb1a-34cc93b5d473",
   "metadata": {
    "tags": []
   },
   "outputs": [
    {
     "data": {
      "text/html": [
       "<div>\n",
       "<style scoped>\n",
       "    .dataframe tbody tr th:only-of-type {\n",
       "        vertical-align: middle;\n",
       "    }\n",
       "\n",
       "    .dataframe tbody tr th {\n",
       "        vertical-align: top;\n",
       "    }\n",
       "\n",
       "    .dataframe thead th {\n",
       "        text-align: right;\n",
       "    }\n",
       "</style>\n",
       "<table border=\"1\" class=\"dataframe\">\n",
       "  <thead>\n",
       "    <tr style=\"text-align: right;\">\n",
       "      <th></th>\n",
       "      <th>nom</th>\n",
       "      <th>desdejuni</th>\n",
       "      <th>dinar</th>\n",
       "      <th>sopar</th>\n",
       "      <th>snack</th>\n",
       "    </tr>\n",
       "  </thead>\n",
       "  <tbody>\n",
       "    <tr>\n",
       "      <th>0</th>\n",
       "      <td>Iogurt grec amb fraules</td>\n",
       "      <td>1.0</td>\n",
       "      <td>0.0</td>\n",
       "      <td>1.0</td>\n",
       "      <td>1.0</td>\n",
       "    </tr>\n",
       "    <tr>\n",
       "      <th>1</th>\n",
       "      <td>Solomillo de vedella Strogonoff i arròs basmati</td>\n",
       "      <td>0.0</td>\n",
       "      <td>1.0</td>\n",
       "      <td>0.0</td>\n",
       "      <td>0.0</td>\n",
       "    </tr>\n",
       "    <tr>\n",
       "      <th>2</th>\n",
       "      <td>Espàrrecs embolicats en pernil</td>\n",
       "      <td>1.0</td>\n",
       "      <td>0.0</td>\n",
       "      <td>1.0</td>\n",
       "      <td>0.0</td>\n",
       "    </tr>\n",
       "    <tr>\n",
       "      <th>3</th>\n",
       "      <td>Amanida verda:</td>\n",
       "      <td>0.0</td>\n",
       "      <td>1.0</td>\n",
       "      <td>1.0</td>\n",
       "      <td>0.0</td>\n",
       "    </tr>\n",
       "    <tr>\n",
       "      <th>4</th>\n",
       "      <td>Ous remenats amb espàrrecs i formatge</td>\n",
       "      <td>1.0</td>\n",
       "      <td>0.0</td>\n",
       "      <td>1.0</td>\n",
       "      <td>0.0</td>\n",
       "    </tr>\n",
       "    <tr>\n",
       "      <th>...</th>\n",
       "      <td>...</td>\n",
       "      <td>...</td>\n",
       "      <td>...</td>\n",
       "      <td>...</td>\n",
       "      <td>...</td>\n",
       "    </tr>\n",
       "    <tr>\n",
       "      <th>149</th>\n",
       "      <td>Ou bullit amb salmó fumat i ½ alvocat</td>\n",
       "      <td>1.0</td>\n",
       "      <td>0.0</td>\n",
       "      <td>1.0</td>\n",
       "      <td>0.0</td>\n",
       "    </tr>\n",
       "    <tr>\n",
       "      <th>150</th>\n",
       "      <td>Ous remenats o fregits amb cuixot salat</td>\n",
       "      <td>1.0</td>\n",
       "      <td>0.0</td>\n",
       "      <td>1.0</td>\n",
       "      <td>0.0</td>\n",
       "    </tr>\n",
       "    <tr>\n",
       "      <th>151</th>\n",
       "      <td>Espàrrecs saltejats</td>\n",
       "      <td>0.0</td>\n",
       "      <td>1.0</td>\n",
       "      <td>1.0</td>\n",
       "      <td>0.0</td>\n",
       "    </tr>\n",
       "    <tr>\n",
       "      <th>152</th>\n",
       "      <td>Pollastre al forn a les fines herbes</td>\n",
       "      <td>0.0</td>\n",
       "      <td>1.0</td>\n",
       "      <td>0.0</td>\n",
       "      <td>0.0</td>\n",
       "    </tr>\n",
       "    <tr>\n",
       "      <th>153</th>\n",
       "      <td>Crema de pastanaga i gingebre</td>\n",
       "      <td>0.0</td>\n",
       "      <td>0.0</td>\n",
       "      <td>1.0</td>\n",
       "      <td>0.0</td>\n",
       "    </tr>\n",
       "  </tbody>\n",
       "</table>\n",
       "<p>154 rows × 5 columns</p>\n",
       "</div>"
      ],
      "text/plain": [
       "                                                 nom  desdejuni  dinar  sopar  \\\n",
       "0                            Iogurt grec amb fraules        1.0    0.0    1.0   \n",
       "1    Solomillo de vedella Strogonoff i arròs basmati        0.0    1.0    0.0   \n",
       "2                     Espàrrecs embolicats en pernil        1.0    0.0    1.0   \n",
       "3                                     Amanida verda:        0.0    1.0    1.0   \n",
       "4              Ous remenats amb espàrrecs i formatge        1.0    0.0    1.0   \n",
       "..                                               ...        ...    ...    ...   \n",
       "149            Ou bullit amb salmó fumat i ½ alvocat        1.0    0.0    1.0   \n",
       "150          Ous remenats o fregits amb cuixot salat        1.0    0.0    1.0   \n",
       "151                              Espàrrecs saltejats        0.0    1.0    1.0   \n",
       "152             Pollastre al forn a les fines herbes        0.0    1.0    0.0   \n",
       "153                    Crema de pastanaga i gingebre        0.0    0.0    1.0   \n",
       "\n",
       "     snack  \n",
       "0      1.0  \n",
       "1      0.0  \n",
       "2      0.0  \n",
       "3      0.0  \n",
       "4      0.0  \n",
       "..     ...  \n",
       "149    0.0  \n",
       "150    0.0  \n",
       "151    0.0  \n",
       "152    0.0  \n",
       "153    0.0  \n",
       "\n",
       "[154 rows x 5 columns]"
      ]
     },
     "execution_count": 7,
     "metadata": {},
     "output_type": "execute_result"
    }
   ],
   "source": [
    "df"
   ]
  },
  {
   "cell_type": "code",
   "execution_count": 8,
   "id": "b7a310a9-61aa-42bc-b43c-8e859fed08ce",
   "metadata": {
    "tags": []
   },
   "outputs": [],
   "source": [
    "df_int = df.iloc[:, 1:].astype(int)"
   ]
  },
  {
   "cell_type": "code",
   "execution_count": 9,
   "id": "f1e04013-3201-42f6-983a-72e40de7062d",
   "metadata": {
    "tags": []
   },
   "outputs": [
    {
     "data": {
      "text/html": [
       "<div>\n",
       "<style scoped>\n",
       "    .dataframe tbody tr th:only-of-type {\n",
       "        vertical-align: middle;\n",
       "    }\n",
       "\n",
       "    .dataframe tbody tr th {\n",
       "        vertical-align: top;\n",
       "    }\n",
       "\n",
       "    .dataframe thead th {\n",
       "        text-align: right;\n",
       "    }\n",
       "</style>\n",
       "<table border=\"1\" class=\"dataframe\">\n",
       "  <thead>\n",
       "    <tr style=\"text-align: right;\">\n",
       "      <th></th>\n",
       "      <th>desdejuni</th>\n",
       "      <th>dinar</th>\n",
       "      <th>sopar</th>\n",
       "      <th>snack</th>\n",
       "    </tr>\n",
       "  </thead>\n",
       "  <tbody>\n",
       "    <tr>\n",
       "      <th>0</th>\n",
       "      <td>1</td>\n",
       "      <td>0</td>\n",
       "      <td>1</td>\n",
       "      <td>1</td>\n",
       "    </tr>\n",
       "    <tr>\n",
       "      <th>1</th>\n",
       "      <td>0</td>\n",
       "      <td>1</td>\n",
       "      <td>0</td>\n",
       "      <td>0</td>\n",
       "    </tr>\n",
       "    <tr>\n",
       "      <th>2</th>\n",
       "      <td>1</td>\n",
       "      <td>0</td>\n",
       "      <td>1</td>\n",
       "      <td>0</td>\n",
       "    </tr>\n",
       "    <tr>\n",
       "      <th>3</th>\n",
       "      <td>0</td>\n",
       "      <td>1</td>\n",
       "      <td>1</td>\n",
       "      <td>0</td>\n",
       "    </tr>\n",
       "    <tr>\n",
       "      <th>4</th>\n",
       "      <td>1</td>\n",
       "      <td>0</td>\n",
       "      <td>1</td>\n",
       "      <td>0</td>\n",
       "    </tr>\n",
       "    <tr>\n",
       "      <th>...</th>\n",
       "      <td>...</td>\n",
       "      <td>...</td>\n",
       "      <td>...</td>\n",
       "      <td>...</td>\n",
       "    </tr>\n",
       "    <tr>\n",
       "      <th>149</th>\n",
       "      <td>1</td>\n",
       "      <td>0</td>\n",
       "      <td>1</td>\n",
       "      <td>0</td>\n",
       "    </tr>\n",
       "    <tr>\n",
       "      <th>150</th>\n",
       "      <td>1</td>\n",
       "      <td>0</td>\n",
       "      <td>1</td>\n",
       "      <td>0</td>\n",
       "    </tr>\n",
       "    <tr>\n",
       "      <th>151</th>\n",
       "      <td>0</td>\n",
       "      <td>1</td>\n",
       "      <td>1</td>\n",
       "      <td>0</td>\n",
       "    </tr>\n",
       "    <tr>\n",
       "      <th>152</th>\n",
       "      <td>0</td>\n",
       "      <td>1</td>\n",
       "      <td>0</td>\n",
       "      <td>0</td>\n",
       "    </tr>\n",
       "    <tr>\n",
       "      <th>153</th>\n",
       "      <td>0</td>\n",
       "      <td>0</td>\n",
       "      <td>1</td>\n",
       "      <td>0</td>\n",
       "    </tr>\n",
       "  </tbody>\n",
       "</table>\n",
       "<p>154 rows × 4 columns</p>\n",
       "</div>"
      ],
      "text/plain": [
       "     desdejuni  dinar  sopar  snack\n",
       "0            1      0      1      1\n",
       "1            0      1      0      0\n",
       "2            1      0      1      0\n",
       "3            0      1      1      0\n",
       "4            1      0      1      0\n",
       "..         ...    ...    ...    ...\n",
       "149          1      0      1      0\n",
       "150          1      0      1      0\n",
       "151          0      1      1      0\n",
       "152          0      1      0      0\n",
       "153          0      0      1      0\n",
       "\n",
       "[154 rows x 4 columns]"
      ]
     },
     "execution_count": 9,
     "metadata": {},
     "output_type": "execute_result"
    }
   ],
   "source": [
    "df_int"
   ]
  },
  {
   "cell_type": "code",
   "execution_count": 11,
   "id": "4384a3f1-90ae-4282-8d54-baba1d1e1538",
   "metadata": {
    "tags": []
   },
   "outputs": [],
   "source": [
    "df_origin = pd.read_csv(\"recetas_final_final.csv\")"
   ]
  },
  {
   "cell_type": "code",
   "execution_count": 12,
   "id": "0bf1fcc8-2080-40da-bb1f-cafccd3a9e9b",
   "metadata": {
    "tags": []
   },
   "outputs": [],
   "source": [
    "df_origin = df_origin.drop(columns=\"Unnamed: 0\")"
   ]
  },
  {
   "cell_type": "code",
   "execution_count": 15,
   "id": "2ac4008a-1572-4990-8874-923c5535f358",
   "metadata": {},
   "outputs": [],
   "source": [
    "df_final = pd.concat([df_origin, df_int], axis=1)"
   ]
  },
  {
   "cell_type": "code",
   "execution_count": 25,
   "id": "bad14513-5af4-4b5c-b010-aaf5fca45ba9",
   "metadata": {
    "tags": []
   },
   "outputs": [
    {
     "data": {
      "text/html": [
       "<div>\n",
       "<style scoped>\n",
       "    .dataframe tbody tr th:only-of-type {\n",
       "        vertical-align: middle;\n",
       "    }\n",
       "\n",
       "    .dataframe tbody tr th {\n",
       "        vertical-align: top;\n",
       "    }\n",
       "\n",
       "    .dataframe thead th {\n",
       "        text-align: right;\n",
       "    }\n",
       "</style>\n",
       "<table border=\"1\" class=\"dataframe\">\n",
       "  <thead>\n",
       "    <tr style=\"text-align: right;\">\n",
       "      <th></th>\n",
       "      <th>nom</th>\n",
       "      <th>ingredients</th>\n",
       "      <th>passos</th>\n",
       "      <th>desdejuni</th>\n",
       "      <th>dinar</th>\n",
       "      <th>sopar</th>\n",
       "      <th>snack</th>\n",
       "    </tr>\n",
       "  </thead>\n",
       "  <tbody>\n",
       "    <tr>\n",
       "      <th>0</th>\n",
       "      <td>Iogurt grec amb fraules</td>\n",
       "      <td>['Iogurt grec 200g', 'Fraules 100-150g', 'Nous...</td>\n",
       "      <td>['Tallar les fraules i mesclar tot en un bol.'...</td>\n",
       "      <td>1</td>\n",
       "      <td>0</td>\n",
       "      <td>1</td>\n",
       "      <td>1</td>\n",
       "    </tr>\n",
       "    <tr>\n",
       "      <th>1</th>\n",
       "      <td>Solomillo de vedella Strogonoff i arròs basmati</td>\n",
       "      <td>['Solomillo de vedella 150-200g', 'Xampinyons ...</td>\n",
       "      <td>['Adobar la carn amb sal i prebe bò.', 'Posar ...</td>\n",
       "      <td>0</td>\n",
       "      <td>1</td>\n",
       "      <td>0</td>\n",
       "      <td>0</td>\n",
       "    </tr>\n",
       "    <tr>\n",
       "      <th>2</th>\n",
       "      <td>Espàrrecs embolicats en pernil</td>\n",
       "      <td>['½ manat d’espàrrecs', '3-4 llesques de perni...</td>\n",
       "      <td>['Preparar forn 150ºC.', 'Xepam les llesques d...</td>\n",
       "      <td>1</td>\n",
       "      <td>0</td>\n",
       "      <td>1</td>\n",
       "      <td>0</td>\n",
       "    </tr>\n",
       "    <tr>\n",
       "      <th>3</th>\n",
       "      <td>Amanida verda:</td>\n",
       "      <td>['20g lletuga', '15g rúcula', '20g espinacs', ...</td>\n",
       "      <td>['Renta les verdures', 'Talla-les', 'Trempa-les']</td>\n",
       "      <td>0</td>\n",
       "      <td>1</td>\n",
       "      <td>1</td>\n",
       "      <td>0</td>\n",
       "    </tr>\n",
       "    <tr>\n",
       "      <th>4</th>\n",
       "      <td>Ous remenats amb espàrrecs i formatge</td>\n",
       "      <td>['3 ous', '30 g de formatge semicurat', '6-7 e...</td>\n",
       "      <td>['Saltejar els espàrrecs (emprar l’oli) i rese...</td>\n",
       "      <td>1</td>\n",
       "      <td>0</td>\n",
       "      <td>1</td>\n",
       "      <td>0</td>\n",
       "    </tr>\n",
       "    <tr>\n",
       "      <th>5</th>\n",
       "      <td>Mini amanida verda:</td>\n",
       "      <td>[\"20g d'enciam roman\", '15g de ruca', \"20g d'e...</td>\n",
       "      <td>['Mesclar tots els ingredinets en un bol + ½ a...</td>\n",
       "      <td>1</td>\n",
       "      <td>1</td>\n",
       "      <td>1</td>\n",
       "      <td>1</td>\n",
       "    </tr>\n",
       "    <tr>\n",
       "      <th>6</th>\n",
       "      <td>Crotant de formatge:</td>\n",
       "      <td>['30 g de formatge parmesà', 'Espècies diverse...</td>\n",
       "      <td>['Encalentir el forn a 250ºC', 'Rallar el form...</td>\n",
       "      <td>0</td>\n",
       "      <td>0</td>\n",
       "      <td>1</td>\n",
       "      <td>0</td>\n",
       "    </tr>\n",
       "    <tr>\n",
       "      <th>7</th>\n",
       "      <td>Cuinat de llenties</td>\n",
       "      <td>['150g de llenties crues', \"750ml d'aigua\", \"2...</td>\n",
       "      <td>['Posar les llenties prèviament remullades i c...</td>\n",
       "      <td>1</td>\n",
       "      <td>1</td>\n",
       "      <td>0</td>\n",
       "      <td>0</td>\n",
       "    </tr>\n",
       "    <tr>\n",
       "      <th>8</th>\n",
       "      <td>amanida</td>\n",
       "      <td>[\"45g d'enciam roman\", '25g de ruca', \"25g d'e...</td>\n",
       "      <td>['Mesclar les fulles i trempar']</td>\n",
       "      <td>1</td>\n",
       "      <td>1</td>\n",
       "      <td>1</td>\n",
       "      <td>1</td>\n",
       "    </tr>\n",
       "    <tr>\n",
       "      <th>9</th>\n",
       "      <td>Ous frits amb pernil salat i ½ alvocat</td>\n",
       "      <td>['3 ous', '30g de cuixot salat', \"7ml d'oli d'...</td>\n",
       "      <td>['posar l’oli a la paella, deixar encalentir p...</td>\n",
       "      <td>1</td>\n",
       "      <td>0</td>\n",
       "      <td>1</td>\n",
       "      <td>0</td>\n",
       "    </tr>\n",
       "  </tbody>\n",
       "</table>\n",
       "</div>"
      ],
      "text/plain": [
       "                                               nom  \\\n",
       "0                          Iogurt grec amb fraules   \n",
       "1  Solomillo de vedella Strogonoff i arròs basmati   \n",
       "2                   Espàrrecs embolicats en pernil   \n",
       "3                                   Amanida verda:   \n",
       "4            Ous remenats amb espàrrecs i formatge   \n",
       "5                              Mini amanida verda:   \n",
       "6                             Crotant de formatge:   \n",
       "7                               Cuinat de llenties   \n",
       "8                                          amanida   \n",
       "9           Ous frits amb pernil salat i ½ alvocat   \n",
       "\n",
       "                                         ingredients  \\\n",
       "0  ['Iogurt grec 200g', 'Fraules 100-150g', 'Nous...   \n",
       "1  ['Solomillo de vedella 150-200g', 'Xampinyons ...   \n",
       "2  ['½ manat d’espàrrecs', '3-4 llesques de perni...   \n",
       "3  ['20g lletuga', '15g rúcula', '20g espinacs', ...   \n",
       "4  ['3 ous', '30 g de formatge semicurat', '6-7 e...   \n",
       "5  [\"20g d'enciam roman\", '15g de ruca', \"20g d'e...   \n",
       "6  ['30 g de formatge parmesà', 'Espècies diverse...   \n",
       "7  ['150g de llenties crues', \"750ml d'aigua\", \"2...   \n",
       "8  [\"45g d'enciam roman\", '25g de ruca', \"25g d'e...   \n",
       "9  ['3 ous', '30g de cuixot salat', \"7ml d'oli d'...   \n",
       "\n",
       "                                              passos  desdejuni  dinar  sopar  \\\n",
       "0  ['Tallar les fraules i mesclar tot en un bol.'...          1      0      1   \n",
       "1  ['Adobar la carn amb sal i prebe bò.', 'Posar ...          0      1      0   \n",
       "2  ['Preparar forn 150ºC.', 'Xepam les llesques d...          1      0      1   \n",
       "3  ['Renta les verdures', 'Talla-les', 'Trempa-les']          0      1      1   \n",
       "4  ['Saltejar els espàrrecs (emprar l’oli) i rese...          1      0      1   \n",
       "5  ['Mesclar tots els ingredinets en un bol + ½ a...          1      1      1   \n",
       "6  ['Encalentir el forn a 250ºC', 'Rallar el form...          0      0      1   \n",
       "7  ['Posar les llenties prèviament remullades i c...          1      1      0   \n",
       "8                   ['Mesclar les fulles i trempar']          1      1      1   \n",
       "9  ['posar l’oli a la paella, deixar encalentir p...          1      0      1   \n",
       "\n",
       "   snack  \n",
       "0      1  \n",
       "1      0  \n",
       "2      0  \n",
       "3      0  \n",
       "4      0  \n",
       "5      1  \n",
       "6      0  \n",
       "7      0  \n",
       "8      1  \n",
       "9      0  "
      ]
     },
     "execution_count": 25,
     "metadata": {},
     "output_type": "execute_result"
    }
   ],
   "source": [
    "df_final.head(10)"
   ]
  },
  {
   "cell_type": "markdown",
   "id": "6d26c7b5-3d14-4158-9670-649427b1351e",
   "metadata": {},
   "source": [
    "### STANDARIZACIÓN DE NOMBRES"
   ]
  },
  {
   "cell_type": "code",
   "execution_count": 190,
   "id": "dd1b4343-c35a-46c3-9f5e-7c57bc282f29",
   "metadata": {
    "tags": []
   },
   "outputs": [
    {
     "data": {
      "text/html": [
       "<div>\n",
       "<style scoped>\n",
       "    .dataframe tbody tr th:only-of-type {\n",
       "        vertical-align: middle;\n",
       "    }\n",
       "\n",
       "    .dataframe tbody tr th {\n",
       "        vertical-align: top;\n",
       "    }\n",
       "\n",
       "    .dataframe thead th {\n",
       "        text-align: right;\n",
       "    }\n",
       "</style>\n",
       "<table border=\"1\" class=\"dataframe\">\n",
       "  <thead>\n",
       "    <tr style=\"text-align: right;\">\n",
       "      <th></th>\n",
       "      <th>nom</th>\n",
       "      <th>ingredients</th>\n",
       "      <th>passos</th>\n",
       "      <th>desdejuni</th>\n",
       "      <th>dinar</th>\n",
       "      <th>sopar</th>\n",
       "      <th>snack</th>\n",
       "    </tr>\n",
       "  </thead>\n",
       "  <tbody>\n",
       "    <tr>\n",
       "      <th>153</th>\n",
       "      <td>Crema de pastanaga i gingebre</td>\n",
       "      <td>[420 g de pastanagues (5 mitjanes), 2 alls, 5g...</td>\n",
       "      <td>[Fundir la mantequilla en una olla, Agregar el...</td>\n",
       "      <td>0</td>\n",
       "      <td>0</td>\n",
       "      <td>1</td>\n",
       "      <td>0</td>\n",
       "    </tr>\n",
       "  </tbody>\n",
       "</table>\n",
       "</div>"
      ],
      "text/plain": [
       "                               nom  \\\n",
       "153  Crema de pastanaga i gingebre   \n",
       "\n",
       "                                           ingredients  \\\n",
       "153  [420 g de pastanagues (5 mitjanes), 2 alls, 5g...   \n",
       "\n",
       "                                                passos  desdejuni  dinar  \\\n",
       "153  [Fundir la mantequilla en una olla, Agregar el...          0      0   \n",
       "\n",
       "     sopar  snack  \n",
       "153      1      0  "
      ]
     },
     "execution_count": 190,
     "metadata": {},
     "output_type": "execute_result"
    }
   ],
   "source": [
    "df_final[df_final[\"nom\"].str.contains(\"Crema de pastanaga i gingebre\", case=False)]"
   ]
  },
  {
   "cell_type": "code",
   "execution_count": 38,
   "id": "749f3380-9c07-4986-b2d3-6db65f35db8c",
   "metadata": {
    "tags": []
   },
   "outputs": [],
   "source": [
    "df_test = df_final[df_final[\"nom\"] == \"Espàrrecs embolicats en pernil\"]"
   ]
  },
  {
   "cell_type": "code",
   "execution_count": 103,
   "id": "0a660730-8d0f-4105-9051-ea0749501b1c",
   "metadata": {
    "tags": []
   },
   "outputs": [],
   "source": [
    "df_final[\"ingredients\"] = df_final[\"ingredients\"].apply(ast.literal_eval) "
   ]
  },
  {
   "cell_type": "code",
   "execution_count": 55,
   "id": "7bdbe948-6bae-4cad-8d75-840ee3a1f199",
   "metadata": {
    "tags": []
   },
   "outputs": [],
   "source": [
    "df_test_ing = df_test.explode(\"ingredients\")"
   ]
  },
  {
   "cell_type": "code",
   "execution_count": 56,
   "id": "f411ee4b-61bd-4583-86cd-a73b0c6995e4",
   "metadata": {
    "tags": []
   },
   "outputs": [
    {
     "data": {
      "text/html": [
       "<div>\n",
       "<style scoped>\n",
       "    .dataframe tbody tr th:only-of-type {\n",
       "        vertical-align: middle;\n",
       "    }\n",
       "\n",
       "    .dataframe tbody tr th {\n",
       "        vertical-align: top;\n",
       "    }\n",
       "\n",
       "    .dataframe thead th {\n",
       "        text-align: right;\n",
       "    }\n",
       "</style>\n",
       "<table border=\"1\" class=\"dataframe\">\n",
       "  <thead>\n",
       "    <tr style=\"text-align: right;\">\n",
       "      <th></th>\n",
       "      <th></th>\n",
       "      <th>passos</th>\n",
       "      <th>desdejuni</th>\n",
       "      <th>dinar</th>\n",
       "      <th>sopar</th>\n",
       "      <th>snack</th>\n",
       "    </tr>\n",
       "    <tr>\n",
       "      <th>nom</th>\n",
       "      <th>ingredients</th>\n",
       "      <th></th>\n",
       "      <th></th>\n",
       "      <th></th>\n",
       "      <th></th>\n",
       "      <th></th>\n",
       "    </tr>\n",
       "  </thead>\n",
       "  <tbody>\n",
       "    <tr>\n",
       "      <th rowspan=\"3\" valign=\"top\">Espàrrecs embolicats en pernil</th>\n",
       "      <th>3-4 llesques de pernil salat</th>\n",
       "      <td>['Preparar forn 150ºC.', 'Xepam les llesques d...</td>\n",
       "      <td>1</td>\n",
       "      <td>0</td>\n",
       "      <td>1</td>\n",
       "      <td>0</td>\n",
       "    </tr>\n",
       "    <tr>\n",
       "      <th>Oli d’oliva</th>\n",
       "      <td>['Preparar forn 150ºC.', 'Xepam les llesques d...</td>\n",
       "      <td>1</td>\n",
       "      <td>0</td>\n",
       "      <td>1</td>\n",
       "      <td>0</td>\n",
       "    </tr>\n",
       "    <tr>\n",
       "      <th>½ manat d’espàrrecs</th>\n",
       "      <td>['Preparar forn 150ºC.', 'Xepam les llesques d...</td>\n",
       "      <td>1</td>\n",
       "      <td>0</td>\n",
       "      <td>1</td>\n",
       "      <td>0</td>\n",
       "    </tr>\n",
       "  </tbody>\n",
       "</table>\n",
       "</div>"
      ],
      "text/plain": [
       "                                                                                                        passos  \\\n",
       "nom                            ingredients                                                                       \n",
       "Espàrrecs embolicats en pernil 3-4 llesques de pernil salat  ['Preparar forn 150ºC.', 'Xepam les llesques d...   \n",
       "                               Oli d’oliva                   ['Preparar forn 150ºC.', 'Xepam les llesques d...   \n",
       "                               ½ manat d’espàrrecs           ['Preparar forn 150ºC.', 'Xepam les llesques d...   \n",
       "\n",
       "                                                             desdejuni  dinar  \\\n",
       "nom                            ingredients                                      \n",
       "Espàrrecs embolicats en pernil 3-4 llesques de pernil salat          1      0   \n",
       "                               Oli d’oliva                           1      0   \n",
       "                               ½ manat d’espàrrecs                   1      0   \n",
       "\n",
       "                                                             sopar  snack  \n",
       "nom                            ingredients                                 \n",
       "Espàrrecs embolicats en pernil 3-4 llesques de pernil salat      1      0  \n",
       "                               Oli d’oliva                       1      0  \n",
       "                               ½ manat d’espàrrecs               1      0  "
      ]
     },
     "execution_count": 56,
     "metadata": {},
     "output_type": "execute_result"
    }
   ],
   "source": [
    "df_test_ing.groupby([\"nom\", \"ingredients\"]).sum()"
   ]
  },
  {
   "cell_type": "code",
   "execution_count": 104,
   "id": "6befbf27-0017-4e6e-abc4-499780aeca26",
   "metadata": {
    "tags": []
   },
   "outputs": [],
   "source": [
    "df_final[\"passos\"] = df_final[\"passos\"].apply(ast.literal_eval) "
   ]
  },
  {
   "cell_type": "code",
   "execution_count": 59,
   "id": "84af6124-a34d-4dcf-9003-09b063fa8d6a",
   "metadata": {
    "tags": []
   },
   "outputs": [],
   "source": [
    "df_test_pass = df_test.explode(\"passos\")"
   ]
  },
  {
   "cell_type": "code",
   "execution_count": 60,
   "id": "0451fa7d-5b48-417f-b67c-1fa4a3d2b199",
   "metadata": {
    "tags": []
   },
   "outputs": [
    {
     "data": {
      "text/html": [
       "<div>\n",
       "<style scoped>\n",
       "    .dataframe tbody tr th:only-of-type {\n",
       "        vertical-align: middle;\n",
       "    }\n",
       "\n",
       "    .dataframe tbody tr th {\n",
       "        vertical-align: top;\n",
       "    }\n",
       "\n",
       "    .dataframe thead th {\n",
       "        text-align: right;\n",
       "    }\n",
       "</style>\n",
       "<table border=\"1\" class=\"dataframe\">\n",
       "  <thead>\n",
       "    <tr style=\"text-align: right;\">\n",
       "      <th></th>\n",
       "      <th></th>\n",
       "      <th>ingredients</th>\n",
       "      <th>desdejuni</th>\n",
       "      <th>dinar</th>\n",
       "      <th>sopar</th>\n",
       "      <th>snack</th>\n",
       "    </tr>\n",
       "    <tr>\n",
       "      <th>nom</th>\n",
       "      <th>passos</th>\n",
       "      <th></th>\n",
       "      <th></th>\n",
       "      <th></th>\n",
       "      <th></th>\n",
       "      <th></th>\n",
       "    </tr>\n",
       "  </thead>\n",
       "  <tbody>\n",
       "    <tr>\n",
       "      <th rowspan=\"6\" valign=\"top\">Espàrrecs embolicats en pernil</th>\n",
       "      <th>Amb elles embolicam els espàrrecs (½ mana). Recorda llevar la part més dura de l’espàrrec. 1</th>\n",
       "      <td>[½ manat d’espàrrecs, 3-4 llesques de pernil s...</td>\n",
       "      <td>1</td>\n",
       "      <td>0</td>\n",
       "      <td>1</td>\n",
       "      <td>0</td>\n",
       "    </tr>\n",
       "    <tr>\n",
       "      <th>Enforna durant 15 min.</th>\n",
       "      <td>[½ manat d’espàrrecs, 3-4 llesques de pernil s...</td>\n",
       "      <td>1</td>\n",
       "      <td>0</td>\n",
       "      <td>1</td>\n",
       "      <td>0</td>\n",
       "    </tr>\n",
       "    <tr>\n",
       "      <th>Li pots posar espècies si t’agraden: pebre bò…</th>\n",
       "      <td>[½ manat d’espàrrecs, 3-4 llesques de pernil s...</td>\n",
       "      <td>1</td>\n",
       "      <td>0</td>\n",
       "      <td>1</td>\n",
       "      <td>0</td>\n",
       "    </tr>\n",
       "    <tr>\n",
       "      <th>Preparar forn 150ºC.</th>\n",
       "      <td>[½ manat d’espàrrecs, 3-4 llesques de pernil s...</td>\n",
       "      <td>1</td>\n",
       "      <td>0</td>\n",
       "      <td>1</td>\n",
       "      <td>0</td>\n",
       "    </tr>\n",
       "    <tr>\n",
       "      <th>Tira un raig d’oli per damunt.</th>\n",
       "      <td>[½ manat d’espàrrecs, 3-4 llesques de pernil s...</td>\n",
       "      <td>1</td>\n",
       "      <td>0</td>\n",
       "      <td>1</td>\n",
       "      <td>0</td>\n",
       "    </tr>\n",
       "    <tr>\n",
       "      <th>Xepam les llesques de cuixot salat.</th>\n",
       "      <td>[½ manat d’espàrrecs, 3-4 llesques de pernil s...</td>\n",
       "      <td>1</td>\n",
       "      <td>0</td>\n",
       "      <td>1</td>\n",
       "      <td>0</td>\n",
       "    </tr>\n",
       "  </tbody>\n",
       "</table>\n",
       "</div>"
      ],
      "text/plain": [
       "                                                                                                                         ingredients  \\\n",
       "nom                            passos                                                                                                  \n",
       "Espàrrecs embolicats en pernil Amb elles embolicam els espàrrecs (½ mana). Rec...  [½ manat d’espàrrecs, 3-4 llesques de pernil s...   \n",
       "                               Enforna durant 15 min.                              [½ manat d’espàrrecs, 3-4 llesques de pernil s...   \n",
       "                               Li pots posar espècies si t’agraden: pebre bò…      [½ manat d’espàrrecs, 3-4 llesques de pernil s...   \n",
       "                               Preparar forn 150ºC.                                [½ manat d’espàrrecs, 3-4 llesques de pernil s...   \n",
       "                               Tira un raig d’oli per damunt.                      [½ manat d’espàrrecs, 3-4 llesques de pernil s...   \n",
       "                               Xepam les llesques de cuixot salat.                 [½ manat d’espàrrecs, 3-4 llesques de pernil s...   \n",
       "\n",
       "                                                                                   desdejuni  \\\n",
       "nom                            passos                                                          \n",
       "Espàrrecs embolicats en pernil Amb elles embolicam els espàrrecs (½ mana). Rec...          1   \n",
       "                               Enforna durant 15 min.                                      1   \n",
       "                               Li pots posar espècies si t’agraden: pebre bò…              1   \n",
       "                               Preparar forn 150ºC.                                        1   \n",
       "                               Tira un raig d’oli per damunt.                              1   \n",
       "                               Xepam les llesques de cuixot salat.                         1   \n",
       "\n",
       "                                                                                   dinar  \\\n",
       "nom                            passos                                                      \n",
       "Espàrrecs embolicats en pernil Amb elles embolicam els espàrrecs (½ mana). Rec...      0   \n",
       "                               Enforna durant 15 min.                                  0   \n",
       "                               Li pots posar espècies si t’agraden: pebre bò…          0   \n",
       "                               Preparar forn 150ºC.                                    0   \n",
       "                               Tira un raig d’oli per damunt.                          0   \n",
       "                               Xepam les llesques de cuixot salat.                     0   \n",
       "\n",
       "                                                                                   sopar  \\\n",
       "nom                            passos                                                      \n",
       "Espàrrecs embolicats en pernil Amb elles embolicam els espàrrecs (½ mana). Rec...      1   \n",
       "                               Enforna durant 15 min.                                  1   \n",
       "                               Li pots posar espècies si t’agraden: pebre bò…          1   \n",
       "                               Preparar forn 150ºC.                                    1   \n",
       "                               Tira un raig d’oli per damunt.                          1   \n",
       "                               Xepam les llesques de cuixot salat.                     1   \n",
       "\n",
       "                                                                                   snack  \n",
       "nom                            passos                                                     \n",
       "Espàrrecs embolicats en pernil Amb elles embolicam els espàrrecs (½ mana). Rec...      0  \n",
       "                               Enforna durant 15 min.                                  0  \n",
       "                               Li pots posar espècies si t’agraden: pebre bò…          0  \n",
       "                               Preparar forn 150ºC.                                    0  \n",
       "                               Tira un raig d’oli per damunt.                          0  \n",
       "                               Xepam les llesques de cuixot salat.                     0  "
      ]
     },
     "execution_count": 60,
     "metadata": {},
     "output_type": "execute_result"
    }
   ],
   "source": [
    "df_test_pass.groupby([\"nom\", \"passos\"]).sum()"
   ]
  },
  {
   "cell_type": "code",
   "execution_count": 196,
   "id": "2bb379e3-d505-4f22-9a73-6ea254545220",
   "metadata": {
    "tags": []
   },
   "outputs": [],
   "source": [
    "df_final.drop(index=153, inplace=True)"
   ]
  },
  {
   "cell_type": "code",
   "execution_count": 193,
   "id": "e9365055-b429-4c60-b107-80ba8e272d90",
   "metadata": {
    "tags": []
   },
   "outputs": [
    {
     "data": {
      "text/plain": [
       "nom                                Crema de pastanaga i gingebre\n",
       "ingredients    [420 g de pastanagues (5 mitjanes), 2 alls, 5g...\n",
       "passos         [Fundir la mantequilla en una olla, Agregar el...\n",
       "desdejuni                                                      0\n",
       "dinar                                                          0\n",
       "sopar                                                          1\n",
       "snack                                                          0\n",
       "Name: 153, dtype: object"
      ]
     },
     "execution_count": 193,
     "metadata": {},
     "output_type": "execute_result"
    }
   ],
   "source": [
    "df_final.iloc[148]"
   ]
  },
  {
   "cell_type": "code",
   "execution_count": 183,
   "id": "30fb3a9e-5506-4abd-b20e-b329482bb224",
   "metadata": {
    "tags": []
   },
   "outputs": [
    {
     "data": {
      "text/plain": [
       "nom                       Crema de pastanaga amb coco i gingebre\n",
       "ingredients    [660 g de pastanagues, 3 alls, 15 g de gingebr...\n",
       "passos         [Col·locar una olla a foc mitjà i fondre la ma...\n",
       "desdejuni                                                      0\n",
       "dinar                                                          0\n",
       "sopar                                                          1\n",
       "snack                                                          0\n",
       "Name: 21, dtype: object"
      ]
     },
     "execution_count": 183,
     "metadata": {},
     "output_type": "execute_result"
    }
   ],
   "source": [
    "df_final.iloc[16]"
   ]
  },
  {
   "cell_type": "code",
   "execution_count": 185,
   "id": "737f1118-14d4-41c6-a6d0-ba8967b65556",
   "metadata": {
    "tags": []
   },
   "outputs": [
    {
     "data": {
      "text/plain": [
       "['420 g de pastanagues (5 mitjanes)',\n",
       " '2 alls',\n",
       " '5g de gingebre fresc (o 0.2g en pols)',\n",
       " '15 g de mantega sense sal',\n",
       " '210ml de brou casolà de pollastre (o aigua)',\n",
       " '70 ml de llet de coco',\n",
       " '0.2g de cúrcuma en pols (opcional)',\n",
       " '0.5g de pebre vermell dolç fumat (opcional)',\n",
       " 'Sal i pebre al gust',\n",
       " 'Fulles de julivert o herba sana (opcional)']"
      ]
     },
     "execution_count": 185,
     "metadata": {},
     "output_type": "execute_result"
    }
   ],
   "source": [
    "df_final[\"ingredients\"].iloc[-1]"
   ]
  },
  {
   "cell_type": "code",
   "execution_count": 186,
   "id": "f1001770-b084-49ad-9dd1-d654d7b67e53",
   "metadata": {
    "tags": []
   },
   "outputs": [
    {
     "data": {
      "text/plain": [
       "['660 g de pastanagues',\n",
       " '3 alls',\n",
       " '15 g de gingebre fresc (o 0.2g en pols)',\n",
       " '25 g de mantega sense sal',\n",
       " '330 ml de brou casolà de pollastre (o aigua)',\n",
       " '110 ml de llet de coco',\n",
       " '0.3g de cúrcuma en pols (opcional)',\n",
       " '0.5g de pebre vermell dolç (opcional)',\n",
       " 'Sal i pebre al gust',\n",
       " 'Fulles de julivert o menta (opcional)']"
      ]
     },
     "execution_count": 186,
     "metadata": {},
     "output_type": "execute_result"
    }
   ],
   "source": [
    "df_final[\"ingredients\"].iloc[16]"
   ]
  },
  {
   "cell_type": "code",
   "execution_count": 114,
   "id": "cad9be0d-a162-4b47-ae3d-96b44ef2022d",
   "metadata": {
    "tags": []
   },
   "outputs": [],
   "source": [
    "df_final.drop(index=19, inplace=True)"
   ]
  },
  {
   "cell_type": "code",
   "execution_count": 156,
   "id": "8dbe7da0-a19e-457d-9527-afac85f4185b",
   "metadata": {
    "tags": []
   },
   "outputs": [
    {
     "data": {
      "text/plain": [
       "'Crema de pastanaga amb coco i gingebre'"
      ]
     },
     "execution_count": 156,
     "metadata": {},
     "output_type": "execute_result"
    }
   ],
   "source": [
    "df_final.nom.iloc[16]"
   ]
  },
  {
   "cell_type": "code",
   "execution_count": 172,
   "id": "5c949868-b9e9-4467-8c2c-3c734409001c",
   "metadata": {
    "tags": []
   },
   "outputs": [],
   "source": [
    "df_final.nom = df_final.nom.replace(\"Amanida i Pad-thai\", \"Pad-thai\")"
   ]
  },
  {
   "cell_type": "code",
   "execution_count": 119,
   "id": "d862c1b9-e170-407b-8fd9-4cabe8eafb25",
   "metadata": {
    "tags": []
   },
   "outputs": [
    {
     "data": {
      "text/html": [
       "<div>\n",
       "<style scoped>\n",
       "    .dataframe tbody tr th:only-of-type {\n",
       "        vertical-align: middle;\n",
       "    }\n",
       "\n",
       "    .dataframe tbody tr th {\n",
       "        vertical-align: top;\n",
       "    }\n",
       "\n",
       "    .dataframe thead th {\n",
       "        text-align: right;\n",
       "    }\n",
       "</style>\n",
       "<table border=\"1\" class=\"dataframe\">\n",
       "  <thead>\n",
       "    <tr style=\"text-align: right;\">\n",
       "      <th></th>\n",
       "      <th>nom</th>\n",
       "      <th>ingredients</th>\n",
       "      <th>passos</th>\n",
       "      <th>desdejuni</th>\n",
       "      <th>dinar</th>\n",
       "      <th>sopar</th>\n",
       "      <th>snack</th>\n",
       "    </tr>\n",
       "  </thead>\n",
       "  <tbody>\n",
       "    <tr>\n",
       "      <th>21</th>\n",
       "      <td>Crema de pastanaga amb coco i gingebre</td>\n",
       "      <td>[660 g de pastanagues, 3 alls, 15 g de gingebr...</td>\n",
       "      <td>[Col·locar una olla a foc mitjà i fondre la ma...</td>\n",
       "      <td>0</td>\n",
       "      <td>0</td>\n",
       "      <td>1</td>\n",
       "      <td>0</td>\n",
       "    </tr>\n",
       "  </tbody>\n",
       "</table>\n",
       "</div>"
      ],
      "text/plain": [
       "                                       nom  \\\n",
       "21  Crema de pastanaga amb coco i gingebre   \n",
       "\n",
       "                                          ingredients  \\\n",
       "21  [660 g de pastanagues, 3 alls, 15 g de gingebr...   \n",
       "\n",
       "                                               passos  desdejuni  dinar  \\\n",
       "21  [Col·locar una olla a foc mitjà i fondre la ma...          0      0   \n",
       "\n",
       "    sopar  snack  \n",
       "21      1      0  "
      ]
     },
     "execution_count": 119,
     "metadata": {},
     "output_type": "execute_result"
    }
   ],
   "source": [
    "df_final[df_final[\"nom\"] == 'Crema de pastanaga amb coco i gingebre']"
   ]
  },
  {
   "cell_type": "code",
   "execution_count": 204,
   "id": "51ac0db1-450d-4ca7-bc15-fd21529f0a7f",
   "metadata": {
    "tags": []
   },
   "outputs": [],
   "source": [
    "df_final = df_final.reset_index(drop=True)"
   ]
  },
  {
   "cell_type": "code",
   "execution_count": 205,
   "id": "28080b76-fc74-4816-8525-c08063e9e97e",
   "metadata": {
    "tags": []
   },
   "outputs": [
    {
     "data": {
      "text/html": [
       "<div>\n",
       "<style scoped>\n",
       "    .dataframe tbody tr th:only-of-type {\n",
       "        vertical-align: middle;\n",
       "    }\n",
       "\n",
       "    .dataframe tbody tr th {\n",
       "        vertical-align: top;\n",
       "    }\n",
       "\n",
       "    .dataframe thead th {\n",
       "        text-align: right;\n",
       "    }\n",
       "</style>\n",
       "<table border=\"1\" class=\"dataframe\">\n",
       "  <thead>\n",
       "    <tr style=\"text-align: right;\">\n",
       "      <th></th>\n",
       "      <th>nom</th>\n",
       "      <th>ingredients</th>\n",
       "      <th>passos</th>\n",
       "      <th>desdejuni</th>\n",
       "      <th>dinar</th>\n",
       "      <th>sopar</th>\n",
       "      <th>snack</th>\n",
       "    </tr>\n",
       "  </thead>\n",
       "  <tbody>\n",
       "    <tr>\n",
       "      <th>0</th>\n",
       "      <td>Iogurt grec amb fraules</td>\n",
       "      <td>[Iogurt grec 200g, Fraules 100-150g, Nous i am...</td>\n",
       "      <td>[Tallar les fraules i mesclar tot en un bol., ...</td>\n",
       "      <td>1</td>\n",
       "      <td>0</td>\n",
       "      <td>1</td>\n",
       "      <td>1</td>\n",
       "    </tr>\n",
       "    <tr>\n",
       "      <th>1</th>\n",
       "      <td>Solomillo de vedella Strogonoff i arròs basmati</td>\n",
       "      <td>[Solomillo de vedella 150-200g, Xampinyons 100...</td>\n",
       "      <td>[Adobar la carn amb sal i prebe bò., Posar la ...</td>\n",
       "      <td>0</td>\n",
       "      <td>1</td>\n",
       "      <td>0</td>\n",
       "      <td>0</td>\n",
       "    </tr>\n",
       "    <tr>\n",
       "      <th>2</th>\n",
       "      <td>Espàrrecs embolicats en pernil</td>\n",
       "      <td>[½ manat d’espàrrecs, 3-4 llesques de pernil s...</td>\n",
       "      <td>[Preparar forn 150ºC., Xepam les llesques de c...</td>\n",
       "      <td>1</td>\n",
       "      <td>0</td>\n",
       "      <td>1</td>\n",
       "      <td>0</td>\n",
       "    </tr>\n",
       "    <tr>\n",
       "      <th>3</th>\n",
       "      <td>Mini amanida verda</td>\n",
       "      <td>[20g d'enciam roman, 15g de ruca, 20g d'espina...</td>\n",
       "      <td>[Mesclar tots els ingredinets en un bol + ½ al...</td>\n",
       "      <td>1</td>\n",
       "      <td>1</td>\n",
       "      <td>1</td>\n",
       "      <td>1</td>\n",
       "    </tr>\n",
       "    <tr>\n",
       "      <th>4</th>\n",
       "      <td>Cuinat de llenties</td>\n",
       "      <td>[150g de llenties crues, 750ml d'aigua, 2 dent...</td>\n",
       "      <td>[Posar les llenties prèviament remullades i co...</td>\n",
       "      <td>1</td>\n",
       "      <td>1</td>\n",
       "      <td>0</td>\n",
       "      <td>0</td>\n",
       "    </tr>\n",
       "    <tr>\n",
       "      <th>...</th>\n",
       "      <td>...</td>\n",
       "      <td>...</td>\n",
       "      <td>...</td>\n",
       "      <td>...</td>\n",
       "      <td>...</td>\n",
       "      <td>...</td>\n",
       "      <td>...</td>\n",
       "    </tr>\n",
       "    <tr>\n",
       "      <th>143</th>\n",
       "      <td>Pebrots farcits de peix i formatge.</td>\n",
       "      <td>[400g de peix (si ho fas amb rap queda molt bé...</td>\n",
       "      <td>[Encalentir el forn a 180°C., Rentar i tallar ...</td>\n",
       "      <td>0</td>\n",
       "      <td>1</td>\n",
       "      <td>0</td>\n",
       "      <td>0</td>\n",
       "    </tr>\n",
       "    <tr>\n",
       "      <th>144</th>\n",
       "      <td>Ou bullit amb salmó fumat i ½ alvocat</td>\n",
       "      <td>[2 OU, 100 g de salmó fumat, ½ ALVOCAT, 50 g d...</td>\n",
       "      <td>[Bullir l’ou durante 8 minuts i quan estigui b...</td>\n",
       "      <td>1</td>\n",
       "      <td>0</td>\n",
       "      <td>1</td>\n",
       "      <td>0</td>\n",
       "    </tr>\n",
       "    <tr>\n",
       "      <th>145</th>\n",
       "      <td>Ous remenats o fregits amb cuixot salat</td>\n",
       "      <td>[3 ous, 35 g de pernil, 8 ml d'oli d'oliva (1⁄...</td>\n",
       "      <td>[Encalentir l’oli a la paella, tirar els ous, ...</td>\n",
       "      <td>1</td>\n",
       "      <td>0</td>\n",
       "      <td>1</td>\n",
       "      <td>0</td>\n",
       "    </tr>\n",
       "    <tr>\n",
       "      <th>146</th>\n",
       "      <td>Espàrrecs saltejats</td>\n",
       "      <td>[200g d’espàrrecs, 10 g de mantega, pebre bo i...</td>\n",
       "      <td>[Rentar i tallar els espàrrecs, Encalentir una...</td>\n",
       "      <td>0</td>\n",
       "      <td>1</td>\n",
       "      <td>1</td>\n",
       "      <td>0</td>\n",
       "    </tr>\n",
       "    <tr>\n",
       "      <th>147</th>\n",
       "      <td>Pollastre al forn a les fines herbes</td>\n",
       "      <td>[400g de pollastre a trossos amb os i pell, 1⁄...</td>\n",
       "      <td>[Talla-ho tot petit i ratlla la pell de la lli...</td>\n",
       "      <td>0</td>\n",
       "      <td>1</td>\n",
       "      <td>0</td>\n",
       "      <td>0</td>\n",
       "    </tr>\n",
       "  </tbody>\n",
       "</table>\n",
       "<p>148 rows × 7 columns</p>\n",
       "</div>"
      ],
      "text/plain": [
       "                                                 nom  \\\n",
       "0                            Iogurt grec amb fraules   \n",
       "1    Solomillo de vedella Strogonoff i arròs basmati   \n",
       "2                     Espàrrecs embolicats en pernil   \n",
       "3                                 Mini amanida verda   \n",
       "4                                 Cuinat de llenties   \n",
       "..                                               ...   \n",
       "143              Pebrots farcits de peix i formatge.   \n",
       "144            Ou bullit amb salmó fumat i ½ alvocat   \n",
       "145          Ous remenats o fregits amb cuixot salat   \n",
       "146                              Espàrrecs saltejats   \n",
       "147             Pollastre al forn a les fines herbes   \n",
       "\n",
       "                                           ingredients  \\\n",
       "0    [Iogurt grec 200g, Fraules 100-150g, Nous i am...   \n",
       "1    [Solomillo de vedella 150-200g, Xampinyons 100...   \n",
       "2    [½ manat d’espàrrecs, 3-4 llesques de pernil s...   \n",
       "3    [20g d'enciam roman, 15g de ruca, 20g d'espina...   \n",
       "4    [150g de llenties crues, 750ml d'aigua, 2 dent...   \n",
       "..                                                 ...   \n",
       "143  [400g de peix (si ho fas amb rap queda molt bé...   \n",
       "144  [2 OU, 100 g de salmó fumat, ½ ALVOCAT, 50 g d...   \n",
       "145  [3 ous, 35 g de pernil, 8 ml d'oli d'oliva (1⁄...   \n",
       "146  [200g d’espàrrecs, 10 g de mantega, pebre bo i...   \n",
       "147  [400g de pollastre a trossos amb os i pell, 1⁄...   \n",
       "\n",
       "                                                passos  desdejuni  dinar  \\\n",
       "0    [Tallar les fraules i mesclar tot en un bol., ...          1      0   \n",
       "1    [Adobar la carn amb sal i prebe bò., Posar la ...          0      1   \n",
       "2    [Preparar forn 150ºC., Xepam les llesques de c...          1      0   \n",
       "3    [Mesclar tots els ingredinets en un bol + ½ al...          1      1   \n",
       "4    [Posar les llenties prèviament remullades i co...          1      1   \n",
       "..                                                 ...        ...    ...   \n",
       "143  [Encalentir el forn a 180°C., Rentar i tallar ...          0      1   \n",
       "144  [Bullir l’ou durante 8 minuts i quan estigui b...          1      0   \n",
       "145  [Encalentir l’oli a la paella, tirar els ous, ...          1      0   \n",
       "146  [Rentar i tallar els espàrrecs, Encalentir una...          0      1   \n",
       "147  [Talla-ho tot petit i ratlla la pell de la lli...          0      1   \n",
       "\n",
       "     sopar  snack  \n",
       "0        1      1  \n",
       "1        0      0  \n",
       "2        1      0  \n",
       "3        1      1  \n",
       "4        0      0  \n",
       "..     ...    ...  \n",
       "143      0      0  \n",
       "144      1      0  \n",
       "145      1      0  \n",
       "146      1      0  \n",
       "147      0      0  \n",
       "\n",
       "[148 rows x 7 columns]"
      ]
     },
     "execution_count": 205,
     "metadata": {},
     "output_type": "execute_result"
    }
   ],
   "source": [
    "df_final"
   ]
  },
  {
   "cell_type": "markdown",
   "id": "d3643b6f-1982-4848-9da0-9853132df3fc",
   "metadata": {
    "tags": []
   },
   "source": [
    "### Encontrando \"apartados\""
   ]
  },
  {
   "cell_type": "code",
   "execution_count": 243,
   "id": "a381c83f-8c78-467d-a180-93964a89c474",
   "metadata": {
    "tags": []
   },
   "outputs": [],
   "source": [
    "#Creamos \"apartat\" en df\n",
    "\n",
    "if \"apartat\" not in df_final.columns:\n",
    "    df_final[\"apartat\"] = [[] for _ in range(len(df_final))]"
   ]
  },
  {
   "cell_type": "code",
   "execution_count": 245,
   "id": "5dc47bd0-3700-4f16-b0a2-68ceb2902fdd",
   "metadata": {
    "tags": []
   },
   "outputs": [],
   "source": [
    "df_final[\"apartat\"] = df_final.apply(\n",
    "    lambda row: list(set(row[\"apartat\"] + [\"Pollastre\"])) if \"pollastre\" in row[\"nom\"].lower() else row[\"apartat\"],\n",
    "    axis=1\n",
    ")"
   ]
  },
  {
   "cell_type": "code",
   "execution_count": 246,
   "id": "30c5a2e4-8708-42d3-941a-1491453754aa",
   "metadata": {
    "tags": []
   },
   "outputs": [],
   "source": [
    "# Amanida\n",
    "\n",
    "df_final[\"apartat\"] = df_final.apply(\n",
    "    lambda row: list(set(row[\"apartat\"] + [\"Amanida\"])) if \"amanida\" in row[\"nom\"].lower() else row[\"apartat\"],\n",
    "    axis=1\n",
    ")"
   ]
  },
  {
   "cell_type": "code",
   "execution_count": 251,
   "id": "c3533baa-e63a-42b1-a0ee-c103da356751",
   "metadata": {
    "tags": []
   },
   "outputs": [
    {
     "data": {
      "text/html": [
       "<div>\n",
       "<style scoped>\n",
       "    .dataframe tbody tr th:only-of-type {\n",
       "        vertical-align: middle;\n",
       "    }\n",
       "\n",
       "    .dataframe tbody tr th {\n",
       "        vertical-align: top;\n",
       "    }\n",
       "\n",
       "    .dataframe thead th {\n",
       "        text-align: right;\n",
       "    }\n",
       "</style>\n",
       "<table border=\"1\" class=\"dataframe\">\n",
       "  <thead>\n",
       "    <tr style=\"text-align: right;\">\n",
       "      <th></th>\n",
       "      <th>nom</th>\n",
       "      <th>ingredients</th>\n",
       "      <th>passos</th>\n",
       "      <th>desdejuni</th>\n",
       "      <th>dinar</th>\n",
       "      <th>sopar</th>\n",
       "      <th>snack</th>\n",
       "      <th>apartat</th>\n",
       "    </tr>\n",
       "  </thead>\n",
       "  <tbody>\n",
       "    <tr>\n",
       "      <th>0</th>\n",
       "      <td>Iogurt grec amb fraules</td>\n",
       "      <td>[Iogurt grec 200g, Fraules 100-150g, Nous i am...</td>\n",
       "      <td>[Tallar les fraules i mesclar tot en un bol., ...</td>\n",
       "      <td>1</td>\n",
       "      <td>0</td>\n",
       "      <td>1</td>\n",
       "      <td>1</td>\n",
       "      <td>NaN</td>\n",
       "    </tr>\n",
       "    <tr>\n",
       "      <th>1</th>\n",
       "      <td>Solomillo de vedella Strogonoff i arròs basmati</td>\n",
       "      <td>[Solomillo de vedella 150-200g, Xampinyons 100...</td>\n",
       "      <td>[Adobar la carn amb sal i prebe bò., Posar la ...</td>\n",
       "      <td>0</td>\n",
       "      <td>1</td>\n",
       "      <td>0</td>\n",
       "      <td>0</td>\n",
       "      <td>NaN</td>\n",
       "    </tr>\n",
       "    <tr>\n",
       "      <th>2</th>\n",
       "      <td>Espàrrecs embolicats en pernil</td>\n",
       "      <td>[½ manat d’espàrrecs, 3-4 llesques de pernil s...</td>\n",
       "      <td>[Preparar forn 150ºC., Xepam les llesques de c...</td>\n",
       "      <td>1</td>\n",
       "      <td>0</td>\n",
       "      <td>1</td>\n",
       "      <td>0</td>\n",
       "      <td>NaN</td>\n",
       "    </tr>\n",
       "    <tr>\n",
       "      <th>3</th>\n",
       "      <td>Mini amanida verda</td>\n",
       "      <td>[20g d'enciam roman, 15g de ruca, 20g d'espina...</td>\n",
       "      <td>[Mesclar tots els ingredinets en un bol + ½ al...</td>\n",
       "      <td>1</td>\n",
       "      <td>1</td>\n",
       "      <td>1</td>\n",
       "      <td>1</td>\n",
       "      <td>Amanida</td>\n",
       "    </tr>\n",
       "    <tr>\n",
       "      <th>4</th>\n",
       "      <td>Cuinat de llenties</td>\n",
       "      <td>[150g de llenties crues, 750ml d'aigua, 2 dent...</td>\n",
       "      <td>[Posar les llenties prèviament remullades i co...</td>\n",
       "      <td>1</td>\n",
       "      <td>1</td>\n",
       "      <td>0</td>\n",
       "      <td>0</td>\n",
       "      <td>NaN</td>\n",
       "    </tr>\n",
       "    <tr>\n",
       "      <th>...</th>\n",
       "      <td>...</td>\n",
       "      <td>...</td>\n",
       "      <td>...</td>\n",
       "      <td>...</td>\n",
       "      <td>...</td>\n",
       "      <td>...</td>\n",
       "      <td>...</td>\n",
       "      <td>...</td>\n",
       "    </tr>\n",
       "    <tr>\n",
       "      <th>143</th>\n",
       "      <td>Pebrots farcits de peix i formatge.</td>\n",
       "      <td>[400g de peix (si ho fas amb rap queda molt bé...</td>\n",
       "      <td>[Encalentir el forn a 180°C., Rentar i tallar ...</td>\n",
       "      <td>0</td>\n",
       "      <td>1</td>\n",
       "      <td>0</td>\n",
       "      <td>0</td>\n",
       "      <td>NaN</td>\n",
       "    </tr>\n",
       "    <tr>\n",
       "      <th>144</th>\n",
       "      <td>Ou bullit amb salmó fumat i ½ alvocat</td>\n",
       "      <td>[2 OU, 100 g de salmó fumat, ½ ALVOCAT, 50 g d...</td>\n",
       "      <td>[Bullir l’ou durante 8 minuts i quan estigui b...</td>\n",
       "      <td>1</td>\n",
       "      <td>0</td>\n",
       "      <td>1</td>\n",
       "      <td>0</td>\n",
       "      <td>NaN</td>\n",
       "    </tr>\n",
       "    <tr>\n",
       "      <th>145</th>\n",
       "      <td>Ous remenats o fregits amb cuixot salat</td>\n",
       "      <td>[3 ous, 35 g de pernil, 8 ml d'oli d'oliva (1⁄...</td>\n",
       "      <td>[Encalentir l’oli a la paella, tirar els ous, ...</td>\n",
       "      <td>1</td>\n",
       "      <td>0</td>\n",
       "      <td>1</td>\n",
       "      <td>0</td>\n",
       "      <td>NaN</td>\n",
       "    </tr>\n",
       "    <tr>\n",
       "      <th>146</th>\n",
       "      <td>Espàrrecs saltejats</td>\n",
       "      <td>[200g d’espàrrecs, 10 g de mantega, pebre bo i...</td>\n",
       "      <td>[Rentar i tallar els espàrrecs, Encalentir una...</td>\n",
       "      <td>0</td>\n",
       "      <td>1</td>\n",
       "      <td>1</td>\n",
       "      <td>0</td>\n",
       "      <td>NaN</td>\n",
       "    </tr>\n",
       "    <tr>\n",
       "      <th>147</th>\n",
       "      <td>Pollastre al forn a les fines herbes</td>\n",
       "      <td>[400g de pollastre a trossos amb os i pell, 1⁄...</td>\n",
       "      <td>[Talla-ho tot petit i ratlla la pell de la lli...</td>\n",
       "      <td>0</td>\n",
       "      <td>1</td>\n",
       "      <td>0</td>\n",
       "      <td>0</td>\n",
       "      <td>Pollastre</td>\n",
       "    </tr>\n",
       "  </tbody>\n",
       "</table>\n",
       "<p>149 rows × 8 columns</p>\n",
       "</div>"
      ],
      "text/plain": [
       "                                                 nom  \\\n",
       "0                            Iogurt grec amb fraules   \n",
       "1    Solomillo de vedella Strogonoff i arròs basmati   \n",
       "2                     Espàrrecs embolicats en pernil   \n",
       "3                                 Mini amanida verda   \n",
       "4                                 Cuinat de llenties   \n",
       "..                                               ...   \n",
       "143              Pebrots farcits de peix i formatge.   \n",
       "144            Ou bullit amb salmó fumat i ½ alvocat   \n",
       "145          Ous remenats o fregits amb cuixot salat   \n",
       "146                              Espàrrecs saltejats   \n",
       "147             Pollastre al forn a les fines herbes   \n",
       "\n",
       "                                           ingredients  \\\n",
       "0    [Iogurt grec 200g, Fraules 100-150g, Nous i am...   \n",
       "1    [Solomillo de vedella 150-200g, Xampinyons 100...   \n",
       "2    [½ manat d’espàrrecs, 3-4 llesques de pernil s...   \n",
       "3    [20g d'enciam roman, 15g de ruca, 20g d'espina...   \n",
       "4    [150g de llenties crues, 750ml d'aigua, 2 dent...   \n",
       "..                                                 ...   \n",
       "143  [400g de peix (si ho fas amb rap queda molt bé...   \n",
       "144  [2 OU, 100 g de salmó fumat, ½ ALVOCAT, 50 g d...   \n",
       "145  [3 ous, 35 g de pernil, 8 ml d'oli d'oliva (1⁄...   \n",
       "146  [200g d’espàrrecs, 10 g de mantega, pebre bo i...   \n",
       "147  [400g de pollastre a trossos amb os i pell, 1⁄...   \n",
       "\n",
       "                                                passos  desdejuni  dinar  \\\n",
       "0    [Tallar les fraules i mesclar tot en un bol., ...          1      0   \n",
       "1    [Adobar la carn amb sal i prebe bò., Posar la ...          0      1   \n",
       "2    [Preparar forn 150ºC., Xepam les llesques de c...          1      0   \n",
       "3    [Mesclar tots els ingredinets en un bol + ½ al...          1      1   \n",
       "4    [Posar les llenties prèviament remullades i co...          1      1   \n",
       "..                                                 ...        ...    ...   \n",
       "143  [Encalentir el forn a 180°C., Rentar i tallar ...          0      1   \n",
       "144  [Bullir l’ou durante 8 minuts i quan estigui b...          1      0   \n",
       "145  [Encalentir l’oli a la paella, tirar els ous, ...          1      0   \n",
       "146  [Rentar i tallar els espàrrecs, Encalentir una...          0      1   \n",
       "147  [Talla-ho tot petit i ratlla la pell de la lli...          0      1   \n",
       "\n",
       "     sopar  snack    apartat  \n",
       "0        1      1        NaN  \n",
       "1        0      0        NaN  \n",
       "2        1      0        NaN  \n",
       "3        1      1    Amanida  \n",
       "4        0      0        NaN  \n",
       "..     ...    ...        ...  \n",
       "143      0      0        NaN  \n",
       "144      1      0        NaN  \n",
       "145      1      0        NaN  \n",
       "146      1      0        NaN  \n",
       "147      0      0  Pollastre  \n",
       "\n",
       "[149 rows x 8 columns]"
      ]
     },
     "execution_count": 251,
     "metadata": {},
     "output_type": "execute_result"
    }
   ],
   "source": [
    "df_final.explode(\"apartat\")"
   ]
  },
  {
   "cell_type": "markdown",
   "id": "5f26762b-84d1-4655-a1af-6bfd3b450c72",
   "metadata": {},
   "source": [
    "### CSV"
   ]
  },
  {
   "cell_type": "code",
   "execution_count": 253,
   "id": "666c0de1-4094-4888-9d28-83fa5b6be2fe",
   "metadata": {
    "tags": []
   },
   "outputs": [],
   "source": [
    "df_final.to_csv(\"df_corregido.csv\", index=False)"
   ]
  },
  {
   "cell_type": "code",
   "execution_count": null,
   "id": "49068890-a045-4c5a-bd05-39ebbc3606dc",
   "metadata": {},
   "outputs": [],
   "source": []
  }
 ],
 "metadata": {
  "kernelspec": {
   "display_name": "Python 3 (ipykernel)",
   "language": "python",
   "name": "python3"
  },
  "language_info": {
   "codemirror_mode": {
    "name": "ipython",
    "version": 3
   },
   "file_extension": ".py",
   "mimetype": "text/x-python",
   "name": "python",
   "nbconvert_exporter": "python",
   "pygments_lexer": "ipython3",
   "version": "3.11.5"
  }
 },
 "nbformat": 4,
 "nbformat_minor": 5
}
