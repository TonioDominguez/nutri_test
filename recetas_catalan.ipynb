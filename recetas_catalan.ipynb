{
 "cells": [
  {
   "cell_type": "code",
   "execution_count": 1,
   "id": "2b814615-1aa1-44d1-8f08-cc15c2da58c9",
   "metadata": {
    "tags": []
   },
   "outputs": [],
   "source": [
    "import pandas as pd\n",
    "import pdfplumber\n",
    "import re\n",
    "\n",
    "from funciones_pdf import *"
   ]
  },
  {
   "cell_type": "code",
   "execution_count": 2,
   "id": "f9a94690-e0f2-4d7e-a0d2-1a78eb459a0e",
   "metadata": {
    "tags": []
   },
   "outputs": [
    {
     "name": "stdout",
     "output_type": "stream",
     "text": [
      "\n",
      "Primeras filas del DataFrame:\n",
      "                                         nom racions  \\\n",
      "0    Ous remenats o fregits amb cuixot salat    None   \n",
      "1                             Gratén de peix    None   \n",
      "2  Pebres farcits d'indiot amb arròs basmati    None   \n",
      "3                        Espàrrecs saltejats    None   \n",
      "4     Amanida d’espinacs ruca, nous i nabius    None   \n",
      "\n",
      "                                         ingredients  \\\n",
      "0  [3 ous, 35 g de pernil, 8 ml d'oli d'oliva (1⁄...   \n",
      "1  [450g de filets de lluç (o qualsevol peix blan...   \n",
      "2  [2 pebrots (vermells, grocs o verds), 300 g de...   \n",
      "3  [200g d’espàrrecs, 10 g de mantega, pebre bo i...   \n",
      "4  [20g d'espinacs, 20g de ruca, 20g d'enciam, 20...   \n",
      "\n",
      "                                              passos  \n",
      "0  [Encalentir l’oli a la paella, tirar els ous, ...  \n",
      "1  [Encalentir el forn a 200°C i preparar la safa...  \n",
      "2  [Encalentir el forn a 180°C i preparar la safa...  \n",
      "3  [Rentar i tallar els espàrrecs, Encalentir una...  \n",
      "4  [Mesclar tots els ingredients dins un pot de v...  \n",
      "\n",
      "Información del DataFrame:\n",
      "<class 'pandas.core.frame.DataFrame'>\n",
      "RangeIndex: 9 entries, 0 to 8\n",
      "Data columns (total 4 columns):\n",
      " #   Column       Non-Null Count  Dtype \n",
      "---  ------       --------------  ----- \n",
      " 0   nom          9 non-null      object\n",
      " 1   racions      0 non-null      object\n",
      " 2   ingredients  9 non-null      object\n",
      " 3   passos       9 non-null      object\n",
      "dtypes: object(4)\n",
      "memory usage: 420.0+ bytes\n",
      "None\n"
     ]
    }
   ],
   "source": [
    "# Leer el PDF\n",
    "ruta_pdf = \"recetas cat 5.pdf\"  \n",
    "texto_pdf = leer_pdf(ruta_pdf)\n",
    "\n",
    "if texto_pdf:\n",
    "    # Dividir el texto en recetas individuales\n",
    "    recetas_texto = texto_pdf.split('[Receta]')\n",
    "    recetas_texto = ['[Receta]' + r for r in recetas_texto[1:]]  # Excluir el primer elemento vacío\n",
    "\n",
    "    # Procesar cada receta\n",
    "    recetas_procesadas = []\n",
    "    for receta in recetas_texto:\n",
    "        datos_receta = procesar_receta(receta)\n",
    "        recetas_procesadas.append(datos_receta)\n",
    "\n",
    "    # Crear DataFrame\n",
    "    df = pd.DataFrame(recetas_procesadas)\n",
    "\n",
    "    # Guardar el DataFrame en un archivo CSV\n",
    "    df.to_csv(\"recetas_cat_5.csv\", index=False)\n",
    "\n",
    "    # Mostrar el DataFrame\n",
    "    print(\"\\nPrimeras filas del DataFrame:\")\n",
    "    print(df.head())\n",
    "\n",
    "    # Mostrar información sobre el DataFrame\n",
    "    print(\"\\nInformación del DataFrame:\")\n",
    "    print(df.info())"
   ]
  },
  {
   "cell_type": "markdown",
   "id": "0560273c-9b6d-441e-a8ec-ef7688b7e304",
   "metadata": {
    "tags": []
   },
   "source": [
    "### Concatenar csv resultantes"
   ]
  },
  {
   "cell_type": "code",
   "execution_count": 3,
   "id": "105dc91e-a1fd-49a4-bd83-6af8a1270dba",
   "metadata": {
    "tags": []
   },
   "outputs": [],
   "source": [
    "df_origen = pd.read_csv(\"df_final_1_3.csv\")"
   ]
  },
  {
   "cell_type": "code",
   "execution_count": 4,
   "id": "907ef175-6e21-4d76-b30c-5f78e3ddfb9a",
   "metadata": {
    "tags": []
   },
   "outputs": [],
   "source": [
    "df_final = pd.concat([df_origen, df])"
   ]
  },
  {
   "cell_type": "code",
   "execution_count": 5,
   "id": "b6667467-8696-4887-813e-9ad7a2046ab0",
   "metadata": {
    "tags": []
   },
   "outputs": [],
   "source": [
    "df_final = df_final.reset_index().drop(columns=\"index\")"
   ]
  },
  {
   "cell_type": "code",
   "execution_count": 6,
   "id": "cdf18e1d-bc6e-4ca3-951d-54ff8320894b",
   "metadata": {
    "tags": []
   },
   "outputs": [],
   "source": [
    "df_final.to_csv(\"df_final_1_4.csv\", index=False)"
   ]
  },
  {
   "cell_type": "code",
   "execution_count": 7,
   "id": "e135b4f8-8e74-4e17-91b0-fcc6959d4fd3",
   "metadata": {
    "tags": []
   },
   "outputs": [
    {
     "data": {
      "text/html": [
       "<div>\n",
       "<style scoped>\n",
       "    .dataframe tbody tr th:only-of-type {\n",
       "        vertical-align: middle;\n",
       "    }\n",
       "\n",
       "    .dataframe tbody tr th {\n",
       "        vertical-align: top;\n",
       "    }\n",
       "\n",
       "    .dataframe thead th {\n",
       "        text-align: right;\n",
       "    }\n",
       "</style>\n",
       "<table border=\"1\" class=\"dataframe\">\n",
       "  <thead>\n",
       "    <tr style=\"text-align: right;\">\n",
       "      <th></th>\n",
       "      <th>nom</th>\n",
       "      <th>racions</th>\n",
       "      <th>ingredients</th>\n",
       "      <th>passos</th>\n",
       "    </tr>\n",
       "  </thead>\n",
       "  <tbody>\n",
       "    <tr>\n",
       "      <th>0</th>\n",
       "      <td>Pa de lli</td>\n",
       "      <td>NaN</td>\n",
       "      <td>['440g de lli molt (llavors de lli triturades ...</td>\n",
       "      <td>['Mesclar-ho tot', 'Deixar-ho reposar 1h', 'Po...</td>\n",
       "    </tr>\n",
       "    <tr>\n",
       "      <th>1</th>\n",
       "      <td>mb esclatassangs i una mica de carn</td>\n",
       "      <td>NaN</td>\n",
       "      <td>[\"3 cullerades d’Oli d'oliva extra verge o eco...</td>\n",
       "      <td>['Rentar i trossejar tota la verdura.', \"Posar...</td>\n",
       "    </tr>\n",
       "    <tr>\n",
       "      <th>2</th>\n",
       "      <td>Truita de gambes</td>\n",
       "      <td>NaN</td>\n",
       "      <td>['2 ous', '7g d’oli d’oliva', '1 all', '80g de...</td>\n",
       "      <td>['Encalentir l’oli a la paella.', 'Tirar-hi l’...</td>\n",
       "    </tr>\n",
       "    <tr>\n",
       "      <th>3</th>\n",
       "      <td>Pa (lli) amb oli amb pernil dolç/salat</td>\n",
       "      <td>NaN</td>\n",
       "      <td>['1 llesca de pa de lli', '15 g pernil dolç o ...</td>\n",
       "      <td>['Fer un pa amb oli amb pernil', 'Servir']</td>\n",
       "    </tr>\n",
       "    <tr>\n",
       "      <th>4</th>\n",
       "      <td>Crema de xampinyons i Fruits secs</td>\n",
       "      <td>NaN</td>\n",
       "      <td>['600g de xampinyons', '20g de mantega sense s...</td>\n",
       "      <td>['Fondre la mantega dins una olla a foc mitjà....</td>\n",
       "    </tr>\n",
       "  </tbody>\n",
       "</table>\n",
       "</div>"
      ],
      "text/plain": [
       "                                      nom racions  \\\n",
       "0                               Pa de lli     NaN   \n",
       "1     mb esclatassangs i una mica de carn     NaN   \n",
       "2                        Truita de gambes     NaN   \n",
       "3  Pa (lli) amb oli amb pernil dolç/salat     NaN   \n",
       "4       Crema de xampinyons i Fruits secs     NaN   \n",
       "\n",
       "                                         ingredients  \\\n",
       "0  ['440g de lli molt (llavors de lli triturades ...   \n",
       "1  [\"3 cullerades d’Oli d'oliva extra verge o eco...   \n",
       "2  ['2 ous', '7g d’oli d’oliva', '1 all', '80g de...   \n",
       "3  ['1 llesca de pa de lli', '15 g pernil dolç o ...   \n",
       "4  ['600g de xampinyons', '20g de mantega sense s...   \n",
       "\n",
       "                                              passos  \n",
       "0  ['Mesclar-ho tot', 'Deixar-ho reposar 1h', 'Po...  \n",
       "1  ['Rentar i trossejar tota la verdura.', \"Posar...  \n",
       "2  ['Encalentir l’oli a la paella.', 'Tirar-hi l’...  \n",
       "3         ['Fer un pa amb oli amb pernil', 'Servir']  \n",
       "4  ['Fondre la mantega dins una olla a foc mitjà....  "
      ]
     },
     "execution_count": 7,
     "metadata": {},
     "output_type": "execute_result"
    }
   ],
   "source": [
    "df_final.head()"
   ]
  },
  {
   "cell_type": "code",
   "execution_count": 8,
   "id": "6c1b5e66-d848-47c4-9b54-28d8643454ae",
   "metadata": {
    "tags": []
   },
   "outputs": [
    {
     "data": {
      "text/plain": [
       "1"
      ]
     },
     "execution_count": 8,
     "metadata": {},
     "output_type": "execute_result"
    }
   ],
   "source": [
    "df_final[\"nom\"].duplicated().sum()"
   ]
  },
  {
   "cell_type": "code",
   "execution_count": 9,
   "id": "f414a052-ec8f-475a-9656-703e737452c9",
   "metadata": {},
   "outputs": [
    {
     "data": {
      "text/plain": [
       "nom\n",
       "Pa (lli) amb oli amb pernil dolç/salat                          2\n",
       "Pa de lli                                                       1\n",
       "Truita d'espinacs amb formatge blau i cúrcuma                   1\n",
       "Amanida de Salmó Fumat amb Alvocat i Amaniment d'Oli d'Oliva    1\n",
       "Pit de Pollastre al Forn amb Herbes Mediterrànies               1\n",
       "                                                               ..\n",
       "Brioix de xocolata                                              1\n",
       "Fajitas de pollastre                                            1\n",
       "Amanida i Pad-thai                                              1\n",
       "Frittata de salmó, espinacs i xampinyons                        1\n",
       "Crema de pastanaga i gingebre                                   1\n",
       "Name: count, Length: 79, dtype: int64"
      ]
     },
     "execution_count": 9,
     "metadata": {},
     "output_type": "execute_result"
    }
   ],
   "source": [
    "df_final[\"nom\"].value_counts()"
   ]
  },
  {
   "cell_type": "code",
   "execution_count": 10,
   "id": "5cca8f09-1a2f-4d1c-a666-2724fbc40f19",
   "metadata": {
    "tags": []
   },
   "outputs": [],
   "source": [
    "df_final = df_final.dropna(subset=[\"nom\"])"
   ]
  },
  {
   "cell_type": "code",
   "execution_count": 11,
   "id": "420e8bef-869a-48b3-b68f-127d47390d30",
   "metadata": {
    "tags": []
   },
   "outputs": [],
   "source": [
    "df_final = df_final.drop_duplicates(subset=[\"nom\"])"
   ]
  },
  {
   "cell_type": "markdown",
   "id": "fce01161-f906-43d3-8324-3cdeef643cd8",
   "metadata": {},
   "source": [
    "### FINAL CONCAT CAT (TANDA 1 + TANDA 2)"
   ]
  },
  {
   "cell_type": "code",
   "execution_count": 12,
   "id": "3882f1c3-f3b3-4acc-bc56-a47fcfe6ed68",
   "metadata": {
    "tags": []
   },
   "outputs": [],
   "source": [
    "df1 = pd.read_csv(\"df_final6.csv\")\n",
    "df2 = pd.read_csv(\"df_final_1_4.csv\")"
   ]
  },
  {
   "cell_type": "code",
   "execution_count": 13,
   "id": "839e0617-2281-4058-8034-49acc1dce4d5",
   "metadata": {
    "tags": []
   },
   "outputs": [],
   "source": [
    "all_recetas =  pd.concat([df1, df2])"
   ]
  },
  {
   "cell_type": "code",
   "execution_count": 14,
   "id": "01d3aaab-1485-45ad-a020-ed92acf7d3e9",
   "metadata": {
    "tags": []
   },
   "outputs": [],
   "source": [
    "all_recetas = all_recetas.drop(columns=\"racions\")"
   ]
  },
  {
   "cell_type": "code",
   "execution_count": 15,
   "id": "119ff823-71a2-4ffc-a3e6-2e3a6c9de856",
   "metadata": {
    "tags": []
   },
   "outputs": [],
   "source": [
    "all_recetas_sin_duplis = all_recetas.drop_duplicates(subset=\"nom\")"
   ]
  },
  {
   "cell_type": "markdown",
   "id": "9720f82a-9957-4628-8c62-f0912e36283d",
   "metadata": {},
   "source": [
    "### PARA OBTENCIÓN CATEGORIA\n",
    "\n"
   ]
  },
  {
   "cell_type": "code",
   "execution_count": 16,
   "id": "eaab2329-99a1-4f5d-8603-1c474f8a9b91",
   "metadata": {
    "tags": []
   },
   "outputs": [],
   "source": [
    "recetas_clasificacion = all_recetas_sin_duplis[\"nom\"]"
   ]
  },
  {
   "cell_type": "code",
   "execution_count": 17,
   "id": "a13b4713-0cdb-4df7-8960-98a5004a21b1",
   "metadata": {
    "tags": []
   },
   "outputs": [],
   "source": [
    "recetas_clasificacion = pd.DataFrame(recetas_clasificacion).reset_index(drop=\"index\")"
   ]
  },
  {
   "cell_type": "code",
   "execution_count": 18,
   "id": "c72d2215-64ae-406a-90c8-88ef2c19a923",
   "metadata": {
    "tags": []
   },
   "outputs": [
    {
     "data": {
      "text/html": [
       "<div>\n",
       "<style scoped>\n",
       "    .dataframe tbody tr th:only-of-type {\n",
       "        vertical-align: middle;\n",
       "    }\n",
       "\n",
       "    .dataframe tbody tr th {\n",
       "        vertical-align: top;\n",
       "    }\n",
       "\n",
       "    .dataframe thead th {\n",
       "        text-align: right;\n",
       "    }\n",
       "</style>\n",
       "<table border=\"1\" class=\"dataframe\">\n",
       "  <thead>\n",
       "    <tr style=\"text-align: right;\">\n",
       "      <th></th>\n",
       "      <th>nom</th>\n",
       "    </tr>\n",
       "  </thead>\n",
       "  <tbody>\n",
       "    <tr>\n",
       "      <th>0</th>\n",
       "      <td>Iogurt grec amb fraules</td>\n",
       "    </tr>\n",
       "    <tr>\n",
       "      <th>1</th>\n",
       "      <td>Solomillo de vedella Strogonoff i arròs basmati</td>\n",
       "    </tr>\n",
       "    <tr>\n",
       "      <th>2</th>\n",
       "      <td>Espàrrecs embolicats en pernil</td>\n",
       "    </tr>\n",
       "    <tr>\n",
       "      <th>3</th>\n",
       "      <td>Amanida verda:</td>\n",
       "    </tr>\n",
       "    <tr>\n",
       "      <th>4</th>\n",
       "      <td>Ous remenats amb espàrrecs i formatge</td>\n",
       "    </tr>\n",
       "    <tr>\n",
       "      <th>...</th>\n",
       "      <td>...</td>\n",
       "    </tr>\n",
       "    <tr>\n",
       "      <th>149</th>\n",
       "      <td>Ou bullit amb salmó fumat i ½ alvocat</td>\n",
       "    </tr>\n",
       "    <tr>\n",
       "      <th>150</th>\n",
       "      <td>Ous remenats o fregits amb cuixot salat</td>\n",
       "    </tr>\n",
       "    <tr>\n",
       "      <th>151</th>\n",
       "      <td>Espàrrecs saltejats</td>\n",
       "    </tr>\n",
       "    <tr>\n",
       "      <th>152</th>\n",
       "      <td>Pollastre al forn a les fines herbes</td>\n",
       "    </tr>\n",
       "    <tr>\n",
       "      <th>153</th>\n",
       "      <td>Crema de pastanaga i gingebre</td>\n",
       "    </tr>\n",
       "  </tbody>\n",
       "</table>\n",
       "<p>154 rows × 1 columns</p>\n",
       "</div>"
      ],
      "text/plain": [
       "                                                 nom\n",
       "0                            Iogurt grec amb fraules\n",
       "1    Solomillo de vedella Strogonoff i arròs basmati\n",
       "2                     Espàrrecs embolicats en pernil\n",
       "3                                     Amanida verda:\n",
       "4              Ous remenats amb espàrrecs i formatge\n",
       "..                                               ...\n",
       "149            Ou bullit amb salmó fumat i ½ alvocat\n",
       "150          Ous remenats o fregits amb cuixot salat\n",
       "151                              Espàrrecs saltejats\n",
       "152             Pollastre al forn a les fines herbes\n",
       "153                    Crema de pastanaga i gingebre\n",
       "\n",
       "[154 rows x 1 columns]"
      ]
     },
     "execution_count": 18,
     "metadata": {},
     "output_type": "execute_result"
    }
   ],
   "source": [
    "recetas_clasificacion"
   ]
  },
  {
   "cell_type": "code",
   "execution_count": 19,
   "id": "b6af7cc6-b894-4d05-91d5-54575ac2cf74",
   "metadata": {
    "tags": []
   },
   "outputs": [],
   "source": [
    "recetas_clasificacion[\"desdejuni\"] = None\n",
    "recetas_clasificacion[\"dinar\"] = None\n",
    "recetas_clasificacion[\"sopar\"] = None\n",
    "recetas_clasificacion[\"snack\"] = None"
   ]
  },
  {
   "cell_type": "code",
   "execution_count": 20,
   "id": "3559a47d-a3a3-410e-8833-0cff0b2d9c16",
   "metadata": {
    "tags": []
   },
   "outputs": [
    {
     "data": {
      "text/html": [
       "<div>\n",
       "<style scoped>\n",
       "    .dataframe tbody tr th:only-of-type {\n",
       "        vertical-align: middle;\n",
       "    }\n",
       "\n",
       "    .dataframe tbody tr th {\n",
       "        vertical-align: top;\n",
       "    }\n",
       "\n",
       "    .dataframe thead th {\n",
       "        text-align: right;\n",
       "    }\n",
       "</style>\n",
       "<table border=\"1\" class=\"dataframe\">\n",
       "  <thead>\n",
       "    <tr style=\"text-align: right;\">\n",
       "      <th></th>\n",
       "      <th>nom</th>\n",
       "      <th>desdejuni</th>\n",
       "      <th>dinar</th>\n",
       "      <th>sopar</th>\n",
       "      <th>snack</th>\n",
       "    </tr>\n",
       "  </thead>\n",
       "  <tbody>\n",
       "    <tr>\n",
       "      <th>0</th>\n",
       "      <td>Iogurt grec amb fraules</td>\n",
       "      <td>None</td>\n",
       "      <td>None</td>\n",
       "      <td>None</td>\n",
       "      <td>None</td>\n",
       "    </tr>\n",
       "    <tr>\n",
       "      <th>1</th>\n",
       "      <td>Solomillo de vedella Strogonoff i arròs basmati</td>\n",
       "      <td>None</td>\n",
       "      <td>None</td>\n",
       "      <td>None</td>\n",
       "      <td>None</td>\n",
       "    </tr>\n",
       "    <tr>\n",
       "      <th>2</th>\n",
       "      <td>Espàrrecs embolicats en pernil</td>\n",
       "      <td>None</td>\n",
       "      <td>None</td>\n",
       "      <td>None</td>\n",
       "      <td>None</td>\n",
       "    </tr>\n",
       "    <tr>\n",
       "      <th>3</th>\n",
       "      <td>Amanida verda:</td>\n",
       "      <td>None</td>\n",
       "      <td>None</td>\n",
       "      <td>None</td>\n",
       "      <td>None</td>\n",
       "    </tr>\n",
       "    <tr>\n",
       "      <th>4</th>\n",
       "      <td>Ous remenats amb espàrrecs i formatge</td>\n",
       "      <td>None</td>\n",
       "      <td>None</td>\n",
       "      <td>None</td>\n",
       "      <td>None</td>\n",
       "    </tr>\n",
       "    <tr>\n",
       "      <th>...</th>\n",
       "      <td>...</td>\n",
       "      <td>...</td>\n",
       "      <td>...</td>\n",
       "      <td>...</td>\n",
       "      <td>...</td>\n",
       "    </tr>\n",
       "    <tr>\n",
       "      <th>149</th>\n",
       "      <td>Ou bullit amb salmó fumat i ½ alvocat</td>\n",
       "      <td>None</td>\n",
       "      <td>None</td>\n",
       "      <td>None</td>\n",
       "      <td>None</td>\n",
       "    </tr>\n",
       "    <tr>\n",
       "      <th>150</th>\n",
       "      <td>Ous remenats o fregits amb cuixot salat</td>\n",
       "      <td>None</td>\n",
       "      <td>None</td>\n",
       "      <td>None</td>\n",
       "      <td>None</td>\n",
       "    </tr>\n",
       "    <tr>\n",
       "      <th>151</th>\n",
       "      <td>Espàrrecs saltejats</td>\n",
       "      <td>None</td>\n",
       "      <td>None</td>\n",
       "      <td>None</td>\n",
       "      <td>None</td>\n",
       "    </tr>\n",
       "    <tr>\n",
       "      <th>152</th>\n",
       "      <td>Pollastre al forn a les fines herbes</td>\n",
       "      <td>None</td>\n",
       "      <td>None</td>\n",
       "      <td>None</td>\n",
       "      <td>None</td>\n",
       "    </tr>\n",
       "    <tr>\n",
       "      <th>153</th>\n",
       "      <td>Crema de pastanaga i gingebre</td>\n",
       "      <td>None</td>\n",
       "      <td>None</td>\n",
       "      <td>None</td>\n",
       "      <td>None</td>\n",
       "    </tr>\n",
       "  </tbody>\n",
       "</table>\n",
       "<p>154 rows × 5 columns</p>\n",
       "</div>"
      ],
      "text/plain": [
       "                                                 nom desdejuni dinar sopar  \\\n",
       "0                            Iogurt grec amb fraules      None  None  None   \n",
       "1    Solomillo de vedella Strogonoff i arròs basmati      None  None  None   \n",
       "2                     Espàrrecs embolicats en pernil      None  None  None   \n",
       "3                                     Amanida verda:      None  None  None   \n",
       "4              Ous remenats amb espàrrecs i formatge      None  None  None   \n",
       "..                                               ...       ...   ...   ...   \n",
       "149            Ou bullit amb salmó fumat i ½ alvocat      None  None  None   \n",
       "150          Ous remenats o fregits amb cuixot salat      None  None  None   \n",
       "151                              Espàrrecs saltejats      None  None  None   \n",
       "152             Pollastre al forn a les fines herbes      None  None  None   \n",
       "153                    Crema de pastanaga i gingebre      None  None  None   \n",
       "\n",
       "    snack  \n",
       "0    None  \n",
       "1    None  \n",
       "2    None  \n",
       "3    None  \n",
       "4    None  \n",
       "..    ...  \n",
       "149  None  \n",
       "150  None  \n",
       "151  None  \n",
       "152  None  \n",
       "153  None  \n",
       "\n",
       "[154 rows x 5 columns]"
      ]
     },
     "execution_count": 20,
     "metadata": {},
     "output_type": "execute_result"
    }
   ],
   "source": [
    "recetas_clasificacion"
   ]
  },
  {
   "cell_type": "code",
   "execution_count": 21,
   "id": "23571955-552e-442f-95d7-898383f65081",
   "metadata": {
    "tags": []
   },
   "outputs": [],
   "source": [
    "recetas_clasificacion.to_excel(\"recetas_clasificacion.xlsx\")"
   ]
  },
  {
   "cell_type": "code",
   "execution_count": 26,
   "id": "eba1044f-ded8-40d4-883c-62ffdf0074a3",
   "metadata": {},
   "outputs": [],
   "source": [
    "all_recetas_final = all_recetas_sin_duplis.reset_index(drop=\"index\")"
   ]
  },
  {
   "cell_type": "code",
   "execution_count": 28,
   "id": "1665f271-63c1-465e-833a-7d9cb9e13f53",
   "metadata": {
    "tags": []
   },
   "outputs": [],
   "source": [
    "all_recetas_final.to_csv(\"recetas_final_final.csv\")"
   ]
  },
  {
   "cell_type": "code",
   "execution_count": null,
   "id": "31926071-1b1b-4999-ba70-d8325c634426",
   "metadata": {},
   "outputs": [],
   "source": []
  }
 ],
 "metadata": {
  "kernelspec": {
   "display_name": "Python 3 (ipykernel)",
   "language": "python",
   "name": "python3"
  },
  "language_info": {
   "codemirror_mode": {
    "name": "ipython",
    "version": 3
   },
   "file_extension": ".py",
   "mimetype": "text/x-python",
   "name": "python",
   "nbconvert_exporter": "python",
   "pygments_lexer": "ipython3",
   "version": "3.11.5"
  }
 },
 "nbformat": 4,
 "nbformat_minor": 5
}
